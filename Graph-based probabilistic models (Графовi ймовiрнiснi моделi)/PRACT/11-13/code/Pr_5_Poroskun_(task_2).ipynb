{
 "cells": [
  {
   "cell_type": "markdown",
   "id": "d90800e0",
   "metadata": {},
   "source": [
    "# Графові ймовірнісні моделі"
   ]
  },
  {
   "cell_type": "markdown",
   "id": "cfafc1d2",
   "metadata": {},
   "source": [
    "## ПОБУДОВА ФУНКЦІЇ РОЗПОДІЛУ ЙМОВІРНОСТЕЙ СТАНІВ ТА ЧАСОВИХ РЯДІВ ДЛЯ СОЦІАЛЬНОЇ МЕРЕЖІ"
   ]
  },
  {
   "cell_type": "markdown",
   "id": "f9a73fa2",
   "metadata": {},
   "source": [
    "###  Лабораторна робота 5 (11-13)"
   ]
  },
  {
   "cell_type": "markdown",
   "id": "0afaa0e2",
   "metadata": {},
   "source": [
    "**_Студентка Пороскун Олена. Група ПМ.м-21_**"
   ]
  },
  {
   "cell_type": "markdown",
   "id": "f8bcdd80",
   "metadata": {},
   "source": [
    "*Література*\n",
    "\n",
    "[1] Олемской А.И., Хоменко А.В. Синергетика конденсированной среды: Учебное пособие.   Сумы: Изд-во СумГУ, 2002. – С. 51-88. \n",
    "http://essuir.sumdu.edu.ua/handle/123456789/15973\n",
    "\n",
    "[2] 4342 Methodological instructions for practical training on the discipline \"Nonlinear processes and models\" on the topic \"Modelling of random process\" [Текст] : for students of the speciality 113 \"Applied mathematics\" full-time training / O. V. Khomenko, A. M. Zaskoka. – Електронне вид. каф. ПМ та МСС. – Sumy : Sumy State University, 2018. – 35 p. http://lib.sumdu.edu.ua/library/docs/rio/2018/m4342.pdf\n",
    "\n",
    "[3] О. В. Хоменко, О. А. Гончаров, Моделювання нелінійних процесів та систем: навч. посібник.   Суми: Вид-во СумДУ, 2023. – 197 с."
   ]
  },
  {
   "cell_type": "markdown",
   "id": "d5faf31b",
   "metadata": {},
   "source": [
    "**Task 2**"
   ]
  },
  {
   "cell_type": "markdown",
   "id": "622dd952",
   "metadata": {},
   "source": [
    "Використовуючи алгоритм, викладений в [2, 3], побудувати часовий ряд стохастичної змінної для параметрів свого варіанту."
   ]
  },
  {
   "cell_type": "markdown",
   "id": "48840c68",
   "metadata": {},
   "source": [
    "**Варіант 8**"
   ]
  },
  {
   "cell_type": "markdown",
   "id": "d56c6e47",
   "metadata": {},
   "source": [
    "* Параметри для часового ряду: рис. 3.10, С. 93 [3].\n",
    "\n",
    "* *Алгоритм - [2], с. 21*"
   ]
  },
  {
   "cell_type": "code",
   "execution_count": 1,
   "id": "24b181ec",
   "metadata": {},
   "outputs": [],
   "source": [
    "import math\n",
    "import random\n",
    "import csv\n",
    "import numpy as np\n",
    "from matplotlib import pyplot as plt"
   ]
  },
  {
   "cell_type": "markdown",
   "id": "ab57f54d",
   "metadata": {},
   "source": [
    "* Параметри системи:"
   ]
  },
  {
   "cell_type": "code",
   "execution_count": 2,
   "id": "50dee51b",
   "metadata": {},
   "outputs": [],
   "source": [
    "pi = (4.0*math.atan(1.0))\n",
    "\n",
    "t_ALL = 5000.0\n",
    "coll_razb = 20000.0\n",
    "\n",
    "delta_t = (t_ALL/coll_razb)\n",
    "\n",
    "g = 0.2\n",
    "I_eps = 0.0\n",
    "D = 0.8\n",
    "\n",
    "I_sigma = 10**(-20)\n",
    "I_T = 100\n",
    "Te = 33\n",
    "\n",
    "tau_sigma = 1.0\n",
    "sig_0 = 0.0"
   ]
  },
  {
   "cell_type": "code",
   "execution_count": 3,
   "id": "4ea58547",
   "metadata": {},
   "outputs": [],
   "source": [
    "def BoxMuller():\n",
    "    r = np.zeros(2)\n",
    "    for j in range(2):\n",
    "        max_num = 2147483647\n",
    "        r[j] = random.randint(0, max_num) / (max_num+1)\n",
    "        if(r[j] <= 1e-10):\n",
    "            r[j] = 1e-10\n",
    "    gg = math.sqrt(math.fabs(2.0*math.log(r[0])))*math.cos(2.0*pi*r[1])\n",
    "    \n",
    "    return gg"
   ]
  },
  {
   "cell_type": "markdown",
   "id": "a01c7f39",
   "metadata": {},
   "source": [
    "* Згідно алгоритму, розраховуємо значення sigma та відповідних проміжків часу. \n",
    "\n",
    "* Записуємо ці дані у файл з назвою *data.csv*."
   ]
  },
  {
   "cell_type": "code",
   "execution_count": 4,
   "id": "687fda6d",
   "metadata": {},
   "outputs": [],
   "source": [
    "with open('data.csv', 'w',  newline='') as data_csv:\n",
    "\n",
    "    t=0.0\n",
    "    sigma1 = sig_0\n",
    "    # ff, I, sigma1, sigma2, percent, percent_new\n",
    "    percent_new = 0 \n",
    "\n",
    "    while True:\n",
    "        if(t>=t_ALL): \n",
    "            break\n",
    "        t += delta_t\n",
    "        ff = -sigma1*(1.0-g) - (g*(1.0-Te/2.0)*2.0*sigma1)/(1.0+sigma1*sigma1)\n",
    "        I = I_sigma + ((I_eps+I_T*sigma1*sigma1)*g*g)/((1.0+sigma1*sigma1)**2)\n",
    "        sigma2 = sigma1 + ff*delta_t/tau_sigma + math.sqrt(2.0*D)*math.sqrt(I)*math.sqrt(delta_t)*BoxMuller()/tau_sigma\n",
    "\n",
    "        '''\n",
    "        if(sigma2<0): \n",
    "            sigma2=0\n",
    "\n",
    "        # Potential same like in article\n",
    "        sigma2 = sigma1 +  delta_t*(sigma1-sigma1*sigma1*sigma1 + BoxMuller()*sqrt(2.0*D))\n",
    "        '''\n",
    "        \n",
    "        data = [t, sigma1]\n",
    "        writer = csv.writer(data_csv)\n",
    "        writer.writerow(data)\n",
    "\n",
    "        ##\n",
    "        percent = 100.0*t / t_ALL;\n",
    "        if math.ceil(percent) != math.ceil(percent_new):\n",
    "            #gotoxy(1,1)\n",
    "            #print(\"{:.2f}\".format(math.ceil(percent)))\n",
    "            percent_new = percent\n",
    "        ##\n",
    "        sigma1 = sigma2\n",
    "    "
   ]
  },
  {
   "cell_type": "markdown",
   "id": "a1a84741",
   "metadata": {},
   "source": [
    "* Зчитуємо дані та передаємо їх у списки у вигляді не як рядковий тип string, а як числовий float."
   ]
  },
  {
   "cell_type": "code",
   "execution_count": 5,
   "id": "8585f79d",
   "metadata": {},
   "outputs": [
    {
     "name": "stdout",
     "output_type": "stream",
     "text": [
      "t: 0.25, \tsigma1: 0.0\n",
      "t: 0.5, \tsigma1: -7.937959822265714e-12\n",
      "t: 0.75, \tsigma1: -3.156586669888453e-11\n",
      "t: 1.0, \tsigma1: -1.1087124984862536e-10\n",
      "t: 1.25, \tsigma1: -4.4065672608313345e-11\n"
     ]
    }
   ],
   "source": [
    "time = []\n",
    "sigmas1 = []\n",
    "\n",
    "with open(\"data.csv\") as data_file:\n",
    "    csv_file = csv.reader(data_file)\n",
    "    n = 0\n",
    "    for row in csv_file:\n",
    "        t, sigma1 = row\n",
    "        t, sigma1 = float(t), float(sigma1)\n",
    "        \n",
    "        if n < 5:\n",
    "            print(\"t: {}, \\tsigma1: {}\".format(t, sigma1))\n",
    "            \n",
    "        time.append(t)\n",
    "        sigmas1.append(sigma1)\n",
    "        \n",
    "        n += 1\n",
    "        "
   ]
  },
  {
   "cell_type": "markdown",
   "id": "d22be2d6",
   "metadata": {},
   "source": [
    "* Будуємо графік часових рядів."
   ]
  },
  {
   "cell_type": "code",
   "execution_count": 6,
   "id": "d3c845bb",
   "metadata": {},
   "outputs": [
    {
     "data": {
      "text/plain": [
       "<matplotlib.legend.Legend at 0x1a2ac44b760>"
      ]
     },
     "execution_count": 6,
     "metadata": {},
     "output_type": "execute_result"
    },
    {
     "data": {
      "image/png": "[encoded data removed]",
      "text/plain": [
       "<Figure size 640x480 with 1 Axes>"
      ]
     },
     "metadata": {},
     "output_type": "display_data"
    }
   ],
   "source": [
    "plt.plot(time, sigmas1, label = 'SF')\n",
    "plt.xlabel(\"time\")\n",
    "plt.ylabel(\"sigmas1\")\n",
    "plt.title(\"Графік часового ряду стохастичної змінної\")\n",
    "plt.legend(bbox_to_anchor=(1,1), loc=\"upper left\")"
   ]
  },
  {
   "cell_type": "markdown",
   "id": "3e299810",
   "metadata": {},
   "source": []
  }
 ],
 "metadata": {
  "kernelspec": {
   "display_name": "Python 3 (ipykernel)",
   "language": "python",
   "name": "python3"
  },
  "language_info": {
   "codemirror_mode": {
    "name": "ipython",
    "version": 3
   },
   "file_extension": ".py",
   "mimetype": "text/x-python",
   "name": "python",
   "nbconvert_exporter": "python",
   "pygments_lexer": "ipython3",
   "version": "3.9.13"
  }
 },
 "nbformat": 4,
 "nbformat_minor": 5
}
