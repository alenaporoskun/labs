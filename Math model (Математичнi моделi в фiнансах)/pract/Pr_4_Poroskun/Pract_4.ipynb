{
 "cells": [
  {
   "cell_type": "markdown",
   "id": "af80728f",
   "metadata": {},
   "source": [
    "# Математичні моделі в продуктовому маркетингу\n",
    "\n",
    "## Churn Prediction - EDA + Logistic Regression\n",
    "\n",
    "###  Практична робота 3\n",
    "\n",
    "1. Використовуючи підготовлені дані telecom dataset, оцініть модель Random Forest, виконайте hyperparameters tuning (see https://medium.com/swlh/random-forest-from-model-building-to-hyperparameter-tuning-in-python-5d0c07a428eb) . \n",
    "\n",
    "2. Визначте оптимальний threshold рівень. Визначте і візуалізуйте точність (ROC/AUC, Accuracy, Precision, Recall, F1 Score). Зробіть висновки.\n",
    "\n",
    "3. Оцініть feature importance різними способами, вкл. Gini  Importance, Mean Decrease Accuracy, SHAP (see https://mljar.com/blog/feature-importance-in-random-forest/, https://scikit-learn.org/stable/auto_examples/ensemble/plot_forest_importances.html).\n",
    "\n",
    "4. Збалансуйте класи вибірки за допомогою одного з методів oversampling / undersampling. Перевірте точність моделі і порівняйте її з попередньою моделлю (see https://www.analyticsvidhya.com/blog/2021/06/5-techniques-to-handle-imbalanced-data-for-a-classification-problem/).\n",
    "\n",
    "6. Визначте оптимальний threshold рівень для моделі зі збалансованими класами, спробуйте покращити точність моделі (see https://www.analyticsvidhya.com/blog/2021/06/5-techniques-to-handle-imbalanced-data-for-a-classification-problem/). \n",
    "\n",
    "Інтерпретуйте отримані результати. Зробіть висновки.\n",
    "\n",
    "**_Студентка Пороскун Олена. Група ПМ.м-21_**"
   ]
  },
  {
   "cell_type": "code",
   "execution_count": 1,
   "id": "5bc54b72",
   "metadata": {},
   "outputs": [
    {
     "name": "stdout",
     "output_type": "stream",
     "text": [
      "Requirement already satisfied: shap in c:\\users\\admin\\appdata\\roaming\\python\\python39\\site-packages (0.41.0)\n",
      "Requirement already satisfied: scipy in c:\\users\\admin\\anaconda3\\lib\\site-packages (from shap) (1.9.1)\n",
      "Requirement already satisfied: tqdm>=4.27.0 in c:\\users\\admin\\anaconda3\\lib\\site-packages (from shap) (4.64.1)\n",
      "Requirement already satisfied: pandas in c:\\users\\admin\\anaconda3\\lib\\site-packages (from shap) (1.5.2)\n",
      "Requirement already satisfied: numba in c:\\users\\admin\\anaconda3\\lib\\site-packages (from shap) (0.55.1)\n",
      "Requirement already satisfied: numpy in c:\\users\\admin\\anaconda3\\lib\\site-packages (from shap) (1.21.6)\n",
      "Requirement already satisfied: packaging>20.9 in c:\\users\\admin\\anaconda3\\lib\\site-packages (from shap) (21.3)\n",
      "Requirement already satisfied: cloudpickle in c:\\users\\admin\\anaconda3\\lib\\site-packages (from shap) (2.0.0)\n",
      "Requirement already satisfied: scikit-learn in c:\\users\\admin\\anaconda3\\lib\\site-packages (from shap) (1.0.2)\n",
      "Requirement already satisfied: slicer==0.0.7 in c:\\users\\admin\\anaconda3\\lib\\site-packages (from shap) (0.0.7)\n",
      "Requirement already satisfied: pyparsing!=3.0.5,>=2.0.2 in c:\\users\\admin\\anaconda3\\lib\\site-packages (from packaging>20.9->shap) (3.0.9)\n",
      "Requirement already satisfied: colorama in c:\\users\\admin\\anaconda3\\lib\\site-packages (from tqdm>=4.27.0->shap) (0.4.5)\n",
      "Requirement already satisfied: llvmlite<0.39,>=0.38.0rc1 in c:\\users\\admin\\anaconda3\\lib\\site-packages (from numba->shap) (0.38.0)\n",
      "Requirement already satisfied: setuptools in c:\\users\\admin\\anaconda3\\lib\\site-packages (from numba->shap) (63.4.1)\n",
      "Requirement already satisfied: pytz>=2020.1 in c:\\users\\admin\\anaconda3\\lib\\site-packages (from pandas->shap) (2022.1)\n",
      "Requirement already satisfied: python-dateutil>=2.8.1 in c:\\users\\admin\\anaconda3\\lib\\site-packages (from pandas->shap) (2.8.2)\n",
      "Requirement already satisfied: joblib>=0.11 in c:\\users\\admin\\anaconda3\\lib\\site-packages (from scikit-learn->shap) (1.1.0)\n",
      "Requirement already satisfied: threadpoolctl>=2.0.0 in c:\\users\\admin\\anaconda3\\lib\\site-packages (from scikit-learn->shap) (2.2.0)\n",
      "Requirement already satisfied: six>=1.5 in c:\\users\\admin\\anaconda3\\lib\\site-packages (from python-dateutil>=2.8.1->pandas->shap) (1.16.0)\n"
     ]
    }
   ],
   "source": [
    "!pip install shap"
   ]
  },
  {
   "cell_type": "code",
   "execution_count": 2,
   "id": "f9ca5969",
   "metadata": {},
   "outputs": [],
   "source": [
    "import pandas as pd\n",
    "import numpy as np\n",
    "import matplotlib.pyplot as plt\n",
    "import seaborn as sns"
   ]
  },
  {
   "cell_type": "code",
   "execution_count": 3,
   "id": "887c033c",
   "metadata": {},
   "outputs": [],
   "source": [
    "import warnings\n",
    "warnings.filterwarnings('ignore')"
   ]
  },
  {
   "cell_type": "code",
   "execution_count": 4,
   "id": "7d2d5ac8",
   "metadata": {},
   "outputs": [],
   "source": [
    "import os\n",
    "import numpy as np\n",
    "import pandas as pd\n",
    "\n",
    "from sklearn.ensemble import RandomForestRegressor \n",
    "from sklearn.model_selection import train_test_split, GridSearchCV\n",
    "from sklearn.metrics import mean_absolute_error, mean_squared_error\n",
    "\n",
    "from sklearn import metrics\n",
    "from sklearn.metrics import roc_curve, roc_auc_score\n",
    "from sklearn.ensemble import RandomForestClassifier"
   ]
  },
  {
   "cell_type": "code",
   "execution_count": 5,
   "id": "7ea96b11",
   "metadata": {},
   "outputs": [],
   "source": [
    "from sklearn.inspection import permutation_importance\n",
    "import shap"
   ]
  },
  {
   "cell_type": "markdown",
   "id": "27ec42a2",
   "metadata": {},
   "source": [
    "**Використовуючи підготовлені дані telecom dataset, оцініть модель Random Forest, виконайте hyperparameters tuning.**"
   ]
  },
  {
   "cell_type": "code",
   "execution_count": 6,
   "id": "c89f0685",
   "metadata": {},
   "outputs": [
    {
     "data": {
      "text/html": [
       "<div>\n",
       "<style scoped>\n",
       "    .dataframe tbody tr th:only-of-type {\n",
       "        vertical-align: middle;\n",
       "    }\n",
       "\n",
       "    .dataframe tbody tr th {\n",
       "        vertical-align: top;\n",
       "    }\n",
       "\n",
       "    .dataframe thead th {\n",
       "        text-align: right;\n",
       "    }\n",
       "</style>\n",
       "<table border=\"1\" class=\"dataframe\">\n",
       "  <thead>\n",
       "    <tr style=\"text-align: right;\">\n",
       "      <th></th>\n",
       "      <th>Account_Length</th>\n",
       "      <th>Vmail_Message</th>\n",
       "      <th>Day_Mins</th>\n",
       "      <th>Eve_Mins</th>\n",
       "      <th>Night_Mins</th>\n",
       "      <th>Intl_Mins</th>\n",
       "      <th>CustServ_Calls</th>\n",
       "      <th>Churn</th>\n",
       "      <th>Intl_Plan</th>\n",
       "      <th>Vmail_Plan</th>\n",
       "      <th>...</th>\n",
       "      <th>Day_Charge</th>\n",
       "      <th>Eve_Calls</th>\n",
       "      <th>Eve_Charge</th>\n",
       "      <th>Night_Calls</th>\n",
       "      <th>Night_Charge</th>\n",
       "      <th>Intl_Calls</th>\n",
       "      <th>Intl_Charge</th>\n",
       "      <th>State</th>\n",
       "      <th>Area_Code</th>\n",
       "      <th>Phone</th>\n",
       "    </tr>\n",
       "  </thead>\n",
       "  <tbody>\n",
       "    <tr>\n",
       "      <th>0</th>\n",
       "      <td>128</td>\n",
       "      <td>25</td>\n",
       "      <td>265.1</td>\n",
       "      <td>197.4</td>\n",
       "      <td>244.7</td>\n",
       "      <td>10.0</td>\n",
       "      <td>1</td>\n",
       "      <td>no</td>\n",
       "      <td>no</td>\n",
       "      <td>yes</td>\n",
       "      <td>...</td>\n",
       "      <td>45.07</td>\n",
       "      <td>99</td>\n",
       "      <td>16.78</td>\n",
       "      <td>91</td>\n",
       "      <td>11.01</td>\n",
       "      <td>3</td>\n",
       "      <td>2.70</td>\n",
       "      <td>KS</td>\n",
       "      <td>415</td>\n",
       "      <td>382-4657</td>\n",
       "    </tr>\n",
       "    <tr>\n",
       "      <th>1</th>\n",
       "      <td>107</td>\n",
       "      <td>26</td>\n",
       "      <td>161.6</td>\n",
       "      <td>195.5</td>\n",
       "      <td>254.4</td>\n",
       "      <td>13.7</td>\n",
       "      <td>1</td>\n",
       "      <td>no</td>\n",
       "      <td>no</td>\n",
       "      <td>yes</td>\n",
       "      <td>...</td>\n",
       "      <td>27.47</td>\n",
       "      <td>103</td>\n",
       "      <td>16.62</td>\n",
       "      <td>103</td>\n",
       "      <td>11.45</td>\n",
       "      <td>3</td>\n",
       "      <td>3.70</td>\n",
       "      <td>OH</td>\n",
       "      <td>415</td>\n",
       "      <td>371-7191</td>\n",
       "    </tr>\n",
       "    <tr>\n",
       "      <th>2</th>\n",
       "      <td>137</td>\n",
       "      <td>0</td>\n",
       "      <td>243.4</td>\n",
       "      <td>121.2</td>\n",
       "      <td>162.6</td>\n",
       "      <td>12.2</td>\n",
       "      <td>0</td>\n",
       "      <td>no</td>\n",
       "      <td>no</td>\n",
       "      <td>no</td>\n",
       "      <td>...</td>\n",
       "      <td>41.38</td>\n",
       "      <td>110</td>\n",
       "      <td>10.30</td>\n",
       "      <td>104</td>\n",
       "      <td>7.32</td>\n",
       "      <td>5</td>\n",
       "      <td>3.29</td>\n",
       "      <td>NJ</td>\n",
       "      <td>415</td>\n",
       "      <td>358-1921</td>\n",
       "    </tr>\n",
       "    <tr>\n",
       "      <th>3</th>\n",
       "      <td>84</td>\n",
       "      <td>0</td>\n",
       "      <td>299.4</td>\n",
       "      <td>61.9</td>\n",
       "      <td>196.9</td>\n",
       "      <td>6.6</td>\n",
       "      <td>2</td>\n",
       "      <td>no</td>\n",
       "      <td>yes</td>\n",
       "      <td>no</td>\n",
       "      <td>...</td>\n",
       "      <td>50.90</td>\n",
       "      <td>88</td>\n",
       "      <td>5.26</td>\n",
       "      <td>89</td>\n",
       "      <td>8.86</td>\n",
       "      <td>7</td>\n",
       "      <td>1.78</td>\n",
       "      <td>OH</td>\n",
       "      <td>408</td>\n",
       "      <td>375-9999</td>\n",
       "    </tr>\n",
       "    <tr>\n",
       "      <th>4</th>\n",
       "      <td>75</td>\n",
       "      <td>0</td>\n",
       "      <td>166.7</td>\n",
       "      <td>148.3</td>\n",
       "      <td>186.9</td>\n",
       "      <td>10.1</td>\n",
       "      <td>3</td>\n",
       "      <td>no</td>\n",
       "      <td>yes</td>\n",
       "      <td>no</td>\n",
       "      <td>...</td>\n",
       "      <td>28.34</td>\n",
       "      <td>122</td>\n",
       "      <td>12.61</td>\n",
       "      <td>121</td>\n",
       "      <td>8.41</td>\n",
       "      <td>3</td>\n",
       "      <td>2.73</td>\n",
       "      <td>OK</td>\n",
       "      <td>415</td>\n",
       "      <td>330-6626</td>\n",
       "    </tr>\n",
       "  </tbody>\n",
       "</table>\n",
       "<p>5 rows × 21 columns</p>\n",
       "</div>"
      ],
      "text/plain": [
       "   Account_Length  Vmail_Message  Day_Mins  Eve_Mins  Night_Mins  Intl_Mins  \\\n",
       "0             128             25     265.1     197.4       244.7       10.0   \n",
       "1             107             26     161.6     195.5       254.4       13.7   \n",
       "2             137              0     243.4     121.2       162.6       12.2   \n",
       "3              84              0     299.4      61.9       196.9        6.6   \n",
       "4              75              0     166.7     148.3       186.9       10.1   \n",
       "\n",
       "   CustServ_Calls Churn Intl_Plan Vmail_Plan  ...  Day_Charge  Eve_Calls  \\\n",
       "0               1    no        no        yes  ...       45.07         99   \n",
       "1               1    no        no        yes  ...       27.47        103   \n",
       "2               0    no        no         no  ...       41.38        110   \n",
       "3               2    no       yes         no  ...       50.90         88   \n",
       "4               3    no       yes         no  ...       28.34        122   \n",
       "\n",
       "   Eve_Charge  Night_Calls  Night_Charge  Intl_Calls  Intl_Charge  State  \\\n",
       "0       16.78           91         11.01           3         2.70     KS   \n",
       "1       16.62          103         11.45           3         3.70     OH   \n",
       "2       10.30          104          7.32           5         3.29     NJ   \n",
       "3        5.26           89          8.86           7         1.78     OH   \n",
       "4       12.61          121          8.41           3         2.73     OK   \n",
       "\n",
       "  Area_Code     Phone  \n",
       "0       415  382-4657  \n",
       "1       415  371-7191  \n",
       "2       415  358-1921  \n",
       "3       408  375-9999  \n",
       "4       415  330-6626  \n",
       "\n",
       "[5 rows x 21 columns]"
      ]
     },
     "execution_count": 6,
     "metadata": {},
     "output_type": "execute_result"
    }
   ],
   "source": [
    "df = pd.read_csv('Churn.csv')\n",
    "df.head()"
   ]
  },
  {
   "cell_type": "code",
   "execution_count": 7,
   "id": "6b015603",
   "metadata": {},
   "outputs": [
    {
     "data": {
      "text/plain": [
       "Account_Length    0\n",
       "Vmail_Message     0\n",
       "Day_Mins          0\n",
       "Eve_Mins          0\n",
       "Night_Mins        0\n",
       "Intl_Mins         0\n",
       "CustServ_Calls    0\n",
       "Churn             0\n",
       "Intl_Plan         0\n",
       "Vmail_Plan        0\n",
       "Day_Calls         0\n",
       "Day_Charge        0\n",
       "Eve_Calls         0\n",
       "Eve_Charge        0\n",
       "Night_Calls       0\n",
       "Night_Charge      0\n",
       "Intl_Calls        0\n",
       "Intl_Charge       0\n",
       "State             0\n",
       "Area_Code         0\n",
       "Phone             0\n",
       "dtype: int64"
      ]
     },
     "execution_count": 7,
     "metadata": {},
     "output_type": "execute_result"
    }
   ],
   "source": [
    "df.isnull().sum()"
   ]
  },
  {
   "cell_type": "code",
   "execution_count": 8,
   "id": "56f016f9",
   "metadata": {},
   "outputs": [
    {
     "name": "stdout",
     "output_type": "stream",
     "text": [
      "<class 'pandas.core.frame.DataFrame'>\n",
      "RangeIndex: 3333 entries, 0 to 3332\n",
      "Data columns (total 21 columns):\n",
      " #   Column          Non-Null Count  Dtype  \n",
      "---  ------          --------------  -----  \n",
      " 0   Account_Length  3333 non-null   int64  \n",
      " 1   Vmail_Message   3333 non-null   int64  \n",
      " 2   Day_Mins        3333 non-null   float64\n",
      " 3   Eve_Mins        3333 non-null   float64\n",
      " 4   Night_Mins      3333 non-null   float64\n",
      " 5   Intl_Mins       3333 non-null   float64\n",
      " 6   CustServ_Calls  3333 non-null   int64  \n",
      " 7   Churn           3333 non-null   object \n",
      " 8   Intl_Plan       3333 non-null   object \n",
      " 9   Vmail_Plan      3333 non-null   object \n",
      " 10  Day_Calls       3333 non-null   int64  \n",
      " 11  Day_Charge      3333 non-null   float64\n",
      " 12  Eve_Calls       3333 non-null   int64  \n",
      " 13  Eve_Charge      3333 non-null   float64\n",
      " 14  Night_Calls     3333 non-null   int64  \n",
      " 15  Night_Charge    3333 non-null   float64\n",
      " 16  Intl_Calls      3333 non-null   int64  \n",
      " 17  Intl_Charge     3333 non-null   float64\n",
      " 18  State           3333 non-null   object \n",
      " 19  Area_Code       3333 non-null   int64  \n",
      " 20  Phone           3333 non-null   object \n",
      "dtypes: float64(8), int64(8), object(5)\n",
      "memory usage: 546.9+ KB\n"
     ]
    }
   ],
   "source": [
    "df.info()"
   ]
  },
  {
   "cell_type": "code",
   "execution_count": 9,
   "id": "9f47bf23",
   "metadata": {},
   "outputs": [],
   "source": [
    "from sklearn.preprocessing import StandardScaler \n",
    "\n",
    "df.loc[df.Churn == 'no', 'Churn'] = 0\n",
    "df.loc[df.Churn == 'yes', 'Churn'] = 1\n",
    "\n",
    "df.loc[df.Intl_Plan == 'no', 'Intl_Plan'] = 0\n",
    "df.loc[df.Intl_Plan == 'yes', 'Intl_Plan'] = 1\n",
    "\n",
    "df.loc[df.Vmail_Plan == 'no', 'Vmail_Plan'] = 0\n",
    "df.loc[df.Vmail_Plan == 'yes', 'Vmail_Plan'] = 1 \n",
    "\n",
    "df = df.drop(columns = ['Phone', 'Area_Code', 'State']) \n",
    "#StandardScaler().fit_transform(df) "
   ]
  },
  {
   "cell_type": "code",
   "execution_count": 10,
   "id": "27157a60",
   "metadata": {},
   "outputs": [],
   "source": [
    "X = df.drop(columns=['Churn', ]).values\n",
    "y = df['Churn'].values\n",
    "\n",
    "y = y.astype('int')\n",
    "#y.dtypes"
   ]
  },
  {
   "cell_type": "code",
   "execution_count": 11,
   "id": "56316dd0",
   "metadata": {},
   "outputs": [],
   "source": [
    "X_train, X_test, y_train, y_test = train_test_split(X, y, test_size=0.2, random_state = 42)"
   ]
  },
  {
   "cell_type": "code",
   "execution_count": 12,
   "id": "d01aa7e2",
   "metadata": {},
   "outputs": [],
   "source": [
    "bag_forest_reg = RandomForestRegressor(n_estimators=100,\n",
    "                                       criterion=\"mse\",\n",
    "                                       n_jobs=-1,\n",
    "                                       random_state=1)\n",
    "\n",
    "bag_forest_reg.fit(X_train, y_train)\n",
    "\n",
    "train_pred_y = bag_forest_reg.predict(X_train)\n",
    "test_pred_y = bag_forest_reg.predict(X_test)"
   ]
  },
  {
   "cell_type": "code",
   "execution_count": 13,
   "id": "181d9ec0",
   "metadata": {},
   "outputs": [
    {
     "name": "stdout",
     "output_type": "stream",
     "text": [
      "train_MAE = 0.03738184546136534\n",
      "test_MAE = 0.10446776611694154\n"
     ]
    }
   ],
   "source": [
    "rf_reg = RandomForestRegressor(n_estimators=100,\n",
    "                               criterion=\"mse\",\n",
    "                               max_features=6,\n",
    "                               n_jobs=-1,\n",
    "                               random_state=1)\n",
    "\n",
    "rf_reg.fit(X_train, y_train)\n",
    "\n",
    "train_pred_y = rf_reg.predict(X_train)\n",
    "test_pred_y = rf_reg.predict(X_test)\n",
    "\n",
    "print(f\"train_MAE = {mean_absolute_error(y_train, train_pred_y)}\")\n",
    "print(f\"test_MAE = {mean_absolute_error(y_test, test_pred_y)}\")"
   ]
  },
  {
   "cell_type": "markdown",
   "id": "fa38a7e3",
   "metadata": {},
   "source": [
    "Після перевірки випадкового лісу настав час **налаштувати гіперпараметри (hyperparameters tuning )** для максимальної продуктивності. Ми будемо використовувати GridSearchCV з sklearn для налаштування наших гіперпараметрів, який дуже простий у розумінні, він пробує всі комбінації гіперпараметрів, задані в param_grid, і обчислює продуктивність моделі для кожної комбінації, використовуючи K-кратну перехресну перевірку (K-fold cross validation). У нашому випадку буде проведено (3х3х6) х cv = 162 навчання."
   ]
  },
  {
   "cell_type": "code",
   "execution_count": 14,
   "id": "e5a6b8ff",
   "metadata": {},
   "outputs": [
    {
     "name": "stdout",
     "output_type": "stream",
     "text": [
      "Fitting 3 folds for each of 54 candidates, totalling 162 fits\n"
     ]
    },
    {
     "data": {
      "text/plain": [
       "RandomForestRegressor(max_depth=10, max_features=10, n_estimators=300)"
      ]
     },
     "execution_count": 14,
     "metadata": {},
     "output_type": "execute_result"
    }
   ],
   "source": [
    "param_grid = {\n",
    "    \"n_estimators\":[100,200,300],\n",
    "    \"max_depth\":[10, 50, 100],\n",
    "    \"max_features\":[6,8,10,12,14,16]\n",
    "}\n",
    "\n",
    "rf_reg = RandomForestRegressor()\n",
    "\n",
    "rf_reg_tuned = GridSearchCV(estimator=rf_reg,\n",
    "                            param_grid=param_grid,\n",
    "                            cv=3,\n",
    "                            n_jobs=-1,\n",
    "                            verbose=2)\n",
    "\n",
    "rf_reg_tuned.fit(X_train, y_train)\n",
    "rf_reg_tuned.best_estimator_"
   ]
  },
  {
   "cell_type": "code",
   "execution_count": 15,
   "id": "334f0d02",
   "metadata": {},
   "outputs": [
    {
     "name": "stdout",
     "output_type": "stream",
     "text": [
      "train_MAE = 0.05106626572085568\n",
      "test_MAE = 0.09107735760606148\n"
     ]
    }
   ],
   "source": [
    "rf_reg = rf_reg_tuned.best_estimator_\n",
    "\n",
    "rf_reg.fit(X_train, y_train)\n",
    "\n",
    "train_pred_y = rf_reg.predict(X_train)\n",
    "test_pred_y = rf_reg.predict(X_test)\n",
    "\n",
    "print(f\"train_MAE = {mean_absolute_error(y_train, train_pred_y)}\")\n",
    "print(f\"test_MAE = {mean_absolute_error(y_test, test_pred_y)}\")"
   ]
  },
  {
   "cell_type": "code",
   "execution_count": 16,
   "id": "47766e1f",
   "metadata": {},
   "outputs": [
    {
     "data": {
      "text/html": [
       "<div>\n",
       "<style scoped>\n",
       "    .dataframe tbody tr th:only-of-type {\n",
       "        vertical-align: middle;\n",
       "    }\n",
       "\n",
       "    .dataframe tbody tr th {\n",
       "        vertical-align: top;\n",
       "    }\n",
       "\n",
       "    .dataframe thead th {\n",
       "        text-align: right;\n",
       "    }\n",
       "</style>\n",
       "<table border=\"1\" class=\"dataframe\">\n",
       "  <thead>\n",
       "    <tr style=\"text-align: right;\">\n",
       "      <th></th>\n",
       "      <th>Importance</th>\n",
       "    </tr>\n",
       "  </thead>\n",
       "  <tbody>\n",
       "    <tr>\n",
       "      <th>Day_Charge</th>\n",
       "      <td>0.147171</td>\n",
       "    </tr>\n",
       "    <tr>\n",
       "      <th>Day_Mins</th>\n",
       "      <td>0.139943</td>\n",
       "    </tr>\n",
       "    <tr>\n",
       "      <th>CustServ_Calls</th>\n",
       "      <td>0.131064</td>\n",
       "    </tr>\n",
       "    <tr>\n",
       "      <th>Intl_Plan</th>\n",
       "      <td>0.088948</td>\n",
       "    </tr>\n",
       "    <tr>\n",
       "      <th>Intl_Calls</th>\n",
       "      <td>0.076229</td>\n",
       "    </tr>\n",
       "    <tr>\n",
       "      <th>Eve_Mins</th>\n",
       "      <td>0.073732</td>\n",
       "    </tr>\n",
       "    <tr>\n",
       "      <th>Eve_Charge</th>\n",
       "      <td>0.072558</td>\n",
       "    </tr>\n",
       "    <tr>\n",
       "      <th>Intl_Mins</th>\n",
       "      <td>0.044078</td>\n",
       "    </tr>\n",
       "    <tr>\n",
       "      <th>Intl_Charge</th>\n",
       "      <td>0.041054</td>\n",
       "    </tr>\n",
       "    <tr>\n",
       "      <th>Vmail_Message</th>\n",
       "      <td>0.035425</td>\n",
       "    </tr>\n",
       "    <tr>\n",
       "      <th>Night_Mins</th>\n",
       "      <td>0.027188</td>\n",
       "    </tr>\n",
       "    <tr>\n",
       "      <th>Vmail_Plan</th>\n",
       "      <td>0.027076</td>\n",
       "    </tr>\n",
       "    <tr>\n",
       "      <th>Night_Charge</th>\n",
       "      <td>0.026963</td>\n",
       "    </tr>\n",
       "    <tr>\n",
       "      <th>Night_Calls</th>\n",
       "      <td>0.017784</td>\n",
       "    </tr>\n",
       "    <tr>\n",
       "      <th>Day_Calls</th>\n",
       "      <td>0.017256</td>\n",
       "    </tr>\n",
       "    <tr>\n",
       "      <th>Eve_Calls</th>\n",
       "      <td>0.016867</td>\n",
       "    </tr>\n",
       "    <tr>\n",
       "      <th>Account_Length</th>\n",
       "      <td>0.016665</td>\n",
       "    </tr>\n",
       "  </tbody>\n",
       "</table>\n",
       "</div>"
      ],
      "text/plain": [
       "                Importance\n",
       "Day_Charge        0.147171\n",
       "Day_Mins          0.139943\n",
       "CustServ_Calls    0.131064\n",
       "Intl_Plan         0.088948\n",
       "Intl_Calls        0.076229\n",
       "Eve_Mins          0.073732\n",
       "Eve_Charge        0.072558\n",
       "Intl_Mins         0.044078\n",
       "Intl_Charge       0.041054\n",
       "Vmail_Message     0.035425\n",
       "Night_Mins        0.027188\n",
       "Vmail_Plan        0.027076\n",
       "Night_Charge      0.026963\n",
       "Night_Calls       0.017784\n",
       "Day_Calls         0.017256\n",
       "Eve_Calls         0.016867\n",
       "Account_Length    0.016665"
      ]
     },
     "execution_count": 16,
     "metadata": {},
     "output_type": "execute_result"
    }
   ],
   "source": [
    "rf_reg_best = rf_reg_tuned.best_estimator_\n",
    "\n",
    "col_names = df.drop(columns=[\"Churn\"]).columns\n",
    "fi_df = pd.DataFrame(rf_reg_best.feature_importances_, index=col_names, columns=[\"Importance\"])\n",
    "\n",
    "fi_df.sort_values(\"Importance\", ascending=False)"
   ]
  },
  {
   "cell_type": "markdown",
   "id": "b9ba52d3",
   "metadata": {},
   "source": [
    "**Визначте оптимальний threshold рівень. Визначте і візуалізуйте точність (ROC/AUC, Accuracy, Precision, Recall, F1 Score). Зробіть висновки.**"
   ]
  },
  {
   "cell_type": "code",
   "execution_count": 17,
   "id": "b818abe2",
   "metadata": {},
   "outputs": [
    {
     "name": "stdout",
     "output_type": "stream",
     "text": [
      "Random Forest train roc_auc : 1.0\n",
      "Random Forest test roc_auc : 0.9375852779624252\n"
     ]
    }
   ],
   "source": [
    "rf_model = RandomForestClassifier()\n",
    "rf_model.fit(X_train, y_train)\n",
    "y_train_pred = rf_model.predict_proba(X_train)\n",
    "y_test_pred = rf_model.predict_proba(X_test)\n",
    "print(f\"Random Forest train roc_auc : {roc_auc_score(y_train, y_train_pred[:,1])}\")\n",
    "print(f\"Random Forest test roc_auc : {roc_auc_score(y_test, y_test_pred[:,1])}\")"
   ]
  },
  {
   "cell_type": "code",
   "execution_count": 18,
   "id": "dc66cb9b",
   "metadata": {},
   "outputs": [],
   "source": [
    "pred = []\n",
    "for model in [rf_model]:\n",
    "    pred.append(pd.Series(model.predict_proba(X_test)[:,1]))\n",
    "final_prediction = pd.concat(pred,axis = 1).mean(axis = 1)"
   ]
  },
  {
   "cell_type": "code",
   "execution_count": 19,
   "id": "7e8851e0",
   "metadata": {},
   "outputs": [],
   "source": [
    "fpr,tpr,thresholds = roc_curve(y_test, final_prediction)"
   ]
  },
  {
   "cell_type": "code",
   "execution_count": 20,
   "id": "909bcb53",
   "metadata": {},
   "outputs": [
    {
     "data": {
      "text/plain": [
       "array([1.98, 0.98, 0.96, 0.95, 0.94, 0.93, 0.91, 0.89, 0.88, 0.87, 0.86,\n",
       "       0.83, 0.81, 0.78, 0.77, 0.76, 0.73, 0.72, 0.71, 0.7 , 0.69, 0.68,\n",
       "       0.67, 0.66, 0.62, 0.61, 0.56, 0.55, 0.51, 0.49, 0.47, 0.46, 0.45,\n",
       "       0.43, 0.42, 0.41, 0.39, 0.36, 0.35, 0.33, 0.29, 0.27, 0.26, 0.25,\n",
       "       0.24, 0.23, 0.22, 0.21, 0.19, 0.17, 0.16, 0.15, 0.14, 0.13, 0.12,\n",
       "       0.11, 0.1 , 0.09, 0.08, 0.07, 0.06, 0.05, 0.04, 0.03, 0.02, 0.01,\n",
       "       0.  ])"
      ]
     },
     "execution_count": 20,
     "metadata": {},
     "output_type": "execute_result"
    }
   ],
   "source": [
    "thresholds"
   ]
  },
  {
   "cell_type": "code",
   "execution_count": 21,
   "id": "5ada5f3b",
   "metadata": {},
   "outputs": [
    {
     "name": "stdout",
     "output_type": "stream",
     "text": [
      "Оптимальний threshold рівень:\t 0.39\n"
     ]
    }
   ],
   "source": [
    "def opt_threshold_acc(y_true, y_pred):\n",
    "    A = list(zip(y_true, y_pred))\n",
    "    A = sorted(A, key=lambda x: x[1])\n",
    "    total = len(A)\n",
    "    tp = len([1 for x in A if x[0]==1])\n",
    "    tn = 0\n",
    "    th_acc = []\n",
    "    for x in A:\n",
    "        th = x[1]\n",
    "        if x[0] == 1:\n",
    "            tp -= 1\n",
    "        else:\n",
    "            tn += 1\n",
    "        acc = (tp + tn) / total\n",
    "        th_acc.append((th, acc))\n",
    "    return max(th_acc, key=lambda x: x[1])\n",
    "\n",
    "threshold_opt= opt_threshold_acc(y_test, final_prediction)\n",
    "\n",
    "print(\"Оптимальний threshold рівень:\\t\", threshold_opt[0])"
   ]
  },
  {
   "cell_type": "code",
   "execution_count": 22,
   "id": "27a6e9c1",
   "metadata": {},
   "outputs": [
    {
     "data": {
      "image/png": "[encoded data removed]",
      "text/plain": [
       "<Figure size 640x480 with 1 Axes>"
      ]
     },
     "metadata": {},
     "output_type": "display_data"
    }
   ],
   "source": [
    "#fpr, tpr, thresholds = roc_curve(y_test, final_prediction) \n",
    "auc = roc_auc_score(y_test, final_prediction)\n",
    "plt.plot(fpr, tpr, label='RandomForestClassifier,\\n area = {:.3}'.format(auc))  \n",
    "\n",
    "plt.xlabel(\"False Positive Rate\") \n",
    "plt.ylabel(\"True Positive Rate\")\n",
    "plt.title(\"ROC curve\")\n",
    "plt.plot([0, 1], [0, 1], \"k--\")  \n",
    "plt.legend(bbox_to_anchor=(1,1), loc=\"upper left\", prop={'size': 12})\n",
    "plt.show() "
   ]
  },
  {
   "cell_type": "code",
   "execution_count": 23,
   "id": "005c257c",
   "metadata": {},
   "outputs": [
    {
     "name": "stdout",
     "output_type": "stream",
     "text": [
      "Accuracy:\t 0.9490254872563718\n",
      "Precision:\t 0.9240506329113924\n",
      "Recall: \t 0.7227722772277227\n",
      "F1_score:\t 0.8111111111111111\n"
     ]
    }
   ],
   "source": [
    "# Створення класифікатора\n",
    "clf = RandomForestClassifier(n_estimators=100,\n",
    "                               max_features=12,\n",
    "                               max_depth=10,\n",
    "                               n_jobs=-1,\n",
    "                               random_state=1)\n",
    "\n",
    "# Підгонка до навчальних даних\n",
    "clf.fit(X_train, y_train)\n",
    "\n",
    "# Прогнозування міток тестового набору\n",
    "y_pred_RFC = clf.predict(X_test)\n",
    "#print(y_pred_RFC)\n",
    "\n",
    "accuracy  = metrics.accuracy_score(y_test, y_pred_RFC)\n",
    "precision = metrics.precision_score(y_test, y_pred_RFC)\n",
    "recall    = metrics.recall_score(y_test, y_pred_RFC)\n",
    "f1_score  = metrics.f1_score(y_test, y_pred_RFC)\n",
    "\n",
    "print(\"Accuracy:\\t\",  accuracy) \n",
    "print(\"Precision:\\t\", precision) \n",
    "print(\"Recall: \\t\",   recall)\n",
    "print('F1_score:\\t', f1_score)"
   ]
  },
  {
   "cell_type": "markdown",
   "id": "c5f4a3d4",
   "metadata": {},
   "source": [
    "Судячи з метрик, представлена модель має високу точність. Тому її можна застосовувати до аналізу даних."
   ]
  },
  {
   "cell_type": "markdown",
   "id": "d87ac6f9",
   "metadata": {},
   "source": [
    "**Оцініть feature importance різними способами, вкл. Gini  Importance, Mean Decrease Accuracy, SHAP**"
   ]
  },
  {
   "cell_type": "code",
   "execution_count": 24,
   "id": "702085d7",
   "metadata": {},
   "outputs": [],
   "source": [
    "X = df.drop(columns=['Churn']).values\n",
    "y = df['Churn'].values\n",
    "\n",
    "y = y.astype('int')\n",
    "#y.dtypes\n",
    "\n",
    "X_train, X_test, y_train, y_test = train_test_split(X, y, test_size=0.2, random_state = 42)"
   ]
  },
  {
   "cell_type": "code",
   "execution_count": 25,
   "id": "23f5f6d4",
   "metadata": {},
   "outputs": [],
   "source": [
    "rf = RandomForestClassifier(n_estimators=100,\n",
    "                               max_features=12,\n",
    "                               max_depth=10,\n",
    "                               n_jobs=-1,\n",
    "                               random_state=1)"
   ]
  },
  {
   "cell_type": "code",
   "execution_count": 26,
   "id": "65a5494b",
   "metadata": {},
   "outputs": [
    {
     "data": {
      "text/plain": [
       "RandomForestClassifier(max_depth=10, max_features=12, n_jobs=-1, random_state=1)"
      ]
     },
     "execution_count": 26,
     "metadata": {},
     "output_type": "execute_result"
    }
   ],
   "source": [
    "rf.fit(X_train, y_train)"
   ]
  },
  {
   "cell_type": "code",
   "execution_count": 27,
   "id": "5c3f5b04",
   "metadata": {},
   "outputs": [
    {
     "data": {
      "text/plain": [
       "array([0.0160891 , 0.03429886, 0.1440506 , 0.07568413, 0.02491817,\n",
       "       0.04184509, 0.12675026, 0.08754306, 0.03119343, 0.01646972,\n",
       "       0.14428838, 0.0155792 , 0.07264329, 0.01604114, 0.02500862,\n",
       "       0.07764782, 0.04994912])"
      ]
     },
     "execution_count": 27,
     "metadata": {},
     "output_type": "execute_result"
    }
   ],
   "source": [
    "rf.feature_importances_"
   ]
  },
  {
   "cell_type": "code",
   "execution_count": 28,
   "id": "c927f89b",
   "metadata": {},
   "outputs": [
    {
     "data": {
      "text/plain": [
       "<BarContainer object of 17 artists>"
      ]
     },
     "execution_count": 28,
     "metadata": {},
     "output_type": "execute_result"
    },
    {
     "data": {
      "image/png": "[encoded data removed]",
      "text/plain": [
       "<Figure size 640x480 with 1 Axes>"
      ]
     },
     "metadata": {},
     "output_type": "display_data"
    }
   ],
   "source": [
    "col = df.drop(columns=['Churn', ]).columns\n",
    "plt.barh(col, rf.feature_importances_)"
   ]
  },
  {
   "cell_type": "markdown",
   "id": "173e18ca",
   "metadata": {},
   "source": [
    "Permutation Based Feature Importance (with scikit-learn)"
   ]
  },
  {
   "cell_type": "code",
   "execution_count": 29,
   "id": "baa203b4",
   "metadata": {},
   "outputs": [],
   "source": [
    "perm_importance = permutation_importance(rf, X_test, y_test)"
   ]
  },
  {
   "cell_type": "code",
   "execution_count": 30,
   "id": "8509b9b0",
   "metadata": {},
   "outputs": [
    {
     "data": {
      "text/plain": [
       "Text(0.5, 0, 'Permutation Importance')"
      ]
     },
     "execution_count": 30,
     "metadata": {},
     "output_type": "execute_result"
    },
    {
     "data": {
      "image/png": "[encoded data removed]",
      "text/plain": [
       "<Figure size 640x480 with 1 Axes>"
      ]
     },
     "metadata": {},
     "output_type": "display_data"
    }
   ],
   "source": [
    "sorted_idx = perm_importance.importances_mean.argsort()\n",
    "plt.barh(col[sorted_idx], perm_importance.importances_mean[sorted_idx])\n",
    "plt.xlabel(\"Permutation Importance\")"
   ]
  },
  {
   "cell_type": "markdown",
   "id": "27a3ef93",
   "metadata": {},
   "source": [
    "Feature Importance Computed with SHAP Values"
   ]
  },
  {
   "cell_type": "code",
   "execution_count": 31,
   "id": "841be828",
   "metadata": {},
   "outputs": [],
   "source": [
    "explainer = shap.TreeExplainer(rf)\n",
    "shap_values = explainer.shap_values(X_test)"
   ]
  },
  {
   "cell_type": "code",
   "execution_count": 32,
   "id": "08177ea8",
   "metadata": {},
   "outputs": [
    {
     "data": {
      "image/png": "[encoded data removed]",
      "text/plain": [
       "<Figure size 800x830 with 1 Axes>"
      ]
     },
     "metadata": {},
     "output_type": "display_data"
    }
   ],
   "source": [
    "shap.summary_plot(shap_values, X_test, plot_type=\"bar\")"
   ]
  },
  {
   "cell_type": "markdown",
   "id": "f131d173",
   "metadata": {},
   "source": [
    "**Збалансуйте класи вибірки за допомогою одного з методів oversampling / undersampling. Перевірте точність моделі і порівняйте її з попередньою моделлю**\n",
    "\n",
    "Resampling (Oversampling and Undersampling)"
   ]
  },
  {
   "cell_type": "code",
   "execution_count": 33,
   "id": "9fe75591",
   "metadata": {},
   "outputs": [
    {
     "data": {
      "text/plain": [
       "0    2850\n",
       "1     483\n",
       "Name: Churn, dtype: int64"
      ]
     },
     "execution_count": 33,
     "metadata": {},
     "output_type": "execute_result"
    }
   ],
   "source": [
    "df['Churn'].value_counts()"
   ]
  },
  {
   "cell_type": "code",
   "execution_count": 34,
   "id": "99da283f",
   "metadata": {},
   "outputs": [
    {
     "data": {
      "text/plain": [
       "<AxesSubplot:xlabel='Churn', ylabel='count'>"
      ]
     },
     "execution_count": 34,
     "metadata": {},
     "output_type": "execute_result"
    },
    {
     "data": {
      "image/png": "[encoded data removed]",
      "text/plain": [
       "<Figure size 400x400 with 1 Axes>"
      ]
     },
     "metadata": {},
     "output_type": "display_data"
    }
   ],
   "source": [
    "plt.figure(figsize=(4,4))\n",
    "sns.countplot(df['Churn'])"
   ]
  },
  {
   "cell_type": "code",
   "execution_count": 35,
   "id": "946a5918",
   "metadata": {},
   "outputs": [],
   "source": [
    "from sklearn.utils import resample\n",
    "\n",
    "#create two different dataframe of majority and minority class \n",
    "df_majority = df[(df['Churn']==0)] \n",
    "df_minority = df[(df['Churn']==1)] \n",
    "# upsample minority class\n",
    "df_minority_upsampled = resample(df_minority, \n",
    "                                 replace=True,    # sample with replacement\n",
    "                                 n_samples= 2850, # to match majority class\n",
    "                                 random_state=42)  # reproducible results\n",
    "# Combine majority class with upsampled minority class\n",
    "df_upsampled = pd.concat([df_minority_upsampled, df_majority])"
   ]
  },
  {
   "cell_type": "code",
   "execution_count": 36,
   "id": "86764d75",
   "metadata": {},
   "outputs": [
    {
     "data": {
      "text/plain": [
       "1    2850\n",
       "0    2850\n",
       "Name: Churn, dtype: int64"
      ]
     },
     "execution_count": 36,
     "metadata": {},
     "output_type": "execute_result"
    }
   ],
   "source": [
    "df_upsampled['Churn'].value_counts()"
   ]
  },
  {
   "cell_type": "code",
   "execution_count": 37,
   "id": "b74322ba",
   "metadata": {},
   "outputs": [
    {
     "data": {
      "text/plain": [
       "<AxesSubplot:xlabel='Churn', ylabel='count'>"
      ]
     },
     "execution_count": 37,
     "metadata": {},
     "output_type": "execute_result"
    },
    {
     "data": {
      "image/png": "[encoded data removed]",
      "text/plain": [
       "<Figure size 500x400 with 1 Axes>"
      ]
     },
     "metadata": {},
     "output_type": "display_data"
    }
   ],
   "source": [
    "plt.figure(figsize=(5,4))\n",
    "sns.countplot(df_upsampled['Churn'])"
   ]
  },
  {
   "cell_type": "code",
   "execution_count": 38,
   "id": "54d56f28",
   "metadata": {},
   "outputs": [],
   "source": [
    "def funct_metrics(df):\n",
    "    X = df.drop(columns=['Churn']).values\n",
    "    y = df['Churn'].values\n",
    "    y = y.astype('int')\n",
    "\n",
    "    X_train, X_test, y_train, y_test = train_test_split(X, y, test_size=0.2, random_state = 42)\n",
    "\n",
    "    # Створення класифікатора\n",
    "    clf = RandomForestClassifier(n_estimators=100,\n",
    "                                   max_features=12,\n",
    "                                   max_depth=10,\n",
    "                                   n_jobs=-1,\n",
    "                                   random_state=1)\n",
    "\n",
    "    # Підгонка до навчальних даних\n",
    "    clf.fit(X_train, y_train)\n",
    "\n",
    "    # Прогнозування міток тестового набору\n",
    "    y_pred_RFC = clf.predict(X_test)\n",
    "    #print(y_pred_RFC)\n",
    "\n",
    "    accuracy  = metrics.accuracy_score(y_test, y_pred_RFC)\n",
    "    precision = metrics.precision_score(y_test, y_pred_RFC)\n",
    "    recall    = metrics.recall_score(y_test, y_pred_RFC)\n",
    "    f1_score  = metrics.f1_score(y_test, y_pred_RFC)\n",
    "    \n",
    "    fpr, tpr, thresholds = roc_curve(y_test, y_pred_RFC) \n",
    "    auc = roc_auc_score(y_test, y_pred_RFC) \n",
    "    \n",
    "    print(\"Accuracy:\\t\",  accuracy) \n",
    "    print(\"Precision:\\t\", precision) \n",
    "    print(\"Recall: \\t\",   recall)\n",
    "    print('F1_score:\\t', f1_score)\n",
    "    print('AUC-ROC(area):\\t', auc)  \n",
    "    \n",
    "    '''\n",
    "    plt.plot(fpr, tpr, label='RandomForestClassifier,\\n area = {:.3}'.format(auc)) \n",
    "    plt.xlabel(\"False Positive Rate\") \n",
    "    plt.ylabel(\"True Positive Rate\")\n",
    "    plt.title(\"ROC curve\")\n",
    "    plt.plot([0, 1], [0, 1], \"k--\")  \n",
    "    plt.legend(bbox_to_anchor=(1,1), loc=\"upper left\", prop={'size': 12})\n",
    "    plt.show()\n",
    "    ''' \n",
    "    \n",
    "    return accuracy, precision, recall, f1_score, auc"
   ]
  },
  {
   "cell_type": "code",
   "execution_count": 39,
   "id": "6e95c333",
   "metadata": {},
   "outputs": [
    {
     "name": "stdout",
     "output_type": "stream",
     "text": [
      "Accuracy:\t 0.9490254872563718\n",
      "Precision:\t 0.9240506329113924\n",
      "Recall: \t 0.7227722772277227\n",
      "F1_score:\t 0.8111111111111111\n",
      "AUC-ROC(area):\t 0.8560857852569709\n"
     ]
    }
   ],
   "source": [
    "metrics1 = funct_metrics(df)"
   ]
  },
  {
   "cell_type": "code",
   "execution_count": 40,
   "id": "92d4ec14",
   "metadata": {},
   "outputs": [
    {
     "name": "stdout",
     "output_type": "stream",
     "text": [
      "Accuracy:\t 0.9517543859649122\n",
      "Precision:\t 0.975177304964539\n",
      "Recall: \t 0.9306260575296108\n",
      "F1_score:\t 0.9523809523809523\n",
      "AUC-ROC(area):\t 0.9525625733913992\n"
     ]
    }
   ],
   "source": [
    "metrics2 = funct_metrics(df_upsampled)"
   ]
  },
  {
   "cell_type": "markdown",
   "id": "37ebed93",
   "metadata": {},
   "source": [
    "**Визначте оптимальний threshold рівень для моделі зі збалансованими класами, спробуйте покращити точність моделі.**"
   ]
  },
  {
   "cell_type": "code",
   "execution_count": 41,
   "id": "a54b0036",
   "metadata": {},
   "outputs": [
    {
     "name": "stdout",
     "output_type": "stream",
     "text": [
      "y_pred:\n",
      " [[0.   1.  ]\n",
      " [0.   1.  ]\n",
      " [1.   0.  ]\n",
      " ...\n",
      " [0.02 0.98]\n",
      " [0.   1.  ]\n",
      " [0.55 0.45]]\n"
     ]
    }
   ],
   "source": [
    "def funct_ytest_ypred(df_upsampled):\n",
    "    X = df_upsampled.drop(columns=['Churn']).values\n",
    "    y = df_upsampled['Churn'].values\n",
    "\n",
    "    y = y.astype('int')\n",
    "\n",
    "    X_train, X_test, y_train, y_test = train_test_split(X, y, test_size=0.2, random_state = 42)\n",
    "\n",
    "    rf_model = RandomForestClassifier()\n",
    "    rf_model.fit(X_train,y_train)   \n",
    "    y_pred = rf_model.predict_proba(X_test) #probability of the class labe\n",
    "    print('y_pred:\\n', y_pred)\n",
    "    return y_test, y_pred\n",
    "\n",
    "y_test_upsampled, y_pred_upsampled = funct_ytest_ypred(df_upsampled)"
   ]
  },
  {
   "cell_type": "code",
   "execution_count": 42,
   "id": "d5f979a4",
   "metadata": {},
   "outputs": [
    {
     "name": "stdout",
     "output_type": "stream",
     "text": [
      "Оптимальний threshold рівень:\t 0.62\n",
      "Оптимальне значення точності:\t 0.993859649122807\n"
     ]
    }
   ],
   "source": [
    "def opt_threshold_acc(y_true, y_pred):\n",
    "    A = list(zip(y_true, y_pred))\n",
    "    A = sorted(A, key=lambda x: x[1])\n",
    "    total = len(A)\n",
    "    tp = len([1 for x in A if x[0]==1])\n",
    "    tn = 0\n",
    "    th_acc = []\n",
    "    for x in A:\n",
    "        th = x[1]\n",
    "        if x[0] == 1:\n",
    "            tp -= 1\n",
    "        else:\n",
    "            tn += 1\n",
    "        acc = (tp + tn) / total\n",
    "        th_acc.append((th, acc))\n",
    "    return max(th_acc, key=lambda x: x[1])\n",
    "\n",
    "threshold_opt, accuracy_opt = opt_threshold_acc(y_test_upsampled, y_pred_upsampled[:,1])\n",
    "\n",
    "print(\"Оптимальний threshold рівень:\\t\", threshold_opt)\n",
    "print(\"Оптимальне значення точності:\\t\", accuracy_opt)"
   ]
  },
  {
   "cell_type": "markdown",
   "id": "e08acf7e",
   "metadata": {},
   "source": [
    "Отже, ми розглянули метод класифікації Random Forest, він дає досить точні результати судячи з метрик якості. Зі збалансованими класами модель дає точніші результати. Тому при аналізі даних telecom dataset варто обирати саме цей метод класифікації і використовувати модель зі збалансовуваними класами."
   ]
  },
  {
   "cell_type": "markdown",
   "id": "4cdd4483",
   "metadata": {},
   "source": [
    "_____________________________________________________________________________________________________________________"
   ]
  }
 ],
 "metadata": {
  "kernelspec": {
   "display_name": "Python 3 (ipykernel)",
   "language": "python",
   "name": "python3"
  },
  "language_info": {
   "codemirror_mode": {
    "name": "ipython",
    "version": 3
   },
   "file_extension": ".py",
   "mimetype": "text/x-python",
   "name": "python",
   "nbconvert_exporter": "python",
   "pygments_lexer": "ipython3",
   "version": "3.9.13"
  }
 },
 "nbformat": 4,
 "nbformat_minor": 5
}
