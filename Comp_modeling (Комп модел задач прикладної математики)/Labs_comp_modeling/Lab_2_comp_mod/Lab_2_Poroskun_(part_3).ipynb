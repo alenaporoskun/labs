{
 "cells": [
  {
   "cell_type": "markdown",
   "id": "fe5d4546",
   "metadata": {},
   "source": [
    "# Комп'ютерне моделювання задач прикладної математики"
   ]
  },
  {
   "cell_type": "markdown",
   "id": "3f44aa84",
   "metadata": {},
   "source": [
    "## Основи класичної молекулярної динаміки. "
   ]
  },
  {
   "cell_type": "markdown",
   "id": "f5444fe7",
   "metadata": {},
   "source": [
    "###  Лабораторна робота 2"
   ]
  },
  {
   "cell_type": "markdown",
   "id": "5e6f7e60",
   "metadata": {},
   "source": [
    "***Студентка Пороскун Олена. Група ПМ.м-21***"
   ]
  },
  {
   "cell_type": "markdown",
   "id": "1cd5391a",
   "metadata": {},
   "source": [
    "*Task 3*"
   ]
  },
  {
   "cell_type": "code",
   "execution_count": 1,
   "id": "a4fdf6d2",
   "metadata": {},
   "outputs": [],
   "source": [
    "from matplotlib import pyplot as plt"
   ]
  },
  {
   "cell_type": "code",
   "execution_count": 2,
   "id": "11e08d98",
   "metadata": {},
   "outputs": [],
   "source": [
    "import random\n",
    "import numpy as np\n",
    "import math\n",
    "import time"
   ]
  },
  {
   "cell_type": "code",
   "execution_count": 3,
   "id": "cbb76422",
   "metadata": {},
   "outputs": [],
   "source": [
    "count = 50 # кількість частинок"
   ]
  },
  {
   "cell_type": "markdown",
   "id": "be9f64b3",
   "metadata": {},
   "source": [
    "Розраховуємо випадкову величину."
   ]
  },
  {
   "cell_type": "code",
   "execution_count": 4,
   "id": "53bd9dd1",
   "metadata": {},
   "outputs": [],
   "source": [
    "def randV():\n",
    "    #random.seed(s)\n",
    "    max_num = 2147483647\n",
    "    ksi = random.randint(0, max_num) / (max_num+1) # ksi = rand_r(&seedp)/(RAND_MAX+1.0);\n",
    "    return ksi\n",
    "#randV()"
   ]
  },
  {
   "cell_type": "markdown",
   "id": "9cbe5c12",
   "metadata": {},
   "source": [
    "Розраховуємо початкові значення координат $(x_0,y_0)$ та швидкостей частинок $(vx_{0},vy_{0})$, що знаходяться у резервуарі розміром $(Lx,Ly)$."
   ]
  },
  {
   "cell_type": "code",
   "execution_count": 5,
   "id": "b2267cd2",
   "metadata": {},
   "outputs": [],
   "source": [
    "def Inital_XY(N=10, Lx = 20, Ly = 20, vmax = 20):\n",
    "    x0,  y0   = np.zeros(N), np.zeros(N)\n",
    "    vx0, vy0  = np.zeros(N), np.zeros(N)\n",
    "    for i in range(N):\n",
    "        x0[i] = randV()*Lx;\n",
    "        y0[i] = randV()*Ly;\n",
    "        vx0[i] = vmax*(2*randV() - 1);\n",
    "        vy0[i] = vmax*(2*randV() - 1);\n",
    "    return x0, y0, vx0, vy0\n",
    "#x0_, y0_, vx0_, vy0_ = Inital_XY()"
   ]
  },
  {
   "cell_type": "code",
   "execution_count": 6,
   "id": "aea3ccdf",
   "metadata": {},
   "outputs": [],
   "source": [
    "x0, y0, vx0, vy0 = Inital_XY(N=count)"
   ]
  },
  {
   "cell_type": "markdown",
   "id": "987f37e2",
   "metadata": {},
   "source": [
    "Перевіряємо межі початкових значень,"
   ]
  },
  {
   "cell_type": "code",
   "execution_count": 7,
   "id": "55632ddd",
   "metadata": {},
   "outputs": [
    {
     "name": "stdout",
     "output_type": "stream",
     "text": [
      "0.8172706048935652 0.47896682284772396\n",
      "19.723131861537695 19.90949798375368\n"
     ]
    }
   ],
   "source": [
    "print(min(x0),min(y0))\n",
    "print(max(vx0), max(vy0))"
   ]
  },
  {
   "cell_type": "markdown",
   "id": "7c1e709c",
   "metadata": {},
   "source": [
    "Перевіряємо розмірність масивів."
   ]
  },
  {
   "cell_type": "code",
   "execution_count": 8,
   "id": "d657be8c",
   "metadata": {},
   "outputs": [
    {
     "name": "stdout",
     "output_type": "stream",
     "text": [
      "(50,) (50,) (50,) (50,)\n"
     ]
    }
   ],
   "source": [
    "print(np.shape(x0),np.shape(y0), np.shape(vx0), np.shape(vy0))"
   ]
  },
  {
   "cell_type": "markdown",
   "id": "922e6d90",
   "metadata": {},
   "source": [
    "Виводимо перші 5 значень з кожного масиву."
   ]
  },
  {
   "cell_type": "code",
   "execution_count": 9,
   "id": "27efd620",
   "metadata": {},
   "outputs": [
    {
     "data": {
      "text/plain": [
       "[(5.344565445557237, 11.358099896460772),\n",
       " (1.207144232466817, 2.4572083726525307),\n",
       " (19.869896341115236, 14.526140419766307),\n",
       " (17.00371972285211, 4.76365159265697),\n",
       " (15.880661383271217, 8.696228200569749)]"
      ]
     },
     "execution_count": 9,
     "metadata": {},
     "output_type": "execute_result"
    }
   ],
   "source": [
    "list(zip(x0[:5], y0[:5]))"
   ]
  },
  {
   "cell_type": "code",
   "execution_count": 10,
   "id": "1afbcda6",
   "metadata": {},
   "outputs": [
    {
     "data": {
      "text/plain": [
       "[(8.21661189198494, -16.45287286490202),\n",
       " (-14.350154343992472, 5.645126365125179),\n",
       " (-12.086515128612518, -11.710753459483385),\n",
       " (-0.6559620052576065, -1.2511676736176014),\n",
       " (-1.293065994977951, -3.0179922468960285)]"
      ]
     },
     "execution_count": 10,
     "metadata": {},
     "output_type": "execute_result"
    }
   ],
   "source": [
    "list(zip(vx0[:5], vy0[:5])) "
   ]
  },
  {
   "cell_type": "markdown",
   "id": "f4dc769b",
   "metadata": {},
   "source": [
    "Будуємо графік координат декількох перших частинок (за замовчуванням їх буде 10 або всі). "
   ]
  },
  {
   "cell_type": "code",
   "execution_count": 11,
   "id": "461f1299",
   "metadata": {},
   "outputs": [],
   "source": [
    "def fun_plot1(x, y, n=10):\n",
    "    \n",
    "    if (n < 2):\n",
    "        n = 1   \n",
    "    if (n > len(x)):\n",
    "        n = len(x)   \n",
    "    \n",
    "    # 1 спосіб\n",
    "    for i in range(n):\n",
    "        plt.scatter(x[i], y[i], s=30, label=f'{i+1}' \" частинка\")\n",
    "        plt.text(x[i], y[i], \"  \"f'{i+1}')\n",
    "        \n",
    "    # 2 спосіб\n",
    "    #plt.scatter(x[:n], y[:n], s=20, c='m') \n",
    "\n",
    "    plt.xlabel(\"x\") \n",
    "    plt.ylabel(\"y\")\n",
    "    plt.title(\"Графік координат перших \" f'{n}' \" частинок\" )\n",
    "    if (n < 20):\n",
    "        plt.legend(bbox_to_anchor=(1,1), loc=\"upper left\")\n",
    "    ax = [0, 20, 0, 20]\n",
    "    ax2=[-1, 21, -1, 21]\n",
    "    ax3=[-1, 32, -1, 21]\n",
    "    plt.axis(ax2)\n",
    "    \n",
    "#fun_plot1(x0, y0) "
   ]
  },
  {
   "cell_type": "markdown",
   "id": "039050f0",
   "metadata": {},
   "source": [
    "Розглянемо основнi iдеї методу молекулярної динамiки. Припустимо, що мiж N(N − 1)/2 парами частинок дiє двочастинковий потенцiал.  \n",
    "$ \\\\ $   Як придатний приклад такого потенцiалу можна розглянути потенцiал Леннарда-Джонса \n",
    "$$ U(r_{12}) =  4\\varepsilon \\{ (\\frac{\\sigma}{r_{12}})^{12} - ( \\frac{\\sigma}{r_{12}})^6 \\}$$\n",
    "де $r_{12}$ — вiдстань мiж частинками 1 i 2,\n",
    "$ \\\\ $ a $\\varepsilon$ (\"вiдстань\" взаємодiї частинок 1 та 2) i σ (глибина потенцiальної ями або \"енергiя\") — сталi."
   ]
  },
  {
   "cell_type": "code",
   "execution_count": 12,
   "id": "961c9308",
   "metadata": {},
   "outputs": [],
   "source": [
    "# (двочастинковий) потенцiал Леннарда-Джонса, що діє між N(N − 1)/2 парами частинками\n",
    "def phi(r, sigma=1, eps=1):\n",
    "    sr6 = (sigma/r)**6\n",
    "    U_r = 4*eps*(sr6*sr6 - sr6)\n",
    "    return U_r"
   ]
  },
  {
   "cell_type": "markdown",
   "id": "8c5965f0",
   "metadata": {},
   "source": [
    "Такий потенцiал добре описує притягання у випадку, коли частинки вiддаленi на значну вiдстань, i вiдштовхування, коли вони зближенi. У такому разi еволюцiя системи у часi вiдбувається вiдповiдно до детермiнiстичних законiв руху кожної частинки, причому сила взаємодiї $F_{ij}$ спрощується i подається так: "
   ]
  },
  {
   "cell_type": "markdown",
   "id": "c5411f36",
   "metadata": {},
   "source": [
    "$$ \\overrightarrow{F}(|\\overrightarrow{x_i}-\\overrightarrow{x_j}|) = - \\frac{\\partial}{\\partial \\overrightarrow{x_i}}U(|\\overrightarrow{x_i}-\\overrightarrow{x_j}|) $$"
   ]
  },
  {
   "cell_type": "code",
   "execution_count": 13,
   "id": "62ab0982",
   "metadata": {},
   "outputs": [],
   "source": [
    "# сила взаємодiї між частинкамии \n",
    "def F(r, sigma=1, eps=1):\n",
    "    sr6 = (sigma/r)**6\n",
    "    F_r = 24*eps*sigma/r*sr6*(2*sr6 - 1)\n",
    "    return F_r"
   ]
  },
  {
   "cell_type": "markdown",
   "id": "312fd85c",
   "metadata": {},
   "source": [
    "*Граничні умови (коли частинка виходить за межі резервуара)*"
   ]
  },
  {
   "cell_type": "code",
   "execution_count": 14,
   "id": "59c4707e",
   "metadata": {},
   "outputs": [],
   "source": [
    "# жорсткі граничні умови\n",
    "def Test11(X, Y, Vx, Vy, Lx=20, Ly=20):\n",
    "    k=0\n",
    "    while ((X < 0) | (X > Lx) | (Y < 0) | (Y > Ly)):\n",
    "        if (X < 0):\n",
    "            X = -X\n",
    "            Vx = -Vx\n",
    "\n",
    "        if (X > Lx):\n",
    "            X = Lx-(X-Lx)\n",
    "            Vx = -Vx\n",
    "\n",
    "        if (Y < 0):\n",
    "            Y = -Y\n",
    "            Vy = -Vy \n",
    "\n",
    "        if (Y > Ly):\n",
    "            Y = Ly-(Y-Ly)\n",
    "            Vy = -Vy\n",
    "        k+=1\n",
    "    \n",
    "    return X, Y, Vx, Vy, k\n",
    "\n",
    "#X_, Y_, Vx_, Vy_, k_ = Test11(X=-4, Y=250, Vx=9, Vy=8, Lx=20, Ly=20) \n",
    "#print(X_, Y_, Vx_, Vy_) #4 10 -9 8"
   ]
  },
  {
   "cell_type": "markdown",
   "id": "f8628899",
   "metadata": {},
   "source": [
    "Використовуємо алгоритм Ейлера щоб розрахоувати координати $(x,y)$ частинок з часом та з цими даними розрахувати значення середнього часу $mpt(R)$ досягнення значення $R$(відстані, що пройшла частинка). "
   ]
  },
  {
   "cell_type": "markdown",
   "id": "ba306247",
   "metadata": {},
   "source": [
    "$$ R_i = \\sqrt{(x_i - x_{i0})^2 + (y_i - y_{i0})^2} $$"
   ]
  },
  {
   "cell_type": "markdown",
   "id": "7d07fba2",
   "metadata": {},
   "source": [
    "### $$ Алгоритм \\ Ейлера $$"
   ]
  },
  {
   "cell_type": "markdown",
   "id": "4e0f866b",
   "metadata": {},
   "source": [
    "$$ a_{xi} = \\frac{F(x_i, y_i)}{m_i}=-\\frac{1}{m_i}\\frac{\\partial}{\\partial{x_i}} U(x_i, y_i) $$\n",
    "$$ a_{yi} = \\frac{F(x_i, y_i)}{m_i}=-\\frac{1}{m_i}\\frac{\\partial}{\\partial{y_i}} U(x_i, y_i) $$\n",
    "\n",
    "$$ x_i(t+\\Delta t) = x_i(t) + v_{xi}(t)\\Delta t $$ \n",
    "$$ y_i(t+\\Delta t) = y_i(t) + v_{yi}(t)\\Delta t $$\n",
    "\n",
    "$$ v_{xi}(t+\\Delta t) = v_{xi}(t) + a_{xi}(t)\\Delta t $$ \n",
    "$$ v_{yi}(t+\\Delta t) = v_{yi}(t) + a_{yi}(t)\\Delta t $$\n",
    "\n",
    "$$ a = \\frac{dv}{dt} = \\frac{d^2x}{dt^2} $$\n",
    "$$ \\frac{dx}{dt} = v $$\n",
    "$$ \\frac{dv}{dt} = a $$"
   ]
  },
  {
   "cell_type": "code",
   "execution_count": 15,
   "id": "2a21bb06",
   "metadata": {},
   "outputs": [],
   "source": [
    "def funct3(x0, y0, vx0, vy0, R=3, mas=1, sigm=1, epsilon=1, Lx=20, Ly=20, test_ = \"Test11\"):\n",
    "    \n",
    "    N = len(x0) # к-сть частинок\n",
    "    \n",
    "    t = 0       # початковий час\n",
    "    dt = 0.0002 # крок по часу\n",
    "    \n",
    "    # тимчасовий масив координат та швидкостей\n",
    "    x_n, y_n = np.zeros(N), np.zeros(N)\n",
    "    vx_n, vy_n = np.zeros(N), np.zeros(N)\n",
    "    \n",
    "    times_R = np.zeros(N) # час для кожної частинки коли вона досягла R\n",
    "    R_i = np.zeros(N)     # саме значення R_i(>=R), яке досягла кордината\n",
    "    \n",
    "    # mean pasage time (середній час досягнення значення R)\n",
    "    mpt = 0\n",
    "    \n",
    "    for i in range(N):\n",
    "        t = 0\n",
    "        x, y = x0, y0\n",
    "        vx, vy = vx0, vy0\n",
    "        \n",
    "        while (R_i[i] < R):\n",
    "            \n",
    "            t = round(t,5)\n",
    "\n",
    "            X, Y = x[i], y[i]\n",
    "            Vx, Vy = vx[i], vy[i]\n",
    "\n",
    "            X1 = X + Vx*dt\n",
    "            Y1 = Y + Vy*dt\n",
    "\n",
    "            fx, fy = 0, 0 \n",
    "            for j in range(N):\n",
    "                if (j!=i):\n",
    "                    rx = X1 - x[j]\n",
    "                    ry = Y1 - y[j]\n",
    "                    r = math.sqrt(rx*rx + ry*ry)      \n",
    "                    if (r < math.sqrt(Lx*Lx + Ly*Ly)):\n",
    "                        Fr = F(r, sigma = sigm, eps = epsilon)\n",
    "                        Fr = Fr/mas\n",
    "                        fx += (Fr * rx / r)\n",
    "                        fy += (Fr * ry / r)\n",
    "\n",
    "            Vx1 = Vx + fx*dt\n",
    "            Vy1 = Vy + fy*dt\n",
    "\n",
    "            if (test_ == \"Test11\"):\n",
    "                X1, Y1, Vx1, Vy1, steps = Test11(X1, Y1, Vx1, Vy1)\n",
    "\n",
    "            x_n[i], y_n[i] = X1, Y1\n",
    "            vx_n[i], vy_n[i] = Vx1, Vy1    \n",
    "            \n",
    "            dx = X1 - x0[i]\n",
    "            dy = Y1 - y0[i]\n",
    "            R_i[i] += math.sqrt(dx*dx + dy*dy)\n",
    "            \n",
    "            if (R_i[i] >= R):\n",
    "                times_R[i] = t\n",
    "\n",
    "            x, y = x_n, y_n\n",
    "            vx, vy = vx_n, vy_n\n",
    "            \n",
    "            t += dt        \n",
    "    \n",
    "    mpt = np.mean(times_R)\n",
    "    mpt = round(mpt,5)\n",
    "    \n",
    "    #print(\"R\",\"\\teps\",\" \\tsigma\", \"\\tmpt \")\n",
    "    print(R,\"\\t\",epsilon,\"\\t\",sigm,\"\\t\", mpt)\n",
    "    \n",
    "    return times_R, R_i, mpt"
   ]
  },
  {
   "cell_type": "markdown",
   "id": "29b11659",
   "metadata": {},
   "source": [
    "Знайдемо середній час досягнення частинками $ R = 3 $."
   ]
  },
  {
   "cell_type": "markdown",
   "id": "12a442ef",
   "metadata": {},
   "source": [
    "* Розрахуємо дані для $ R = 3, \\ \\sigma \\ (sigma1) = [1, 3, 5, 7], \\ \\varepsilon \\ (epsilon) = 1.$"
   ]
  },
  {
   "cell_type": "code",
   "execution_count": 16,
   "id": "7c7aa348",
   "metadata": {},
   "outputs": [
    {
     "name": "stdout",
     "output_type": "stream",
     "text": [
      "R \t eps   \t sigma \t mpt1\n",
      "3 \t 1 \t 0.1 \t 0.01048\n",
      "3 \t 1 \t 0.4 \t 0.01048\n",
      "3 \t 1 \t 1 \t 0.00984\n",
      "3 \t 1 \t 1.5 \t 0.00742\n",
      "Ця частина коду виконувалася 1.86 seconds.\n"
     ]
    }
   ],
   "source": [
    "start_time = time.time()\n",
    "sigma1 = [0.1, 0.4, 1, 1.5]\n",
    "#sigma1 = [1, 1.5, 2, 2.5]\n",
    "times1 = []   #\n",
    "Ri1    = []   #\n",
    "mpt1   = []   # mean pasage time (середній час досягнення значення R)\n",
    "print(\"R\",\"\\t eps \",\" \\t sigma\", \"\\t mpt1\")\n",
    "for i in range(len(sigma1)):\n",
    "    times_, Ri_, mpt_ = funct3(x0, y0, vx0, vy0, sigm = sigma1[i], epsilon = 1)\n",
    "    times1.append(times_)\n",
    "    Ri1.append(Ri_)\n",
    "    mpt1.append(mpt_)\n",
    "print(\"Ця частина коду виконувалася %s seconds.\" % round(time.time() - start_time, 2)) "
   ]
  },
  {
   "cell_type": "markdown",
   "id": "7967c9de",
   "metadata": {},
   "source": [
    "Перевіримо розмірність нових масивів."
   ]
  },
  {
   "cell_type": "code",
   "execution_count": 17,
   "id": "b8b53396",
   "metadata": {},
   "outputs": [
    {
     "name": "stdout",
     "output_type": "stream",
     "text": [
      "(4, 50)\n",
      "(4, 50)\n",
      "(4,)\n"
     ]
    }
   ],
   "source": [
    "print(np.shape(times1))\n",
    "print(np.shape(Ri1))\n",
    "print(np.shape(mpt1))"
   ]
  },
  {
   "cell_type": "markdown",
   "id": "67a54700",
   "metadata": {},
   "source": [
    "* Розрахуємо дані для $ R = 3, \\sigma \\ (sigma) = 1, \\varepsilon \\ (epsilon2) = [0.5, 1, 1.5, 2].$"
   ]
  },
  {
   "cell_type": "code",
   "execution_count": 18,
   "id": "35fc6315",
   "metadata": {},
   "outputs": [
    {
     "name": "stdout",
     "output_type": "stream",
     "text": [
      "R \t eps  \t sigma \t mpt2\n",
      "3 \t 1 \t 1 \t 0.00984\n",
      "3 \t 3 \t 1 \t 0.00922\n",
      "3 \t 5 \t 1 \t 0.00903\n",
      "3 \t 10 \t 1 \t 0.00878\n",
      "Ця частина коду виконувалася 1.03 seconds.\n"
     ]
    }
   ],
   "source": [
    "start_time = time.time()\n",
    "epsilon2 = [1, 3, 5, 10]\n",
    "times2 = []   #\n",
    "Ri2    = []   #\n",
    "mpt2   = []   # mean pasage time (середній час досягнення значення R)\n",
    "print(\"R\",\"\\t eps\",\" \\t sigma\", \"\\t mpt2\")\n",
    "for i in range(len(epsilon2)):\n",
    "    times_, Ri_, mpt_ = funct3(x0, y0, vx0, vy0, sigm = 1, epsilon = epsilon2[i])\n",
    "    times2.append(times_)\n",
    "    Ri2.append(Ri_)\n",
    "    mpt2.append(mpt_)\n",
    "print(\"Ця частина коду виконувалася %s seconds.\" % round(time.time() - start_time, 2)) "
   ]
  },
  {
   "cell_type": "code",
   "execution_count": 19,
   "id": "fcf25ec1",
   "metadata": {},
   "outputs": [
    {
     "name": "stdout",
     "output_type": "stream",
     "text": [
      "(4, 50)\n",
      "(4, 50)\n",
      "(4,)\n"
     ]
    }
   ],
   "source": [
    "print(np.shape(times2))\n",
    "print(np.shape(Ri2))\n",
    "print(np.shape(mpt2))"
   ]
  },
  {
   "cell_type": "markdown",
   "id": "8cffcce2",
   "metadata": {},
   "source": [
    "Функція, що априксимує дані, повертає: \n",
    "* coef - коефіцієнти рівняння, яке відповідає початковим даним, \n",
    "* polinom - рівняння з коефіцієнтами, \n",
    "* mpt_to_compare - значення функції для порівняння зі початковими."
   ]
  },
  {
   "cell_type": "code",
   "execution_count": 20,
   "id": "2aeb239d",
   "metadata": {},
   "outputs": [],
   "source": [
    "def fun_aprox(X, mpt):\n",
    "    k=1\n",
    "    mpt_new = mpt*0\n",
    "    eps = 1000\n",
    "    bool_mpt = 0\n",
    "\n",
    "    while ((eps >= 0.00001) & (k<10)):\n",
    "        coef = np.polyfit(X, mpt,k)\n",
    "        polinom = np.poly1d(coef)\n",
    "        mpt_to_compare = polinom(X)\n",
    "        \n",
    "        mpt_old = np.round(mpt,5)\n",
    "        mpt_to_compare = np.round(mpt_to_compare,5)\n",
    "\n",
    "        eps = abs(mpt_old[0] - mpt_to_compare[0])\n",
    "        bool_mpt = np.sum(mpt_old == mpt_to_compare)\n",
    "\n",
    "        #print(\"\\n k =\",k)\n",
    "        #print(\"coef:\", coef)\n",
    "        #print(\"y = aprox(x):\\n\",polinom)\n",
    "        #print(\"Перевiрка:\\n\", \" X =\", X, \"\\n mpt = \", mpt_old,\"\\n mpt_to_compare =\", mpt_to_compare)\n",
    "        #print(\"bool_mpt =\",bool_mpt)\n",
    "        #print(\"eps =\",eps)\n",
    "\n",
    "        k += 1\n",
    "\n",
    "    print(\"coef:\", coef)\n",
    "    print(\"y = aprox(x) :\\n\",polinom)\n",
    "    print(\"Перевiрка:\\n\", \" X =\", X, \"\\n\", mpt_old, \"= mpt\\n\",mpt_to_compare,\"= mpt_to_compare\")\n",
    "    \n",
    "    return coef, polinom, mpt_to_compare\n",
    "\n",
    "#c0, p0, mpt_to_compare0 = fun_aprox(sigma, mpt)"
   ]
  },
  {
   "cell_type": "markdown",
   "id": "c87d76df",
   "metadata": {},
   "source": [
    "Побудуємо тепер початкові дані та знайдену криву."
   ]
  },
  {
   "cell_type": "code",
   "execution_count": 21,
   "id": "5f04908d",
   "metadata": {},
   "outputs": [
    {
     "name": "stdout",
     "output_type": "stream",
     "text": [
      "coef: [-0.00160366  0.0012203  -0.00027338  0.01049674]\n",
      "y = aprox(x) :\n",
      "            3           2\n",
      "-0.001604 x + 0.00122 x - 0.0002734 x + 0.0105\n",
      "Перевiрка:\n",
      "  X = [0.1, 0.4, 1, 1.5] \n",
      " [0.01048 0.01048 0.00984 0.00742] = mpt\n",
      " [0.01048 0.01048 0.00984 0.00742] = mpt_to_compare\n"
     ]
    },
    {
     "data": {
      "image/png": "[encoded data removed]",
      "text/plain": [
       "<Figure size 640x480 with 1 Axes>"
      ]
     },
     "metadata": {},
     "output_type": "display_data"
    }
   ],
   "source": [
    "def fun_plot31(mpt, sigm = [0.1, 0.4, 1, 1.5]):\n",
    "    \n",
    "    plt.scatter(sigm, mpt, label=\"Початковi значення функції y = mpt($\\sigma$)\", s=40, c='m')\n",
    "    \n",
    "    # порівняння з апроксимованою кривою деякого степеня\n",
    "    #sigm_new = np.linspace(0.5, 8.5, 50)\n",
    "    \n",
    "    min_sigm = min(sigm)\n",
    "    max_sigm  = max(sigm)\n",
    "    sigm_new = np.linspace(min_sigm-0.2, max_sigm+0.5, 50)\n",
    "    \n",
    "    coef, polinom, mpt_to_compare = fun_aprox(sigm, mpt)\n",
    "    mpt_new = polinom(sigm_new)\n",
    "    plt.plot(sigm_new, mpt_new, label = \"y = aprox(x)\", linewidth = 1, c='c')\n",
    "    \n",
    "    plt.xlabel(\"$\\sigma$ (sigma)\")\n",
    "    plt.ylabel(\"mpt\")\n",
    "    plt.title(\"Графік mpt в залежності від $\\sigma$ (sigma)\")\n",
    "    plt.legend(bbox_to_anchor=(1,1), loc=\"upper left\")\n",
    "\n",
    "fun_plot31(mpt1, sigma1)"
   ]
  },
  {
   "cell_type": "code",
   "execution_count": 22,
   "id": "2a0ca091",
   "metadata": {},
   "outputs": [
    {
     "name": "stdout",
     "output_type": "stream",
     "text": [
      "coef: [-5.25793651e-06  1.01071429e-04 -6.45932540e-04  1.03901190e-02]\n",
      "y = aprox(x) :\n",
      "             3             2\n",
      "-5.258e-06 x + 0.0001011 x - 0.0006459 x + 0.01039\n",
      "Перевiрка:\n",
      "  X = [1, 3, 5, 10] \n",
      " [0.00984 0.00922 0.00903 0.00878] = mpt\n",
      " [0.00984 0.00922 0.00903 0.00878] = mpt_to_compare\n"
     ]
    },
    {
     "data": {
      "image/png": "[encoded data removed]",
      "text/plain": [
       "<Figure size 640x480 with 1 Axes>"
      ]
     },
     "metadata": {},
     "output_type": "display_data"
    }
   ],
   "source": [
    "def fun_plot32(mpt, epsilon = [1, 3, 5, 10]):\n",
    "    \n",
    "    plt.scatter(epsilon, mpt, label=\"Початковi значення функції y = mpt($\\epsilon$)\", s=40, c='m')\n",
    "    \n",
    "    # порівняння з апроксимованою кривою деякого степеня\n",
    "    min_eps = min(epsilon)\n",
    "    max_eps = max(epsilon)\n",
    "    epsilon_new = np.linspace(min_eps-0.5, max_eps+1, 50)\n",
    "    coef, polinom, mpt_to_compare = fun_aprox(epsilon, mpt)\n",
    "    mpt_new = polinom(epsilon_new)\n",
    "    plt.plot(epsilon_new, mpt_new, label = \"y = aprox(x)\", linewidth = 1, c='c')\n",
    "    \n",
    "    plt.xlabel(\" $ \\epsilon $\")\n",
    "    plt.ylabel(\"mpt\")\n",
    "    plt.title(\"Графік mpt в залежності від $ \\epsilon $ (epsilon)\")\n",
    "    plt.legend(bbox_to_anchor=(1,1), loc=\"upper left\")\n",
    "\n",
    "fun_plot32(mpt2, epsilon2)"
   ]
  },
  {
   "cell_type": "markdown",
   "id": "88b1f06a",
   "metadata": {},
   "source": [
    "### ---------------------------------------------------------------------------------------------"
   ]
  },
  {
   "cell_type": "raw",
   "id": "a3dc1c7f",
   "metadata": {},
   "source": [
    " "
   ]
  }
 ],
 "metadata": {
  "kernelspec": {
   "display_name": "Python 3 (ipykernel)",
   "language": "python",
   "name": "python3"
  },
  "language_info": {
   "codemirror_mode": {
    "name": "ipython",
    "version": 3
   },
   "file_extension": ".py",
   "mimetype": "text/x-python",
   "name": "python",
   "nbconvert_exporter": "python",
   "pygments_lexer": "ipython3",
   "version": "3.9.13"
  }
 },
 "nbformat": 4,
 "nbformat_minor": 5
}
