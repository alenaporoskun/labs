{
 "cells": [
  {
   "cell_type": "markdown",
   "metadata": {},
   "source": [
    "## Керування потоком"
   ]
  },
  {
   "cell_type": "markdown",
   "metadata": {},
   "source": [
    "Для перевірки умов і виконання відповідних дій використовується конструкції\n",
    "if-else з наступним синтаксисом:"
   ]
  },
  {
   "cell_type": "code",
   "execution_count": null,
   "metadata": {},
   "outputs": [],
   "source": [
    "x=-1\n",
    "if x <0: \n",
    "    print(f\"{x}<0\")\n",
    "elif x==0:\n",
    "    print(\"x=0\")\n",
    "else: \n",
    "    print(f\"{x}>0\")"
   ]
  },
  {
   "cell_type": "markdown",
   "metadata": {},
   "source": [
    "Для циклів існує ще ряд корисних комманд: **pass** (визначає порожній блок, що нічого не виконує), **break** (дозволяє вийти із циклу достроково) і **continue** (перейти до наступної ітерації циклу без виконання інструкцій, що залишилися, у блоці).\n",
    "\n",
    "Розглянемо конструкцію з оператором while, який дозволяє виконувати блок коду доти, поки виконується умова:"
   ]
  },
  {
   "cell_type": "code",
   "execution_count": null,
   "metadata": {},
   "outputs": [],
   "source": [
    "s = 0\n",
    "while True: # Ця умова завжди виконується\n",
    "    s += 1 # s=s+1\n",
    "    if s % 2 == 0: # Через раз\n",
    "        print (\"Continue\") # замість s буде виведено \"continue\"\n",
    "        continue # і код нижче в такому разі не буде виконаний в цій ітерації\n",
    "        print (\"Цей рядок не з'являється\")\n",
    "    else:\n",
    "        print (s) # буде пропущено\n",
    "    if s> 10: # За допомогою цієї конструкції\n",
    "        break # нескінченний цикл достроково переривається\n"
   ]
  },
  {
   "cell_type": "markdown",
   "metadata": {},
   "source": [
    "Убудований об'єкт range дозволяє ітеруватися  по цілих числах:"
   ]
  },
  {
   "cell_type": "code",
   "execution_count": null,
   "metadata": {},
   "outputs": [],
   "source": [
    "for i in range(6,10): # генерує 6, 7, 8, 9 range є генератором\n",
    "    print(i)"
   ]
  },
  {
   "cell_type": "markdown",
   "metadata": {},
   "source": [
    "## Функції"
   ]
  },
  {
   "cell_type": "code",
   "execution_count": null,
   "metadata": {},
   "outputs": [],
   "source": [
    "def myrange(a,b):\n",
    "    res = [ ]\n",
    "    s = a\n",
    "    while s!=b:\n",
    "        res.append(s)\n",
    "        s+=1\n",
    "    return res\n",
    "\n",
    "myrange(1,5)"
   ]
  },
  {
   "cell_type": "markdown",
   "metadata": {},
   "source": [
    "**Конструкція map** — це вбудована функція, яка дозволяє обробляти і перетворювати всі елементи в об'єкті, що ітерується без використання явного циклу for, методом, широко відомим як зіставлення (mapping)."
   ]
  },
  {
   "cell_type": "code",
   "execution_count": null,
   "metadata": {},
   "outputs": [],
   "source": [
    "def sq(x):\n",
    "    return x ** 2\n",
    "\n",
    "a=map(sq, range(10))\n",
    "print(list(map(sq, range(10)))) # Є генератором\n",
    "print(a)\n",
    "print(list(a))"
   ]
  },
  {
   "cell_type": "markdown",
   "metadata": {},
   "source": [
    "**Лямбда-функції** в Python дозволяють функції бути створеною і переданою (часто іншою функцією) в одному рядку коду. Лямбда-функції – це особливий синтаксис для створення функцій. Вони можуть мати лише один оператор та автоматично повертають його результат."
   ]
  },
  {
   "cell_type": "code",
   "execution_count": null,
   "metadata": {},
   "outputs": [],
   "source": [
    "sq = lambda x: x**2\n",
    "print(sq)"
   ]
  },
  {
   "cell_type": "code",
   "execution_count": null,
   "metadata": {},
   "outputs": [],
   "source": [
    "sq(3)"
   ]
  },
  {
   "cell_type": "code",
   "execution_count": null,
   "metadata": {},
   "outputs": [],
   "source": [
    "print(list(map(lambda x: x**2, range(10))))"
   ]
  },
  {
   "cell_type": "markdown",
   "metadata": {},
   "source": [
    "За допомогою наступної конструкції можна створювати списки"
   ]
  },
  {
   "cell_type": "code",
   "execution_count": null,
   "metadata": {},
   "outputs": [],
   "source": [
    "w = [ x ** 2 for x in range(1,5) ]\n",
    "print(w)"
   ]
  },
  {
   "cell_type": "code",
   "execution_count": null,
   "metadata": {
    "scrolled": true
   },
   "outputs": [],
   "source": [
    "w = [ x ** 2 for x in range(1,11) if x % 2 == 0]\n",
    "print(w)"
   ]
  }
 ],
 "metadata": {
  "kernelspec": {
   "display_name": "Python 3 (ipykernel)",
   "language": "python",
   "name": "python3"
  },
  "language_info": {
   "codemirror_mode": {
    "name": "ipython",
    "version": 3
   },
   "file_extension": ".py",
   "mimetype": "text/x-python",
   "name": "python",
   "nbconvert_exporter": "python",
   "pygments_lexer": "ipython3",
   "version": "3.9.7"
  }
 },
 "nbformat": 4,
 "nbformat_minor": 4
}
