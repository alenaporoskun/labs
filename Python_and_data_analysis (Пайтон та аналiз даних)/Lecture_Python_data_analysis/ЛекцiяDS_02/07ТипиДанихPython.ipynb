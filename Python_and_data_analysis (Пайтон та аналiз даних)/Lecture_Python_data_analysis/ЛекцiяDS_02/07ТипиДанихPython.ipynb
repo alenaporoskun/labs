{
 "cells": [
  {
   "cell_type": "markdown",
   "metadata": {},
   "source": [
    "# Типи даних в Python 3"
   ]
  },
  {
   "cell_type": "markdown",
   "metadata": {},
   "source": [
    "## Вступ"
   ]
  },
  {
   "cell_type": "markdown",
   "metadata": {},
   "source": [
    "У комірці можна  перевірити яку-небудь гіпотезу, виконати чисельний експеримент або просто використати як калькулятор"
   ]
  },
  {
   "cell_type": "code",
   "execution_count": null,
   "metadata": {},
   "outputs": [],
   "source": [
    "1+2"
   ]
  },
  {
   "cell_type": "code",
   "execution_count": null,
   "metadata": {},
   "outputs": [],
   "source": [
    "print(\"Hey\")"
   ]
  },
  {
   "cell_type": "markdown",
   "metadata": {},
   "source": [
    "Щоб одержати довідку з якої-небудь функції, можна скористатися    функцією\n",
    "help(), наприклад, так:"
   ]
  },
  {
   "cell_type": "code",
   "execution_count": null,
   "metadata": {},
   "outputs": [],
   "source": [
    "help(print)"
   ]
  },
  {
   "cell_type": "markdown",
   "metadata": {},
   "source": [
    "Також в jupyter notebook можна отримати допомогу (викликати docstring) викрисовуючи комбінацію **Shift-Tab** (курсор повинен знаходитись у полі функції, інформацію по яку ми бажаємо отримати). Можна використати знак запитання на початку функції, наприклад, ?print. "
   ]
  },
  {
   "cell_type": "markdown",
   "metadata": {},
   "source": [
    "Для того, щоб оголосити змінну, використовують наступний код:"
   ]
  },
  {
   "cell_type": "code",
   "execution_count": null,
   "metadata": {},
   "outputs": [],
   "source": [
    "num = 1 # змінній  num надали значення 1"
   ]
  },
  {
   "cell_type": "code",
   "execution_count": null,
   "metadata": {},
   "outputs": [],
   "source": [
    "type(num)"
   ]
  },
  {
   "cell_type": "markdown",
   "metadata": {},
   "source": [
    "В Python **імена змінних** можуть містити букви, цифри й символ нижнього подкреслення. При цьому починатися змінна повинна або з букви, або із символу нижнього підкреслення.\n",
    "\n",
    "**Блоки коду** відділяються за допомогою відступів. Для приклада напишемо програмку, що буде друкувати на екран числа від 0 до 3. Блок коду усередині конструкції for відділений за допомогою чотирьох пробілів."
   ]
  },
  {
   "cell_type": "code",
   "execution_count": null,
   "metadata": {},
   "outputs": [],
   "source": [
    "for i in range(4):\n",
    "    print(i)\n",
    "print(\"The end\")"
   ]
  },
  {
   "cell_type": "markdown",
   "metadata": {},
   "source": [
    "Коментарі в Python пишуться з використанням спеціального символу #, після якого йде текст коментарю. У програмах також зустрічаються багатострокові коментарі:"
   ]
  },
  {
   "cell_type": "code",
   "execution_count": null,
   "metadata": {},
   "outputs": [],
   "source": [
    "print(\"Hello\") # це коментар \n",
    "\"\"\"\n",
    "А це \n",
    "багатостроковий\n",
    "коментар\n",
    "\"\"\"\n"
   ]
  },
  {
   "cell_type": "code",
   "execution_count": null,
   "metadata": {},
   "outputs": [],
   "source": [
    "print.__doc__"
   ]
  },
  {
   "cell_type": "markdown",
   "metadata": {},
   "source": [
    "## 1. Числові типи"
   ]
  },
  {
   "cell_type": "markdown",
   "metadata": {},
   "source": [
    "### int -- цілі числа"
   ]
  },
  {
   "cell_type": "code",
   "execution_count": null,
   "metadata": {},
   "outputs": [],
   "source": [
    "n = 5\n",
    "\n",
    "print(n,type(num))"
   ]
  },
  {
   "cell_type": "markdown",
   "metadata": {},
   "source": [
    "Арифметичні дії"
   ]
  },
  {
   "cell_type": "code",
   "execution_count": null,
   "metadata": {},
   "outputs": [],
   "source": [
    "a = 4 + 5\n",
    "b = 4 * 5\n",
    "c = 5 / 4\n",
    "\n",
    "print(a, b, c)"
   ]
  },
  {
   "cell_type": "markdown",
   "metadata": {},
   "source": [
    "### float -- числа із плаваючою крапкою"
   ]
  },
  {
   "cell_type": "code",
   "execution_count": null,
   "metadata": {},
   "outputs": [],
   "source": [
    "y = 5.7"
   ]
  },
  {
   "cell_type": "code",
   "execution_count": null,
   "metadata": {},
   "outputs": [],
   "source": [
    "print(y, type(y))"
   ]
  },
  {
   "cell_type": "markdown",
   "metadata": {},
   "source": [
    "Python підтримує експоненціальне подання числа "
   ]
  },
  {
   "cell_type": "code",
   "execution_count": null,
   "metadata": {},
   "outputs": [],
   "source": [
    "num = 1.5e18\n",
    "print(num)"
   ]
  },
  {
   "cell_type": "markdown",
   "metadata": {},
   "source": [
    "Python уміє працювати з комплексними числами:"
   ]
  },
  {
   "cell_type": "code",
   "execution_count": null,
   "metadata": {},
   "outputs": [],
   "source": [
    "num = 14 + 1j\n",
    "print(type(num)) \n",
    "print(num.real) \n",
    "print(num.imag)"
   ]
  },
  {
   "cell_type": "markdown",
   "metadata": {},
   "source": [
    "Також в Python є модулі decimal (дозволяє працювати з дійсними числами з фіксованою точністю) і fractions (дозволяє працювати з раціональними числами, тобто дробами)."
   ]
  },
  {
   "cell_type": "markdown",
   "metadata": {},
   "source": [
    "Python підтримує арифметичні операції із числами"
   ]
  },
  {
   "cell_type": "code",
   "execution_count": null,
   "metadata": {},
   "outputs": [],
   "source": [
    "print(4 * 5.25) # множення\n",
    "print(2 ** 4) # підведення в степінь 4\n",
    "print(10 // 3) # цілочисельне ділення\n",
    "print(10 % 3) # залишок від цілочисельного ділення"
   ]
  },
  {
   "cell_type": "markdown",
   "metadata": {},
   "source": [
    "## 2 bool -- логічний  тип (True, False)"
   ]
  },
  {
   "cell_type": "code",
   "execution_count": null,
   "metadata": {},
   "outputs": [],
   "source": [
    "print(3 > 4)\n",
    "print(3 <= 3)\n",
    "print(6 >= 6)\n",
    "print(6 < 5)"
   ]
  },
  {
   "cell_type": "code",
   "execution_count": null,
   "metadata": {},
   "outputs": [],
   "source": [
    "a = 3 > 4\n",
    "print(a, type(a))"
   ]
  },
  {
   "cell_type": "markdown",
   "metadata": {},
   "source": [
    "**Визначимо, чи є рік високосним.** Рік є високосним якщо він кратний 4, але при цьому не кратний 100, або кратний 400. З використанням логічних виразів рішення реалізується в три рядки"
   ]
  },
  {
   "cell_type": "code",
   "execution_count": null,
   "metadata": {},
   "outputs": [],
   "source": [
    "year = 2022\n",
    "is_leap = (year % 4 == 0 and (year % 100 != 0 or year % 400 == 0)) \n",
    "print(is_leap)"
   ]
  },
  {
   "cell_type": "markdown",
   "metadata": {},
   "source": [
    "Це завдання ми могли вирішити ще простіше - усього у два рядки, використовуючи модуль бібліотеки calendar"
   ]
  },
  {
   "cell_type": "code",
   "execution_count": null,
   "metadata": {},
   "outputs": [],
   "source": [
    "import calendar\n",
    "print(calendar.isleap(2022))"
   ]
  },
  {
   "cell_type": "markdown",
   "metadata": {},
   "source": [
    "## 3. None"
   ]
  },
  {
   "cell_type": "markdown",
   "metadata": {},
   "source": [
    "Об'єкт None є єдиним значенням спеціального типу NoneType, що використовується для того, щоб підкреслити відсутність значення."
   ]
  },
  {
   "cell_type": "code",
   "execution_count": null,
   "metadata": {},
   "outputs": [],
   "source": [
    "z = None\n",
    "print(z)\n",
    "print(type(z))"
   ]
  },
  {
   "cell_type": "markdown",
   "metadata": {},
   "source": [
    "## 4. str -- строковий тип"
   ]
  },
  {
   "cell_type": "code",
   "execution_count": null,
   "metadata": {},
   "outputs": [],
   "source": [
    "example_string = \"Курс про Python\" \n",
    "print(example_string)\n",
    "print(type(example_string))"
   ]
  },
  {
   "cell_type": "markdown",
   "metadata": {},
   "source": [
    "Як об'єднати 2 рядка в одну?"
   ]
  },
  {
   "cell_type": "code",
   "execution_count": null,
   "metadata": {},
   "outputs": [],
   "source": [
    "a=\"Можна\" + \" просто \" + \"складати\" + \" рядки\"\n",
    "print(a)"
   ]
  },
  {
   "cell_type": "code",
   "execution_count": null,
   "metadata": {},
   "outputs": [],
   "source": [
    "print(a.upper())\n",
    "print(a.lower())"
   ]
  },
  {
   "cell_type": "code",
   "execution_count": null,
   "metadata": {},
   "outputs": [],
   "source": [
    "print(len(a), a[0])"
   ]
  },
  {
   "cell_type": "markdown",
   "metadata": {},
   "source": [
    "Вираз **for .. in** дозволяє ітеруватись вздовж рядка:"
   ]
  },
  {
   "cell_type": "code",
   "execution_count": null,
   "metadata": {},
   "outputs": [],
   "source": [
    "example_string = \"Привіт\"\n",
    "for letter in example_string: \n",
    "    print(\"Буква\", letter)"
   ]
  },
  {
   "cell_type": "markdown",
   "metadata": {},
   "source": [
    "#### Форматування рядка"
   ]
  },
  {
   "cell_type": "markdown",
   "metadata": {},
   "source": [
    "1-й спосіб"
   ]
  },
  {
   "cell_type": "code",
   "execution_count": null,
   "metadata": {},
   "outputs": [],
   "source": [
    "\"{} не брешуть, але {} користуються формулами. ({})\".format(\"Цифри\", \"брехуни\", \"Robert A. Heinlein\")"
   ]
  },
  {
   "cell_type": "markdown",
   "metadata": {},
   "source": [
    "2-й спосіб"
   ]
  },
  {
   "cell_type": "code",
   "execution_count": null,
   "metadata": {},
   "outputs": [],
   "source": [
    "\"{num} Кб повинно бути достатньо для будь-яких задач. ({author})\".format(num=640, author=\"Bill Gates\")"
   ]
  },
  {
   "cell_type": "markdown",
   "metadata": {},
   "source": [
    "І ще один (можливо, самий зручний) спосіб форматування рядків, доступний починаючи з версії Python 3.6:"
   ]
  },
  {
   "cell_type": "code",
   "execution_count": null,
   "metadata": {},
   "outputs": [],
   "source": [
    "subject = \"оптимізація\"\n",
    "author = \"Donald Knuth\"\n",
    "f\"Дочасна {subject} — корінь всіх бід. ({author})\""
   ]
  },
  {
   "cell_type": "markdown",
   "metadata": {},
   "source": [
    "## 5. Колекції"
   ]
  },
  {
   "cell_type": "markdown",
   "metadata": {},
   "source": [
    "### 1 list "
   ]
  },
  {
   "cell_type": "markdown",
   "metadata": {},
   "source": [
    "У випадку списків це впорядковані набори елементів, які можуть бути різних типів."
   ]
  },
  {
   "cell_type": "code",
   "execution_count": null,
   "metadata": {},
   "outputs": [],
   "source": [
    "saled_goods_count = [33450, 34010, 33990, 33200, \"aaa\"]\n",
    "print(saled_goods_count)\n",
    "print(type(saled_goods_count))\n",
    "id(saled_goods_count)"
   ]
  },
  {
   "cell_type": "code",
   "execution_count": null,
   "metadata": {},
   "outputs": [],
   "source": [
    "print(saled_goods_count[0])\n",
    "del saled_goods_count[-2]\n",
    "print(saled_goods_count)\n",
    "id(saled_goods_count)"
   ]
  },
  {
   "cell_type": "markdown",
   "metadata": {},
   "source": [
    "Як і всі колекції, спсиски підтримують протокол ітерації, використовую цикл for."
   ]
  },
  {
   "cell_type": "code",
   "execution_count": null,
   "metadata": {},
   "outputs": [],
   "source": [
    "collections = ['list', 'tuple', 'dict', 'set']\n",
    "for word in collections: \n",
    "    print('Learning {}...'.format(word))\n",
    "# використовуємо функцію format для форматування рядків"
   ]
  },
  {
   "cell_type": "markdown",
   "metadata": {},
   "source": [
    "**Таблиця \"методи list\"**\n",
    "* list.append (x) Додає елемент в кінець списку\n",
    "* list.extend (L) Розширює список list, додаючи в кінець все елементи списку L\n",
    "* list.insert (i, x) Вставляє на i-ий елемент значення x\n",
    "* list.remove (x) Видаляє перший елемент у списку, який має значення x. ValueError, якщо такого елемента не існує\n",
    "* list.pop ([i]) Видаляє i-ий елемент і повертає його. Якщо індекс не вказано, видаляється останній елемент\n",
    "* list.index (x, [start [, end]]) Повертає положення першого елемента зі значенням x (при цьому пошук ведеться від start до end)\n",
    "* list.count (x) Повертає кількість елементів зі значенням x\n",
    "* list.sort ([key = функція]) Сортує список на основі функції\n",
    "* list.reverse () Розгортає список\n",
    "* list.copy () Копія списку\n",
    "* list.clear () Очищає список"
   ]
  },
  {
   "cell_type": "markdown",
   "metadata": {},
   "source": [
    "### 2 tuple кортеж"
   ]
  },
  {
   "cell_type": "markdown",
   "metadata": {},
   "source": [
    "Кортежі - це незмінні списки (ми не можемо ні добавляти, ні видаляти елементи з кортежу). Важлива особливість кортежів - до них застосовується фунцкия hash"
   ]
  },
  {
   "cell_type": "code",
   "execution_count": null,
   "metadata": {},
   "outputs": [],
   "source": [
    "features_tuple = ('Ivan Ivanovich', 'Medium', 500000, 12, True)\n",
    "print(type(features_tuple))\n",
    "print(features_tuple)"
   ]
  },
  {
   "cell_type": "code",
   "execution_count": null,
   "metadata": {},
   "outputs": [],
   "source": [
    "features_tuple[2:5]"
   ]
  },
  {
   "cell_type": "markdown",
   "metadata": {},
   "source": [
    "### 3 set множини"
   ]
  },
  {
   "cell_type": "markdown",
   "metadata": {},
   "source": [
    "Множини - це набір унікальних елементів у випадковому порядку (невпорядкований список). Множини унікальні у тому, що операція перевірки \"належить об'єкт до множини\" відбувається значно швидше аналогічних операцій в інших структурах даних."
   ]
  },
  {
   "cell_type": "code",
   "execution_count": null,
   "metadata": {},
   "outputs": [],
   "source": [
    "names = set(['Ivan', 'Petr', 'Konstantin']) \n",
    "names = {'Ivan', 'Petr', 'Konstantin'} # другий варіант\n",
    "print(names)\n",
    "print(type(names))"
   ]
  },
  {
   "cell_type": "code",
   "execution_count": null,
   "metadata": {},
   "outputs": [],
   "source": [
    "# Перевірка, чи є у множині елемент 'Ivan', 'Mikhail'\n",
    "print('Ivan' in names)\n",
    "print('Mikhail' in names)"
   ]
  },
  {
   "cell_type": "code",
   "execution_count": null,
   "metadata": {},
   "outputs": [],
   "source": [
    "# Добавити новий елемент\n",
    "names.add('Mikhail')\n",
    "print(names)"
   ]
  },
  {
   "cell_type": "code",
   "execution_count": null,
   "metadata": {},
   "outputs": [],
   "source": [
    "# Видалити елемент\n",
    "names.remove('Mikhail')\n",
    "print(names)"
   ]
  },
  {
   "cell_type": "code",
   "execution_count": null,
   "metadata": {},
   "outputs": [],
   "source": [
    "# Добавити кортеж \n",
    "names.add(('Vladimir', 'Vladimirovich'))\n",
    "print(names)"
   ]
  },
  {
   "cell_type": "code",
   "execution_count": null,
   "metadata": {},
   "outputs": [],
   "source": [
    "# Добавити список до множини не можна, він не підтримує механізму хешування. \n",
    "names.add(['Vladimir', 'Vladimirovich'])\n",
    "print(names)"
   ]
  },
  {
   "cell_type": "markdown",
   "metadata": {},
   "source": [
    "### 4 dict словники"
   ]
  },
  {
   "cell_type": "markdown",
   "metadata": {},
   "source": [
    "Доступ до значення за ключем здійснюється за константний час, тобто не залежить від розміру словника. Це досягається за допомогою алгоритму хеширования."
   ]
  },
  {
   "cell_type": "code",
   "execution_count": null,
   "metadata": {},
   "outputs": [],
   "source": [
    "words_frequencies = dict() # {}\n",
    "words_frequencies['I'] = 1\n",
    "words_frequencies['am'] = 1\n",
    "words_frequencies['I'] += 1\n",
    "\n",
    "print(words_frequencies)"
   ]
  },
  {
   "cell_type": "code",
   "execution_count": null,
   "metadata": {},
   "outputs": [],
   "source": [
    "print(words_frequencies['I'])"
   ]
  },
  {
   "cell_type": "code",
   "execution_count": null,
   "metadata": {},
   "outputs": [],
   "source": [
    "yet_another_dict = {'abc': 3.4, 5: 7.8, u'абв': None}\n",
    "print(yet_another_dict)"
   ]
  },
  {
   "cell_type": "code",
   "execution_count": null,
   "metadata": {},
   "outputs": [],
   "source": [
    "yet_another_dict[(1,2,5)] = [4, 5, 7]\n",
    "print(yet_another_dict)"
   ]
  },
  {
   "cell_type": "code",
   "execution_count": null,
   "metadata": {},
   "outputs": [],
   "source": [
    "# Як ключ список використовувати не можна. \n",
    "# Список не підтримує механізм хешування\n",
    "yet_another_dict[[1,2,7]] = [4, 5]"
   ]
  },
  {
   "cell_type": "markdown",
   "metadata": {
    "collapsed": true
   },
   "source": [
    "## Де еще можна познайомитись з Python"
   ]
  },
  {
   "cell_type": "markdown",
   "metadata": {},
   "source": [
    "* https://docs.python.org/3/\n",
    "* https://pythonworld.ru/samouchitel-python"
   ]
  }
 ],
 "metadata": {
  "anaconda-cloud": {},
  "kernelspec": {
   "display_name": "Python 3 (ipykernel)",
   "language": "python",
   "name": "python3"
  },
  "language_info": {
   "codemirror_mode": {
    "name": "ipython",
    "version": 3
   },
   "file_extension": ".py",
   "mimetype": "text/x-python",
   "name": "python",
   "nbconvert_exporter": "python",
   "pygments_lexer": "ipython3",
   "version": "3.9.7"
  }
 },
 "nbformat": 4,
 "nbformat_minor": 1
}
