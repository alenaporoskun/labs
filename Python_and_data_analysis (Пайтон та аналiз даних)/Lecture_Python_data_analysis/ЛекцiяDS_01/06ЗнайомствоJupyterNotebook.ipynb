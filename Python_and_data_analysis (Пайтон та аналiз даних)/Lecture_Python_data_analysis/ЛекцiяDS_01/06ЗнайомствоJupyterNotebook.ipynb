{
 "cells": [
  {
   "cell_type": "markdown",
   "metadata": {},
   "source": [
    "# Знайомство Jupyter Notebook"
   ]
  },
  {
   "cell_type": "markdown",
   "metadata": {},
   "source": [
    "**Матеріали**\n",
    "\n",
    "- Jupyter Notebook Beginner’s Guide https://jupyter-notebook-beginner-guide.readthedocs.io/en/latest/\n",
    "- Jupyter Project Homepage https://jupyter.org/ \n",
    "- Jupyter Notebook Documentation https://jupyter-notebook.readthedocs.io/en/stable/ \n"
   ]
  },
  {
   "cell_type": "markdown",
   "metadata": {},
   "source": [
    "## Найпростіші дії"
   ]
  },
  {
   "cell_type": "code",
   "execution_count": null,
   "metadata": {},
   "outputs": [],
   "source": [
    "'hello, world!'"
   ]
  },
  {
   "cell_type": "code",
   "execution_count": null,
   "metadata": {},
   "outputs": [],
   "source": [
    "text='hello, world!'"
   ]
  },
  {
   "cell_type": "code",
   "execution_count": null,
   "metadata": {},
   "outputs": [],
   "source": [
    "print(text)"
   ]
  },
  {
   "cell_type": "code",
   "execution_count": null,
   "metadata": {},
   "outputs": [],
   "source": [
    "t1=2**3\n",
    "t2=100/12\n",
    "print(t1, t2)"
   ]
  },
  {
   "cell_type": "code",
   "execution_count": null,
   "metadata": {},
   "outputs": [],
   "source": [
    "from math import factorial # можемо вставляти коментарі\n",
    "factorial(3)"
   ]
  },
  {
   "cell_type": "markdown",
   "metadata": {},
   "source": [
    "## Можемо писати текст будь-якої складності"
   ]
  },
  {
   "cell_type": "markdown",
   "metadata": {},
   "source": [
    "### Стохастический градієнтний спуск\n",
    "Проблема градієнтного спуску, описаного вище, в тому, що на великих вибірках вважати на кожному кроці градієнт по всіх наявних даних може бути дуже обчислювально складно.\n",
    "У стохастичною варіанті градієнтного спуску поправки для ваг обчислюються тільки з урахуванням одного випадково взятого об'єкта навчальної вибірки:\n",
    "$$\\Large w_0 \\leftarrow w_0 - \\frac{2 \\eta} {\\ell} {((w_0 + w_1x_{k1} + w_2x_{k2} + w_3x_{k3}) - y_k)}$$\n",
    "$$\\Large w_j \\leftarrow w_j - \\frac{2 \\eta} {\\ell} {x_{kj} ((w_0 + w_1x_{k1} + w_2x_{k2} + w_3x_{k3}) - y_k)}, \\ j \\in \\{1,2,3 \\},$$\n",
    "де $k$ - випадковий індекс, $k \\in \\{1, \\ldots, \\ell \\}$."
   ]
  },
  {
   "cell_type": "markdown",
   "metadata": {},
   "source": [
    "### Нормальне рівняння\n",
    "Знаходження вектора оптимальних ваг $w$ може бути зроблено і аналітично.\n",
    "Ми хочемо знайти такий вектор ваг $w$, щоб вектор $y$, що наближує цільову ознаку, виходив множенням матриці $X$ (що складається з усіх ознак об'єктів навчальної вибірки, крім цільового) на вектор ваг $w$. Тобто, щоб виконувалося матричне рівняння:\n",
    "$$\\Large y = Xw$$\n",
    "Домноженіем зліва на $X ^ T$ отримуємо:\n",
    "$$\\Large X ^ Ty = X ^ TXw$$\n",
    "Це добре, оскільки тепер матриця $X ^ TX$ - квадратна, і можна знайти рішення (вектор $w$) у вигляді:\n",
    "$$\\Large w = {(X ^ TX)} ^ {- 1} X ^ Ty$$\n",
    "Матриця ${(X ^ TX)} ^ {- 1} X ^ T$ - [*псевдообернених*] (https://ru.wikipedia.org/wiki/Псевдообратная_матрица) для матриці $ X $. У NumPy таку матрицю можна обчислити за допомогою функції [numpy.linalg.pinv] (http://docs.scipy.org/doc/numpy-1.10.0/reference/generated/numpy.linalg.pinv.html).\n",
    "\n",
    "Однак, знаходження псевдообернена матриця - операція обчислювально складна і нестабільна в разі малого визначника матриці $X$ (проблема мультиколінеарності).\n",
    "На практиці краще знаходити вектор ваг $w$ рішенням матричного рівняння\n",
    "$$\\Large X ^ TXw = X ^ Ty$$ Це може бути зроблено за допомогою функції [numpy.linalg.solve] (http://docs.scipy.org/doc/numpy-1.10.1/reference/generated/ numpy.linalg.solve.html).\n",
    "\n",
    "Але все ж на практиці для великих матриць $X$ швидше працює градієнтний спуск, особливо його стохастична версія."
   ]
  },
  {
   "cell_type": "markdown",
   "metadata": {},
   "source": [
    "## Mode Code or Markdown"
   ]
  },
  {
   "cell_type": "markdown",
   "metadata": {},
   "source": [
    "4*3 # Mode Code or Markdown"
   ]
  },
  {
   "cell_type": "markdown",
   "metadata": {},
   "source": [
    "## PIP"
   ]
  },
  {
   "cell_type": "markdown",
   "metadata": {},
   "source": [
    "#### Окличний знак (!) дозволяє працювати з термінальними командами"
   ]
  },
  {
   "cell_type": "markdown",
   "metadata": {},
   "source": [
    "Встановлення з Інтернету бібліотеки (пакету), наприклад, numpy"
   ]
  },
  {
   "cell_type": "code",
   "execution_count": null,
   "metadata": {},
   "outputs": [],
   "source": [
    "!pip install numpy"
   ]
  },
  {
   "cell_type": "markdown",
   "metadata": {},
   "source": [
    "Визначимо версію python, з якою працюємо"
   ]
  },
  {
   "cell_type": "code",
   "execution_count": null,
   "metadata": {},
   "outputs": [],
   "source": [
    "# !python -V\n",
    "!python --version "
   ]
  },
  {
   "cell_type": "code",
   "execution_count": null,
   "metadata": {},
   "outputs": [],
   "source": [
    "!dir"
   ]
  },
  {
   "cell_type": "code",
   "execution_count": null,
   "metadata": {},
   "outputs": [],
   "source": [
    "!chcp"
   ]
  },
  {
   "cell_type": "markdown",
   "metadata": {},
   "source": [
    "Зміна Windows-кодування (Кирилиця)"
   ]
  },
  {
   "cell_type": "code",
   "execution_count": null,
   "metadata": {},
   "outputs": [],
   "source": [
    "# Було 866\n",
    "!chcp 1251 "
   ]
  },
  {
   "cell_type": "markdown",
   "metadata": {},
   "source": [
    "## Використання встановлених бібліотек"
   ]
  },
  {
   "cell_type": "code",
   "execution_count": null,
   "metadata": {},
   "outputs": [],
   "source": [
    "import numpy as np"
   ]
  },
  {
   "cell_type": "code",
   "execution_count": null,
   "metadata": {},
   "outputs": [],
   "source": [
    "np.cos(5) # Shift Tab -- Help"
   ]
  },
  {
   "cell_type": "markdown",
   "metadata": {},
   "source": [
    "## Рисунки"
   ]
  },
  {
   "cell_type": "code",
   "execution_count": null,
   "metadata": {},
   "outputs": [],
   "source": [
    "import matplotlib.pyplot as plt\n",
    "import numpy as np\n",
    "import warnings\n",
    "warnings.filterwarnings('ignore')\n",
    "\n",
    "lag = 0.1\n",
    "x = np.arange(0.0, 2*np.pi+lag, lag)\n",
    "y = np.cos(x)\n",
    "\n",
    "fig = plt.figure()\n",
    "plt.plot(x, y)\n",
    "\n",
    "plt.text(np.pi-0.5, 0,  '1 Axes', fontsize=26, bbox=dict(edgecolor='w', color='w'))\n",
    "plt.text(0.1, 0, '3 Yaxis', fontsize=18, bbox=dict(edgecolor='w', color='w'), rotation=90)\n",
    "plt.text(5, -0.9, '2 Xaxis', fontsize=18, bbox=dict(edgecolor='w', color='w'))\n",
    "\n",
    "plt.title('1a TITLE')\n",
    "plt.ylabel('3a Ylabel')\n",
    "plt.xlabel('2a Xlabel ')\n",
    "\n",
    "plt.text(5, 0.85, '6 Xticks', fontsize=12, bbox=dict(edgecolor='w', color='w'), rotation=90)\n",
    "plt.text(0.95, -0.55, '6 Xticks', fontsize=12, bbox=dict(edgecolor='w', color='w'), rotation=90)\n",
    "\n",
    "plt.text(5.75, -0.5, '7 Yticks', fontsize=12, bbox=dict(edgecolor='w', color='w'))\n",
    "plt.text(0.15, 0.475, '7 Yticks', fontsize=12, bbox=dict(edgecolor='w', color='w'))\n",
    "\n",
    "plt.grid(True)\n",
    "\n",
    "plt.show()"
   ]
  },
  {
   "cell_type": "markdown",
   "metadata": {},
   "source": [
    "## Магічні функції"
   ]
  },
  {
   "cell_type": "code",
   "execution_count": null,
   "metadata": {},
   "outputs": [],
   "source": [
    "%%time\n",
    "for i in range(1000):\n",
    "    np.cos(5)\n"
   ]
  },
  {
   "cell_type": "code",
   "execution_count": null,
   "metadata": {},
   "outputs": [],
   "source": [
    "%matplotlib inline \n",
    "''' Дозволяє відображати у блокнотах графіки Matplotlib '''"
   ]
  },
  {
   "cell_type": "code",
   "execution_count": null,
   "metadata": {},
   "outputs": [],
   "source": [
    "%matplotlib\n",
    "''' Графіки Matplotlib відображаються в окремому вікні  '''"
   ]
  },
  {
   "cell_type": "code",
   "execution_count": null,
   "metadata": {},
   "outputs": [],
   "source": [
    "%lsmagic"
   ]
  },
  {
   "cell_type": "markdown",
   "metadata": {},
   "source": [
    "## Меню"
   ]
  },
  {
   "cell_type": "markdown",
   "metadata": {},
   "source": [
    "На сервері Jupyter є кілька меню, за допомогою яких від проекту можна отримати максимум. З їхньою допомогою можна взаємодіяти з notebook, читати документацію популярних бібліотек Python і експортувати проект для подальшої демонстрації.\n",
    "\n",
    "**Файл (File):** відповідає за створення, копіювання, перейменування та збереження notebook у файл. Найважливіший пункт у цьому розділі — меню, що випадає **Download** , за допомогою якого можна завантажити notebook у різних форматах, включаючи pdf, html та slides для презентацій.\n",
    "\n",
    "**Редагувати (Edit):** використовується, щоб вирізати, копіювати та вставляти код. Тут же можна змінити порядок осередків, що знадобиться для демонстрації проекту.\n",
    "\n",
    "**Вигляд (View):** тут можна налаштувати спосіб відображення номерів рядків і панель інструментів. Найвизначніший пункт -\n",
    "Cell Toolbar, до кожної комірки можна додавати теги, нотатки та інші програми. Можна навіть вибрати спосіб форматування для комірки, що потрібно для використання notebook у презентації.\n",
    "\n",
    "**Вставити (Insert):** для додавання комірок перед або після вибраної.\n",
    "\n",
    "**Комірка (Cell):** звідси можна запускати комірки у певному порядку або змінювати їх тип.\n",
    "\n",
    "**Допомога (Help):** у цьому розділі можна отримати доступ до важливої документації. Тут же згадуються гарячі кнопки для прискорення процесу роботи. Нарешті, тут можна знайти посилання на документацію для найважливіших бібліотек\n",
    "Python: Numpy, Scipy, Matplotlib та Pandas."
   ]
  }
 ],
 "metadata": {
  "kernelspec": {
   "display_name": "Python 3 (ipykernel)",
   "language": "python",
   "name": "python3"
  },
  "language_info": {
   "codemirror_mode": {
    "name": "ipython",
    "version": 3
   },
   "file_extension": ".py",
   "mimetype": "text/x-python",
   "name": "python",
   "nbconvert_exporter": "python",
   "pygments_lexer": "ipython3",
   "version": "3.9.7"
  }
 },
 "nbformat": 4,
 "nbformat_minor": 4
}
