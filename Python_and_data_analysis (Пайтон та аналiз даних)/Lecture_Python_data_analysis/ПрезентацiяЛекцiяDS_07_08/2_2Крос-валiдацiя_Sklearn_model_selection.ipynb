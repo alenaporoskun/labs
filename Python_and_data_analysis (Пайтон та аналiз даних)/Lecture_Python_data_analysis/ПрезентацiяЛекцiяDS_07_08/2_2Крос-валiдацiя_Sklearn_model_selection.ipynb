{
 "cells": [
  {
   "cell_type": "markdown",
   "metadata": {},
   "source": [
    "# Крос-валідація. Sklearn.model_selection"
   ]
  },
  {
   "cell_type": "markdown",
   "metadata": {},
   "source": [
    "Документація: http://scikit-learn.org/stable/modules/cross_validation.html"
   ]
  },
  {
   "cell_type": "code",
   "execution_count": 1,
   "metadata": {},
   "outputs": [],
   "source": [
    "from sklearn import model_selection, datasets\n",
    "\n",
    "import numpy as np"
   ]
  },
  {
   "cell_type": "markdown",
   "metadata": {},
   "source": [
    "### Разове разбиття даних на навчання та тест з допомогою  train_test_split"
   ]
  },
  {
   "cell_type": "code",
   "execution_count": 2,
   "metadata": {},
   "outputs": [
    {
     "name": "stdout",
     "output_type": "stream",
     "text": [
      "7\n",
      "dict_keys(['data', 'target', 'frame', 'target_names', 'DESCR', 'feature_names', 'filename'])\n"
     ]
    }
   ],
   "source": [
    "iris = datasets.load_iris()\n",
    "print(len(iris))\n",
    "print(iris.keys())"
   ]
  },
  {
   "cell_type": "code",
   "execution_count": 3,
   "metadata": {},
   "outputs": [],
   "source": [
    "train_data, test_data, train_labels, test_labels = model_selection.train_test_split(iris.data, \n",
    "                                                    iris.target, test_size = 0.3)"
   ]
  },
  {
   "cell_type": "code",
   "execution_count": 4,
   "metadata": {},
   "outputs": [
    {
     "data": {
      "text/plain": [
       "0.3"
      ]
     },
     "execution_count": 4,
     "metadata": {},
     "output_type": "execute_result"
    }
   ],
   "source": [
    "# Переконаємося, що тестова вибірка дійсно становить 0.3 від всіх даних\n",
    "float(len(test_labels)) / len(iris.data)"
   ]
  },
  {
   "cell_type": "code",
   "execution_count": 5,
   "metadata": {},
   "outputs": [
    {
     "name": "stdout",
     "output_type": "stream",
     "text": [
      "Розмір навчальної вибірки: 105 обєктів \n",
      "Размер тестової вибірки: 45 обєктів\n"
     ]
    }
   ],
   "source": [
    "print ('Розмір навчальної вибірки: {} обєктів \\nРазмер тестової вибірки: {} обєктів'.\n",
    "       format(len(train_data),len(test_data)))"
   ]
  },
  {
   "cell_type": "code",
   "execution_count": 6,
   "metadata": {},
   "outputs": [
    {
     "name": "stdout",
     "output_type": "stream",
     "text": [
      "Навчальна вибірка: \n",
      " [[5.  3.5 1.3 0.3]\n",
      " [5.1 3.3 1.7 0.5]\n",
      " [6.2 2.9 4.3 1.3]\n",
      " [5.6 2.9 3.6 1.3]\n",
      " [6.  2.7 5.1 1.6]]\n",
      "\n",
      "\n",
      "Тестова вибірка: \n",
      " [[5.5 2.6 4.4 1.2]\n",
      " [4.7 3.2 1.3 0.2]\n",
      " [4.4 3.  1.3 0.2]\n",
      " [4.4 3.2 1.3 0.2]\n",
      " [5.  2.  3.5 1. ]]\n"
     ]
    }
   ],
   "source": [
    "print ('Навчальна вибірка: \\n', train_data [: 5])\n",
    "print ('\\n')\n",
    "print ('Тестова вибірка: \\n', test_data [: 5])"
   ]
  },
  {
   "cell_type": "code",
   "execution_count": 7,
   "metadata": {},
   "outputs": [
    {
     "name": "stdout",
     "output_type": "stream",
     "text": [
      "Мітки класів на навчальній вибірці: \n",
      " [0 0 1 1 1 1 2 0 1 2 2 2 2 2 0 2 0 1 1 2 0 1 1 1 0 0 1 1 1 0 0 2 1 0 1 2 2\n",
      " 2 0 0 1 1 1 1 0 2 2 1 0 1 2 0 1 2 0 2 2 0 0 2 1 2 2 1 1 2 0 1 2 2 2 2 2 1\n",
      " 1 0 1 0 1 0 1 2 0 0 0 0 1 1 0 2 2 0 0 2 0 0 1 0 0 2 1 0 2 2 1]\n",
      "\n",
      "\n",
      "Мітки класів на тестовій вибірці:  \n",
      " [1 0 0 0 1 2 2 2 1 1 0 1 0 2 0 0 1 1 2 0 0 1 0 2 1 2 0 1 0 1 2 1 2 2 2 2 0\n",
      " 2 2 1 0 2 1 2 0]\n"
     ]
    }
   ],
   "source": [
    "print ('Мітки класів на навчальній вибірці: \\n', train_labels)\n",
    "print ('\\n')\n",
    "print ('Мітки класів на тестовій вибірці:  \\n', test_labels)"
   ]
  },
  {
   "cell_type": "markdown",
   "metadata": {},
   "source": [
    "### Стратегії проведення крос-валідаціі¶"
   ]
  },
  {
   "cell_type": "code",
   "execution_count": 8,
   "metadata": {},
   "outputs": [
    {
     "name": "stdout",
     "output_type": "stream",
     "text": [
      "[10 11 12 13 14 15 16 17 18 19]\n"
     ]
    }
   ],
   "source": [
    "# Сгенеруємо  короткий  датасет\n",
    "X = np.arange (10,20)\n",
    "print(X)"
   ]
  },
  {
   "cell_type": "markdown",
   "metadata": {},
   "source": [
    "#### KFold"
   ]
  },
  {
   "cell_type": "code",
   "execution_count": 10,
   "metadata": {},
   "outputs": [
    {
     "name": "stdout",
     "output_type": "stream",
     "text": [
      "[2 3 4 5 6 7 8 9] [0 1]      [12 13 14 15 16 17 18 19] [10 11]\n",
      "[0 1 4 5 6 7 8 9] [2 3]      [10 11 14 15 16 17 18 19] [12 13]\n",
      "[0 1 2 3 6 7 8 9] [4 5]      [10 11 12 13 16 17 18 19] [14 15]\n",
      "[0 1 2 3 4 5 8 9] [6 7]      [10 11 12 13 14 15 18 19] [16 17]\n",
      "[0 1 2 3 4 5 6 7] [8 9]      [10 11 12 13 14 15 16 17] [18 19]\n"
     ]
    }
   ],
   "source": [
    "# Функція KFold не будує  розбивку вихідних даних. Вона повертає  пари індексів: \n",
    "# індекси з навчання й індекси з тестів\n",
    "kf = model_selection.KFold(n_splits = 5)\n",
    "for train_indices, test_indices in kf.split(X):\n",
    "    print(train_indices, test_indices, end=\"      \")\n",
    "    print(X[train_indices], X[test_indices])"
   ]
  },
  {
   "cell_type": "code",
   "execution_count": 12,
   "metadata": {},
   "outputs": [
    {
     "name": "stdout",
     "output_type": "stream",
     "text": [
      "[0 2 3 5 6 7 8 9] [1 4]      [10 12 13 15 16 17 18 19] [11 14]\n",
      "[0 1 2 3 4 7 8 9] [5 6]      [10 11 12 13 14 17 18 19] [15 16]\n",
      "[1 2 4 5 6 7 8 9] [0 3]      [11 12 14 15 16 17 18 19] [10 13]\n",
      "[0 1 3 4 5 6 7 9] [2 8]      [10 11 13 14 15 16 17 19] [12 18]\n",
      "[0 1 2 3 4 5 6 8] [7 9]      [10 11 12 13 14 15 16 18] [17 19]\n"
     ]
    }
   ],
   "source": [
    "# перемішуємо елементи \n",
    "kf = model_selection.KFold(n_splits = 5, shuffle = True)\n",
    "for train_indices, test_indices in kf.split(X):\n",
    "    print(train_indices, test_indices, end=\"      \")\n",
    "    print(X[train_indices], X[test_indices])"
   ]
  },
  {
   "cell_type": "code",
   "execution_count": 14,
   "metadata": {},
   "outputs": [
    {
     "name": "stdout",
     "output_type": "stream",
     "text": [
      "[0 1 3 4 5 6 7 8] [2 9]      [10 11 13 14 15 16 17 18] [12 19]\n",
      "[0 1 2 3 5 7 8 9] [4 6]      [10 11 12 13 15 17 18 19] [14 16]\n",
      "[1 2 4 5 6 7 8 9] [0 3]      [11 12 14 15 16 17 18 19] [10 13]\n",
      "[0 2 3 4 5 6 8 9] [1 7]      [10 12 13 14 15 16 18 19] [11 17]\n",
      "[0 1 2 3 4 6 7 9] [5 8]      [10 11 12 13 14 16 17 19] [15 18]\n"
     ]
    }
   ],
   "source": [
    "kf = model_selection.KFold(n_splits = 5, shuffle = True, random_state = 1)\n",
    "for train_indices, test_indices in kf.split(X):\n",
    "    print(train_indices, test_indices, end=\"      \")\n",
    "    print(X[train_indices], X[test_indices])   "
   ]
  },
  {
   "cell_type": "markdown",
   "metadata": {},
   "source": [
    "#### StratifiedKFold"
   ]
  },
  {
   "cell_type": "code",
   "execution_count": 15,
   "metadata": {},
   "outputs": [
    {
     "name": "stdout",
     "output_type": "stream",
     "text": [
      "[0 0 0 0 0 1 1 1 1 1]\n"
     ]
    }
   ],
   "source": [
    "# Зберігаємо співвідношення класів у навчальним і тестових подвибірках\n",
    "y = np.array([0] * 5 + [1] * 5)\n",
    "print(y)"
   ]
  },
  {
   "cell_type": "code",
   "execution_count": 16,
   "metadata": {},
   "outputs": [
    {
     "name": "stdout",
     "output_type": "stream",
     "text": [
      "[0 1 2 4 6 7 8 9] [3 5]\n",
      "[0 0 0 0 1 1 1 1] [0 1] Індекси Класи \n",
      "\n",
      "[0 2 3 4 5 6 7 8] [1 9]\n",
      "[0 0 0 0 1 1 1 1] [0 1] Індекси Класи \n",
      "\n",
      "[1 2 3 4 5 7 8 9] [0 6]\n",
      "[0 0 0 0 1 1 1 1] [0 1] Індекси Класи \n",
      "\n",
      "[0 1 2 3 5 6 7 9] [4 8]\n",
      "[0 0 0 0 1 1 1 1] [0 1] Індекси Класи \n",
      "\n",
      "[0 1 3 4 5 6 8 9] [2 7]\n",
      "[0 0 0 0 1 1 1 1] [0 1] Індекси Класи \n",
      "\n"
     ]
    }
   ],
   "source": [
    "# Зберігаємо співвідношення класів у навчальним і тестових подвибірках\n",
    "skf = model_selection.StratifiedKFold(n_splits = 5, shuffle = True, random_state = 1)\n",
    "for train_indices, test_indices in skf.split(X, y):\n",
    "    print(train_indices, test_indices)\n",
    "    print(y[train_indices], y[test_indices], \"Індекси Класи \"'\\n')"
   ]
  },
  {
   "cell_type": "code",
   "execution_count": 17,
   "metadata": {},
   "outputs": [
    {
     "name": "stdout",
     "output_type": "stream",
     "text": [
      "[0 1 0 1 0 1 0 1 0 1]\n"
     ]
    }
   ],
   "source": [
    "target = np.array([0, 1] * 5)\n",
    "print(target)"
   ]
  },
  {
   "cell_type": "code",
   "execution_count": 18,
   "metadata": {},
   "outputs": [
    {
     "name": "stdout",
     "output_type": "stream",
     "text": [
      "[0 2 3 4 5 7 8 9] [1 6]\n",
      "[0 0 0 0 1 1 1 1] [0 1] Індекси Класи \n",
      "\n",
      "[0 1 3 4 5 6 7 8] [2 9]\n",
      "[0 0 0 0 1 1 1 1] [0 1] Індекси Класи \n",
      "\n",
      "[1 2 4 5 6 7 8 9] [0 3]\n",
      "[0 0 0 1 1 1 1 1] [0 0] Індекси Класи \n",
      "\n",
      "[0 1 2 3 4 5 6 9] [7 8]\n",
      "[0 0 0 0 0 1 1 1] [1 1] Індекси Класи \n",
      "\n",
      "[0 1 2 3 6 7 8 9] [4 5]\n",
      "[0 0 0 0 1 1 1 1] [0 1] Індекси Класи \n",
      "\n"
     ]
    }
   ],
   "source": [
    "skf = model_selection.StratifiedKFold(n_splits = 5, shuffle = True, random_state = 1)\n",
    "for train_indices, test_indices in skf.split(X, target):\n",
    "    print(train_indices, test_indices)\n",
    "    print(y[train_indices], y[test_indices], \"Індекси Класи \"'\\n')"
   ]
  },
  {
   "cell_type": "markdown",
   "metadata": {},
   "source": [
    "#### ShuffleSplit"
   ]
  },
  {
   "cell_type": "code",
   "execution_count": 22,
   "metadata": {},
   "outputs": [
    {
     "name": "stdout",
     "output_type": "stream",
     "text": [
      "[2 6 8 5 9 7 3 0] [1 4]\n",
      "[0 1 1 1 1 1 0 0] [0 0] Індекси Класи \n",
      "\n",
      "[4 5 1 2 9 0 8 6] [7 3]\n",
      "[0 1 0 0 1 0 1 1] [1 0] Індекси Класи \n",
      "\n",
      "[0 8 7 1 6 5 4 3] [2 9]\n",
      "[0 1 1 0 1 1 0 0] [0 1] Індекси Класи \n",
      "\n",
      "[7 5 6 1 9 2 0 4] [8 3]\n",
      "[1 1 1 0 1 0 0 0] [1 0] Індекси Класи \n",
      "\n",
      "[7 6 1 9 3 0 2 5] [4 8]\n",
      "[1 1 0 1 0 0 0 1] [0 1] Індекси Класи \n",
      "\n",
      "[7 5 2 1 0 3 9 4] [6 8]\n",
      "[1 1 0 0 0 0 1 0] [1 1] Індекси Класи \n",
      "\n",
      "[3 4 8 0 9 6 5 7] [1 2]\n",
      "[0 0 1 0 1 1 1 1] [0 0] Індекси Класи \n",
      "\n",
      "[8 9 7 6 1 0 3 5] [2 4]\n",
      "[1 1 1 1 0 0 0 1] [0 0] Індекси Класи \n",
      "\n",
      "[7 8 2 5 3 4 9 1] [6 0]\n",
      "[1 1 0 1 0 0 1 0] [1 0] Індекси Класи \n",
      "\n",
      "[0 5 8 1 3 2 9 7] [4 6]\n",
      "[0 1 1 0 0 0 1 1] [0 1] Індекси Класи \n",
      "\n"
     ]
    }
   ],
   "source": [
    "# Можемо  будувати   випадкові перестановки. Можемо одержати дуже багато вибірок. \n",
    "# Відсутня гарантя, що всі поля будуть різними\n",
    "# Вибірки з поверненням\n",
    "ss = model_selection.ShuffleSplit(n_splits = 10, test_size = 0.2)\n",
    "\n",
    "for train_indices, test_indices in ss.split(X):\n",
    "    print(train_indices, test_indices)\n",
    "    print(y[train_indices], y[test_indices], \"Індекси Класи \"'\\n')"
   ]
  },
  {
   "cell_type": "markdown",
   "metadata": {},
   "source": [
    "#### StratifiedShuffleSplit"
   ]
  },
  {
   "cell_type": "code",
   "execution_count": 23,
   "metadata": {
    "scrolled": true
   },
   "outputs": [
    {
     "name": "stdout",
     "output_type": "stream",
     "text": [
      "[0 0 0 0 0 1 1 1 1 1] \n",
      "\n",
      "[3 5 1 9 0 2 8 7] [4 6]\n",
      "[0 1 0 1 0 0 1 1] [0 1] Індекси Класи \n",
      "\n",
      "[7 1 3 2 8 4 5 9] [6 0]\n",
      "[1 0 0 0 1 0 1 1] [1 0] Індекси Класи \n",
      "\n",
      "[0 9 7 2 4 5 6 1] [8 3]\n",
      "[0 1 1 0 0 1 1 0] [1 0] Індекси Класи \n",
      "\n",
      "[6 3 8 7 1 2 4 9] [0 5]\n",
      "[1 0 1 1 0 0 0 1] [0 1] Індекси Класи \n",
      "\n"
     ]
    }
   ],
   "source": [
    "# shuffle_split  можна стратифікувати. Отримуємо збалансовані вибірки\n",
    "target = np.array([0] * 5 + [1] * 5)\n",
    "print(target, '\\n')\n",
    "\n",
    "sss = model_selection.StratifiedShuffleSplit(n_splits = 4, test_size = 0.2)\n",
    "for train_indices, test_indices in sss.split(X, target):\n",
    "    print(train_indices, test_indices)\n",
    "    print(y[train_indices], y[test_indices], \"Індекси Класи \"'\\n')"
   ]
  },
  {
   "cell_type": "markdown",
   "metadata": {},
   "source": [
    "#### Leave-One-Out"
   ]
  },
  {
   "cell_type": "code",
   "execution_count": 24,
   "metadata": {},
   "outputs": [
    {
     "name": "stdout",
     "output_type": "stream",
     "text": [
      "[1 2 3 4 5 6 7 8 9] [0]\n",
      "[0 2 3 4 5 6 7 8 9] [1]\n",
      "[0 1 3 4 5 6 7 8 9] [2]\n",
      "[0 1 2 4 5 6 7 8 9] [3]\n",
      "[0 1 2 3 5 6 7 8 9] [4]\n",
      "[0 1 2 3 4 6 7 8 9] [5]\n",
      "[0 1 2 3 4 5 7 8 9] [6]\n",
      "[0 1 2 3 4 5 6 8 9] [7]\n",
      "[0 1 2 3 4 5 6 7 9] [8]\n",
      "[0 1 2 3 4 5 6 7 8] [9]\n"
     ]
    }
   ],
   "source": [
    "loo = model_selection.LeaveOneOut()\n",
    "\n",
    "for train_indices, test_index in loo.split(X):\n",
    "    print(train_indices, test_index)"
   ]
  },
  {
   "cell_type": "markdown",
   "metadata": {},
   "source": [
    "Більше стратегій проведення крос-валідації є тут: http://scikit-learn.org/stable/modules/cross_validation.html#cross-validation-iterators"
   ]
  }
 ],
 "metadata": {
  "anaconda-cloud": {},
  "kernelspec": {
   "display_name": "Python 3 (ipykernel)",
   "language": "python",
   "name": "python3"
  },
  "language_info": {
   "codemirror_mode": {
    "name": "ipython",
    "version": 3
   },
   "file_extension": ".py",
   "mimetype": "text/x-python",
   "name": "python",
   "nbconvert_exporter": "python",
   "pygments_lexer": "ipython3",
   "version": "3.9.7"
  }
 },
 "nbformat": 4,
 "nbformat_minor": 1
}
