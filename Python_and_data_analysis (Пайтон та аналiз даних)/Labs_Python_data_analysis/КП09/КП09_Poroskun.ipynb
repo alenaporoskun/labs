{
 "cells": [
  {
   "cell_type": "markdown",
   "metadata": {},
   "source": [
    "# ЗАВДАННЯ T9 «КЛАСТЕРИЗАЦІЯ»\n",
    "\n",
    "Уявіть, що міжнародне круїзне агентство Carnival Cruise Line вирішило себе розрекламувати за допомогою банерів і звернулося для цього до вас. Щоб протестувати, чи велика від таких банерів користь, їх буде розміщено всього 20 штук по усьому світі. **Вам треба вибрати 20 таких локацій для розміщення, щоб користь була великою і агентство продовжило з вами співробітничати.**\n",
    "\n",
    "Агентство велике, і в нього є кілька офісів по усьому світі. Поблизу цих офісів воно й хоче розмістити банери — легше домовлятися про установку банерів та перевіряти результат. Також ці місця повинні бути популярні серед туристів.\n",
    "\n",
    "Для пошуку оптимальних місць скористаємося базою даних найбільшої соціальної мережі, заснованої на локаціях — **Foursquare**.\n",
    "\n",
    "Частина відкритих даних є, наприклад, на сайті **archive.org**:\n",
    "https://archive.org/details/201309_foursquare_dataset_umn\n",
    "\n",
    "Скачаємо архів **fsq.zip** із цієї сторінки.\n",
    "\n",
    "Для зручної роботи із цим документом перетворимо його до формату csv, видаливши рядки, які не мають координат – вони неінформативні для нас."
   ]
  },
  {
   "cell_type": "markdown",
   "metadata": {},
   "source": [
    "Завантажуємо необхідні бібліотеки."
   ]
  },
  {
   "cell_type": "code",
   "execution_count": 1,
   "metadata": {},
   "outputs": [],
   "source": [
    "import numpy as np\n",
    "import pandas as pd\n",
    "import csv\n",
    "from sklearn.cluster import MeanShift"
   ]
  },
  {
   "cell_type": "code",
   "execution_count": 2,
   "metadata": {},
   "outputs": [],
   "source": [
    "with open('checkins.dat') as input_file:        \n",
    "    newLines = []\n",
    "    for line in input_file:\n",
    "        newLine = [x.strip() for x in line.split('|')]\n",
    "        if len(newLine) == 6 and newLine[3] and newLine[4]:\n",
    "            newLines.append(newLine)"
   ]
  },
  {
   "cell_type": "code",
   "execution_count": 3,
   "metadata": {},
   "outputs": [],
   "source": [
    "with open('checkins.csv', 'w') as output_file:\n",
    "    file_writer = csv.writer(output_file)\n",
    "    file_writer.writerows(newLines)"
   ]
  },
  {
   "cell_type": "code",
   "execution_count": 4,
   "metadata": {},
   "outputs": [],
   "source": [
    "data = pd.read_csv('checkins.csv', header=0)"
   ]
  },
  {
   "cell_type": "markdown",
   "metadata": {},
   "source": [
    "За допомогою **pandas** побудуємо DataFrame і переконаємося, що всі **396634** рядка з координатами зчитані з файлу успішно."
   ]
  },
  {
   "cell_type": "code",
   "execution_count": 5,
   "metadata": {},
   "outputs": [
    {
     "data": {
      "text/plain": [
       "(396634, 6)"
      ]
     },
     "execution_count": 5,
     "metadata": {},
     "output_type": "execute_result"
    }
   ],
   "source": [
    "data.shape"
   ]
  },
  {
   "cell_type": "markdown",
   "metadata": {},
   "source": [
    "Тепер необхідно **кластеризувати координати**, щоб виявити центри скупчень туристів. Оскільки банери мають порівняно невелику площу дії, нам потрібний **алгоритм, що дозволяє обмежити розмір кластера і щоб він не залежав від кількості кластерів.**\n",
    "\n",
    "Ця задача — гарний привід познайомитися з **алгоритмом MeanShift**, про який ми не обговорювали у лекції. Його опис при бажанні можна подивитися в sklearn user guide."
   ]
  },
  {
   "cell_type": "markdown",
   "metadata": {},
   "source": [
    "**Використайте MeanShift, вказавши bandwidth=0.1**, що в перекладі із градусів у метри коливається приблизно від 5 до 10 км у середніх широтах.\n",
    "\n",
    "**Примітка**: на 396634 рядках кластеризація буде працювати довго. Бути дуже терплячим не забороняється — результат від цього тільки покращиться. Але для того, **щоб здати завдання, знадобиться сабсет з перших 100 тисяч рядків.** Це компроміс між якістю й витраченим часом. Робота алгоритму на усьому датасете займає біля години, а на 100 тис. рядків - приблизно 2 хвилини, однак цього досить для одержання коректних результатів.\n",
    "\n",
    "Деякі із кластерів, що отримали, **містять занадто мало точок (туристів) - такі кластери не цікаві рекламодавцям. Тому треба визначити, які із кластерів містять, скажемо, більше 15 елементів. Центри цих кластерів і є оптимальними для розміщення банерів.**"
   ]
  },
  {
   "cell_type": "markdown",
   "metadata": {},
   "source": [
    "При бажанні, щоб побачити отримані результати на карті можна передати центри знайдених кластерів в один з інструментів візуалізації. Наприклад, сайт mapcustomizer.com має функцію **Bulk Entry**, куди можна вставити центри отриманих кластерів у форматі:\n",
    "38.8951118,  -77.0363658\n",
    "\n",
    "Як ми пам'ятаємо, 20 банерів потрібно розмістити біля офісів компанії. Знайдемо на Google Maps за запитом *Carnival Cruise Line* локації всіх офісів:\n",
    "\n",
    "- 33.751277, -118.188740 (Los Angeles)\n",
    "- 25.867736, -80.324116 (Miami)\n",
    "- 51.503016, -0.075479 (London)\n",
    "- 52.378894, 4.885084 (Amsterdam)\n",
    "- 39.366487, 117.036146 (Beijing)\n",
    "- -33.868457, 151.205134 (Sydney)\n"
   ]
  },
  {
   "cell_type": "markdown",
   "metadata": {},
   "source": [
    "Залишилося визначити 20 найближчих до них центрів кластерів. Тобто обчислити відстань до найближчого офісу для кожної точки й вибрати 20 з найменшим значенням.\n",
    "\n",
    "**Примітка**:  під час обчислення відстаней і  кластеризації можна знехтувати тим, що Земля кругла, тому що в точках, розташованих близько одна до одної похибка мала, а в інших точках значення досить великі.\n",
    "\n",
    "**Для здачі завдання введіть координати 20 центрів кластерів та виберіть із знайдених 20 центрів кластерів той, який є найближчим офісу компанії.**\n",
    "\n",
    "**Відповідь у цьому завданні — широта й довгота цього центра кластера.**\n",
    "\n",
    "**Завантажте свій нотебук та цю широту та довготу у classroom.**"
   ]
  },
  {
   "cell_type": "code",
   "execution_count": 6,
   "metadata": {},
   "outputs": [],
   "source": [
    "import sklearn.cluster as cluster"
   ]
  },
  {
   "cell_type": "code",
   "execution_count": 7,
   "metadata": {},
   "outputs": [
    {
     "data": {
      "text/html": [
       "<div>\n",
       "<style scoped>\n",
       "    .dataframe tbody tr th:only-of-type {\n",
       "        vertical-align: middle;\n",
       "    }\n",
       "\n",
       "    .dataframe tbody tr th {\n",
       "        vertical-align: top;\n",
       "    }\n",
       "\n",
       "    .dataframe thead th {\n",
       "        text-align: right;\n",
       "    }\n",
       "</style>\n",
       "<table border=\"1\" class=\"dataframe\">\n",
       "  <thead>\n",
       "    <tr style=\"text-align: right;\">\n",
       "      <th></th>\n",
       "      <th>id</th>\n",
       "      <th>user_id</th>\n",
       "      <th>venue_id</th>\n",
       "      <th>latitude</th>\n",
       "      <th>longitude</th>\n",
       "      <th>created_at</th>\n",
       "    </tr>\n",
       "  </thead>\n",
       "  <tbody>\n",
       "    <tr>\n",
       "      <th>0</th>\n",
       "      <td>984222</td>\n",
       "      <td>15824</td>\n",
       "      <td>5222</td>\n",
       "      <td>38.895112</td>\n",
       "      <td>-77.036366</td>\n",
       "      <td>2012-04-21 17:43:47</td>\n",
       "    </tr>\n",
       "    <tr>\n",
       "      <th>1</th>\n",
       "      <td>984234</td>\n",
       "      <td>44652</td>\n",
       "      <td>5222</td>\n",
       "      <td>33.800745</td>\n",
       "      <td>-84.410520</td>\n",
       "      <td>2012-04-21 17:43:43</td>\n",
       "    </tr>\n",
       "    <tr>\n",
       "      <th>2</th>\n",
       "      <td>984291</td>\n",
       "      <td>105054</td>\n",
       "      <td>5222</td>\n",
       "      <td>45.523452</td>\n",
       "      <td>-122.676207</td>\n",
       "      <td>2012-04-21 17:39:22</td>\n",
       "    </tr>\n",
       "    <tr>\n",
       "      <th>3</th>\n",
       "      <td>984318</td>\n",
       "      <td>2146539</td>\n",
       "      <td>5222</td>\n",
       "      <td>40.764462</td>\n",
       "      <td>-111.904565</td>\n",
       "      <td>2012-04-21 17:35:46</td>\n",
       "    </tr>\n",
       "    <tr>\n",
       "      <th>4</th>\n",
       "      <td>984232</td>\n",
       "      <td>93870</td>\n",
       "      <td>380645</td>\n",
       "      <td>33.448377</td>\n",
       "      <td>-112.074037</td>\n",
       "      <td>2012-04-21 17:38:18</td>\n",
       "    </tr>\n",
       "  </tbody>\n",
       "</table>\n",
       "</div>"
      ],
      "text/plain": [
       "       id  user_id  venue_id   latitude   longitude           created_at\n",
       "0  984222    15824      5222  38.895112  -77.036366  2012-04-21 17:43:47\n",
       "1  984234    44652      5222  33.800745  -84.410520  2012-04-21 17:43:43\n",
       "2  984291   105054      5222  45.523452 -122.676207  2012-04-21 17:39:22\n",
       "3  984318  2146539      5222  40.764462 -111.904565  2012-04-21 17:35:46\n",
       "4  984232    93870    380645  33.448377 -112.074037  2012-04-21 17:38:18"
      ]
     },
     "execution_count": 7,
     "metadata": {},
     "output_type": "execute_result"
    }
   ],
   "source": [
    "data.head()"
   ]
  },
  {
   "cell_type": "markdown",
   "metadata": {},
   "source": [
    "Запишемо у змінну **Х** широту (**latitude**) та довготу (**longitude**) перших 100 тисяч рядків."
   ]
  },
  {
   "cell_type": "code",
   "execution_count": 8,
   "metadata": {},
   "outputs": [
    {
     "name": "stdout",
     "output_type": "stream",
     "text": [
      "(100000, 2)\n"
     ]
    }
   ],
   "source": [
    "X = data.values[0:100000, 3:5]\n",
    "print(X.shape)"
   ]
  },
  {
   "cell_type": "code",
   "execution_count": 9,
   "metadata": {},
   "outputs": [
    {
     "data": {
      "text/plain": [
       "array([[38.8951118, -77.0363658],\n",
       "       [33.800745, -84.41052],\n",
       "       [45.5234515, -122.6762071],\n",
       "       [40.764462, -111.904565],\n",
       "       [33.4483771, -112.0740373]], dtype=object)"
      ]
     },
     "execution_count": 9,
     "metadata": {},
     "output_type": "execute_result"
    }
   ],
   "source": [
    "X[:5, :5]"
   ]
  },
  {
   "cell_type": "markdown",
   "metadata": {},
   "source": [
    "Використовуємо **MeanShift, вказавши bandwidth=0.1**, що в перекладі із градусів у метри коливається приблизно від 5 до 10 км у середніх широтах."
   ]
  },
  {
   "cell_type": "code",
   "execution_count": 10,
   "metadata": {},
   "outputs": [],
   "source": [
    "cluster1 = cluster.MeanShift(bandwidth=0.1)"
   ]
  },
  {
   "cell_type": "code",
   "execution_count": 11,
   "metadata": {},
   "outputs": [
    {
     "data": {
      "text/plain": [
       "MeanShift(bandwidth=0.1)"
      ]
     },
     "execution_count": 11,
     "metadata": {},
     "output_type": "execute_result"
    }
   ],
   "source": [
    "cluster1.fit(X)"
   ]
  },
  {
   "cell_type": "code",
   "execution_count": 12,
   "metadata": {},
   "outputs": [
    {
     "name": "stdout",
     "output_type": "stream",
     "text": [
      "len(labels) = 100000\n",
      "len(cluster_centers) = 3231\n",
      "len(labels_unique) = 3231\n"
     ]
    }
   ],
   "source": [
    "labels = cluster1.labels_\n",
    "cluster_centers = cluster1.cluster_centers_\n",
    "print('len(labels) =', len(labels))\n",
    "print('len(cluster_centers) =', len(cluster_centers))\n",
    "\n",
    "labels_unique = np.unique(labels)\n",
    "n_clusters_ = len(labels_unique)\n",
    "print('len(labels_unique) =', n_clusters_)"
   ]
  },
  {
   "cell_type": "code",
   "execution_count": 13,
   "metadata": {},
   "outputs": [
    {
     "data": {
      "text/plain": [
       "array([[  40.7177164 ,  -73.99183542],\n",
       "       [  33.44943805, -112.00213969],\n",
       "       [  33.44638027, -111.90188756],\n",
       "       ...,\n",
       "       [ -37.8229826 ,  145.1811902 ],\n",
       "       [ -41.2924945 ,  174.7732353 ],\n",
       "       [ -45.0311622 ,  168.6626435 ]])"
      ]
     },
     "execution_count": 13,
     "metadata": {},
     "output_type": "execute_result"
    }
   ],
   "source": [
    "cluster_centers"
   ]
  },
  {
   "cell_type": "code",
   "execution_count": 14,
   "metadata": {},
   "outputs": [
    {
     "data": {
      "text/plain": [
       "array([   0,    1,    2, ..., 3228, 3229, 3230], dtype=int64)"
      ]
     },
     "execution_count": 14,
     "metadata": {},
     "output_type": "execute_result"
    }
   ],
   "source": [
    "labels_unique"
   ]
  },
  {
   "cell_type": "markdown",
   "metadata": {},
   "source": [
    "Деякі із кластерів, що отримали, **містять занадто мало точок (туристів) - такі кластери не цікаві рекламодавцям. Тому треба визначити, які із кластерів містять, скажемо, більше 15 елементів. Центри цих кластерів і є оптимальними для розміщення банерів.**"
   ]
  },
  {
   "cell_type": "code",
   "execution_count": 15,
   "metadata": {},
   "outputs": [],
   "source": [
    "d = {}\n",
    "for label in labels:\n",
    "    if (label not in d.keys()):\n",
    "        d[label] = 1\n",
    "    else:\n",
    "        d[label] += 1"
   ]
  },
  {
   "cell_type": "code",
   "execution_count": 16,
   "metadata": {},
   "outputs": [
    {
     "name": "stdout",
     "output_type": "stream",
     "text": [
      "К-сть ластерів, що містять > 15 елементів = 592\n"
     ]
    }
   ],
   "source": [
    "count = 0\n",
    "for key in d.keys():\n",
    "    if (d[key] > 15):\n",
    "        count += 1\n",
    "print('К-сть ластерів, що містять > 15 елементів =', count)"
   ]
  },
  {
   "cell_type": "code",
   "execution_count": 17,
   "metadata": {},
   "outputs": [],
   "source": [
    "clusters_select = np.ndarray(shape=(count,2))"
   ]
  },
  {
   "cell_type": "code",
   "execution_count": 18,
   "metadata": {},
   "outputs": [],
   "source": [
    "i = 0\n",
    "j = 0\n",
    "while (i < len(cluster_centers)):\n",
    "    if (d[i] > 15):\n",
    "        clusters_select[j] = cluster_centers[i]\n",
    "        j += 1\n",
    "    i += 1"
   ]
  },
  {
   "cell_type": "code",
   "execution_count": 19,
   "metadata": {},
   "outputs": [
    {
     "name": "stdout",
     "output_type": "stream",
     "text": [
      "К-сть обраних кластерів = 592\n"
     ]
    }
   ],
   "source": [
    "print('К-сть обраних кластерів =', len(clusters_select))"
   ]
  },
  {
   "cell_type": "code",
   "execution_count": 20,
   "metadata": {},
   "outputs": [
    {
     "data": {
      "text/plain": [
       "array([[  40.7177164 ,  -73.99183542],\n",
       "       [  33.44943805, -112.00213969],\n",
       "       [  33.44638027, -111.90188756],\n",
       "       [  41.87824378,  -87.62984336],\n",
       "       [  37.68868157, -122.40933037]])"
      ]
     },
     "execution_count": 20,
     "metadata": {},
     "output_type": "execute_result"
    }
   ],
   "source": [
    "clusters_select[:5, :5]"
   ]
  },
  {
   "cell_type": "markdown",
   "metadata": {},
   "source": [
    "Запишемо координати всіх офісів."
   ]
  },
  {
   "cell_type": "code",
   "execution_count": 21,
   "metadata": {},
   "outputs": [],
   "source": [
    "offices = np.ndarray(shape=(6,2))\n",
    "offices[0] = np.array([33.751277, -118.188740]) # Los Angeles\n",
    "offices[1] = np.array([25.867736, -80.324116])  # Miami\n",
    "offices[2] = np.array([51.503016, -0.075479])   # London\n",
    "offices[3] = np.array([52.378894, 4.885084])    # Amsterdam\n",
    "offices[4] = np.array([39.366487, 117.036146])  # Beijing\n",
    "offices[5] = np.array([-33.868457, 151.205134]) # Sydney"
   ]
  },
  {
   "cell_type": "markdown",
   "metadata": {},
   "source": [
    "Розрахуємо відстань згідно з координатами широти та довготи до найближчого офісу для кожної точки. Це буде квадратний корінь з суми квадратів різниці відповідних координат. "
   ]
  },
  {
   "cell_type": "code",
   "execution_count": 22,
   "metadata": {},
   "outputs": [],
   "source": [
    "def distance(x, y):\n",
    "    return np.sqrt(np.sum((x - y)**2))"
   ]
  },
  {
   "cell_type": "markdown",
   "metadata": {},
   "source": [
    "Приклад розрахунку відстані довільних об'єктів, а саме офісу в Лондоні та одного з кластерів."
   ]
  },
  {
   "cell_type": "code",
   "execution_count": 23,
   "metadata": {},
   "outputs": [
    {
     "data": {
      "text/plain": [
       "119.02383962900103"
      ]
     },
     "execution_count": 23,
     "metadata": {},
     "output_type": "execute_result"
    }
   ],
   "source": [
    "distance(offices[2], clusters_select[100])"
   ]
  },
  {
   "cell_type": "markdown",
   "metadata": {},
   "source": [
    "Також відстань можна виразити бульш розгорнутою формулою. Значення будуть ідентичні."
   ]
  },
  {
   "cell_type": "raw",
   "metadata": {},
   "source": [
    "def distance(point1, point2):\n",
    "    return ((point1[0] - point2[0])**2 + (point1[1] - point2[1])**2)**0.5\n",
    "    \n",
    "distance(offices[2], clusters_select[100])"
   ]
  },
  {
   "cell_type": "code",
   "execution_count": 24,
   "metadata": {},
   "outputs": [],
   "source": [
    "answer_index = 0\n",
    "min_dist = 0\n",
    "i = 0\n",
    "while (i < len(clusters_select)):\n",
    "    distances = [distance(xx, clusters_select[i]) for xx in offices]\n",
    "    if min_dist == 0:\n",
    "        min_dist = min(distances)\n",
    "        answer_index = i\n",
    "    else:\n",
    "        if min_dist > min(distances):\n",
    "            min_dist = min(distances)\n",
    "            answer_index = i\n",
    "    i += 1"
   ]
  },
  {
   "cell_type": "code",
   "execution_count": 25,
   "metadata": {},
   "outputs": [
    {
     "name": "stdout",
     "output_type": "stream",
     "text": [
      "answer_index =  417\n",
      "min_dist =  0.007834758163107856\n"
     ]
    }
   ],
   "source": [
    "print('answer_index = ', answer_index)\n",
    "print('min_dist = ', min_dist)"
   ]
  },
  {
   "cell_type": "code",
   "execution_count": 26,
   "metadata": {},
   "outputs": [
    {
     "name": "stdout",
     "output_type": "stream",
     "text": [
      "-33.861 151.205\n"
     ]
    }
   ],
   "source": [
    "ans = clusters_select[answer_index]\n",
    "print(round(ans[0],3), round(ans[1],3))"
   ]
  }
 ],
 "metadata": {
  "kernelspec": {
   "display_name": "Python 3 (ipykernel)",
   "language": "python",
   "name": "python3"
  },
  "language_info": {
   "codemirror_mode": {
    "name": "ipython",
    "version": 3
   },
   "file_extension": ".py",
   "mimetype": "text/x-python",
   "name": "python",
   "nbconvert_exporter": "python",
   "pygments_lexer": "ipython3",
   "version": "3.9.13"
  }
 },
 "nbformat": 4,
 "nbformat_minor": 1
}
