{
 "cells": [
  {
   "cell_type": "markdown",
   "metadata": {},
   "source": [
    "# Градієнтний бустінг своїми руками\n",
    "\n",
    "У цьому завданні буде використовуватися датасета `boston` з` sklearn.datasets`. Залиште останні 25% об'єктів для контролю якості, розділивши `X` і` y` на `X_train`,` y_train` і `X_test`,` y_test`.\n",
    "\n",
    "Метою завдання буде реалізувати простий варіант градиентного бустінга над регресійними деревами для випадку квадратичної функції втрат."
   ]
  },
  {
   "cell_type": "markdown",
   "metadata": {},
   "source": [
    "#### Встановлення найновіших біблотек, щоб не було проблем з числовими відповідями"
   ]
  },
  {
   "cell_type": "code",
   "execution_count": 1,
   "metadata": {},
   "outputs": [
    {
     "name": "stdout",
     "output_type": "stream",
     "text": [
      "Requirement already satisfied: scikit-learn==0.24.2 in c:\\users\\admin\\anaconda3\\lib\\site-packages (0.24.2)\n",
      "Requirement already satisfied: joblib>=0.11 in c:\\users\\admin\\anaconda3\\lib\\site-packages (from scikit-learn==0.24.2) (1.1.0)\n",
      "Requirement already satisfied: threadpoolctl>=2.0.0 in c:\\users\\admin\\anaconda3\\lib\\site-packages (from scikit-learn==0.24.2) (2.2.0)\n",
      "Requirement already satisfied: scipy>=0.19.1 in c:\\users\\admin\\anaconda3\\lib\\site-packages (from scikit-learn==0.24.2) (1.9.1)\n",
      "Requirement already satisfied: numpy>=1.13.3 in c:\\users\\admin\\anaconda3\\lib\\site-packages (from scikit-learn==0.24.2) (1.22.4)\n",
      "Requirement already satisfied: numpy==1.22.4 in c:\\users\\admin\\anaconda3\\lib\\site-packages (1.22.4)\n",
      "Requirement already satisfied: pandas==1.5.2 in c:\\users\\admin\\anaconda3\\lib\\site-packages (1.5.2)\n",
      "Requirement already satisfied: numpy>=1.20.3 in c:\\users\\admin\\anaconda3\\lib\\site-packages (from pandas==1.5.2) (1.22.4)\n",
      "Requirement already satisfied: python-dateutil>=2.8.1 in c:\\users\\admin\\anaconda3\\lib\\site-packages (from pandas==1.5.2) (2.8.2)\n",
      "Requirement already satisfied: pytz>=2020.1 in c:\\users\\admin\\anaconda3\\lib\\site-packages (from pandas==1.5.2) (2022.1)\n",
      "Requirement already satisfied: six>=1.5 in c:\\users\\admin\\anaconda3\\lib\\site-packages (from python-dateutil>=2.8.1->pandas==1.5.2) (1.16.0)\n",
      "Requirement already satisfied: xgboost==1.7.1 in c:\\users\\admin\\anaconda3\\lib\\site-packages (1.7.1)\n",
      "Requirement already satisfied: scipy in c:\\users\\admin\\anaconda3\\lib\\site-packages (from xgboost==1.7.1) (1.9.1)\n",
      "Requirement already satisfied: numpy in c:\\users\\admin\\anaconda3\\lib\\site-packages (from xgboost==1.7.1) (1.22.4)\n",
      "Python 3.9.13\n"
     ]
    }
   ],
   "source": [
    "# Перевірочні дані для лабораторної роботи отримані з використанням таких версій бібліотек \n",
    "!pip install \"scikit-learn == 0.24.2\"\n",
    "!pip install \"numpy == 1.22.4\" \n",
    "!pip install \"pandas == 1.5.2\" \n",
    "!pip install \"xgboost == 1.7.1\" \n",
    "!python --version Python 3.9.7"
   ]
  },
  {
   "cell_type": "code",
   "execution_count": 2,
   "metadata": {},
   "outputs": [],
   "source": [
    "import pandas\n",
    "import sklearn\n",
    "from sklearn import ensemble , model_selection,  datasets, metrics, tree, linear_model \n",
    "import xgboost as xgb\n",
    "import numpy as np\n",
    "import pandas as pd"
   ]
  },
  {
   "cell_type": "code",
   "execution_count": 3,
   "metadata": {},
   "outputs": [
    {
     "name": "stdout",
     "output_type": "stream",
     "text": [
      "sklearn 0.24.2\n",
      "numpy 1.22.4\n",
      "pandas 1.5.2\n",
      "xgboost 1.7.1\n"
     ]
    }
   ],
   "source": [
    "print('sklearn',sklearn.__version__)\n",
    "print('numpy',np.__version__)\n",
    "print('pandas',pd.__version__)\n",
    "print('xgboost',xgb.__version__)"
   ]
  },
  {
   "cell_type": "markdown",
   "metadata": {},
   "source": [
    "**Версії**\n",
    "- sklearn 0.24.2\n",
    "- numpy 1.22.4\n",
    "- pandas 1.5.2\n",
    "- xgboost 1.7.1"
   ]
  },
  {
   "cell_type": "markdown",
   "metadata": {},
   "source": [
    "## Завдання 1\n",
    "\n",
    "Як ви вже знаєте з лекцій, **бустінг** - це метод побудови композицій базових алгоритмів за допомогою послідовного додавання до поточної композиції нового алгоритму з деяким коефіцієнтом.\n",
    "\n",
    "Метод найшвидшого бустінгу навчає кожен новий алгоритм так, щоб він наближав антіградіент помилки за відповідями композиції на навчальній вибірці. Аналогічно мінімізації функцій методом градієнтного спуску, в градієнтному бустінгу ми підправляємо композицію, змінюючи алгоритм в напрямку антіградіента помилки.\n",
    "\n",
    "Скористайтеся формулою з лекцій, яка задає відповіді на навчальній вибірці, на які потрібно навчати новий алгоритм (фактично це лише трохи більш докладно розписаний градієнт від помилки), і отримаєте частковий її випадок, якщо функція втрат `L` - квадрат відхилення відповіді композиції `a(x)`від правильної відповіді `y` на даному `x`.\n",
    "\n",
    "Якщо ви давно не брали похідну самостійно, вам допоможе таблиця похідних елементарних функцій (яку нескладно знайти в інтернеті) і правило диференціювання складної функції. Після диференціювання квадрата у вас виникне множник 2 - тому що нам все одно доведеться вибирати коефіцієнт, з яким буде додано новий базовий алгоритм, проігноіруйте цей множник при подальшому побудові алгоритму."
   ]
  },
  {
   "cell_type": "markdown",
   "metadata": {},
   "source": [
    "## Завдання 2\n",
    "\n",
    "Заведіть масив для об'єктів `DecisionTreeRegressor` (будемо їх використовувати в якості базових алгоритмів) і для дійсних чисел (це будуть коефіцієнти перед базовими алгоритмами).\n",
    "\n",
    "У циклі від навчіть послідовно 50  дерев рішень з параметрами `max_depth = 5` і` random_state = 42` (інші параметри - за замовчуванням). У бустінге часто використовуються сотні і тисячі дерев, але ми обмежимося 50, щоб алгоритм працював швидше, і його було простіше налагоджувати (тому що мета завдання розібратися, як працює метод). Кожне дерево має навчатися на одній і тій же множині  об'єктів, але відповіді, які вчиться прогнозувати дерево, будуть змінюватися у відповідністі з отриманими в завданні 1 правилом.\n",
    "\n",
    "Спробуйте для початку завжди брати коефіцієнт рівним 0.9. Зазвичай виправдано вибирати коефіцієнт значно меншим - близько 0.05 або 0.1, але тому що в нашому навчальному прикладі на стандартному датасета буде всього 50 дерев, візьмемо для початку крок побільше.\n",
    "\n",
    "В процесі реалізації навчання вам буде потрібно функція, яка буде обчислювати прогноз побудованої на даний момент композиції дерев на вибірці `X`:\n",
    "\n",
    "```\n",
    "def gbm_predict (X):\n",
    "    return [sum([coeff * algo.predict([x])[0] for algo, coeff in zip(base_algorithms_list, coefficients_list)]) for x in X]\n",
    "(Вважаємо, що base_algorithms_list - список з базовими алгоритмами, coefficients_list - список з коефіцієнтами перед алгоритмами)\n",
    "```\n",
    "\n",
    "Ця ж функція допоможе вам отримати прогноз на контрольній вибірці і оцінити якість роботи вашого алгоритму за допомогою `mean_squared_error` в` sklearn.metrics`.\n",
    "\n",
    "Підведіть результат в ступінь 0.5, щоб отримати `RMSE`. Отримане значення `RMSE` - **відповідь в пункті 2**.\n",
    "\n",
    "Передайте відповідь в функцію **write_answer_2**."
   ]
  },
  {
   "cell_type": "code",
   "execution_count": 4,
   "metadata": {},
   "outputs": [],
   "source": [
    "from sklearn.tree import DecisionTreeRegressor"
   ]
  },
  {
   "cell_type": "code",
   "execution_count": 5,
   "metadata": {},
   "outputs": [],
   "source": [
    "from sklearn.metrics import mean_squared_error as mse_"
   ]
  },
  {
   "cell_type": "markdown",
   "metadata": {},
   "source": [
    "Може виникнути помилка. Тому 2 варіанти завантаження датасету."
   ]
  },
  {
   "cell_type": "markdown",
   "metadata": {},
   "source": [
    "* 1 варіант"
   ]
  },
  {
   "cell_type": "code",
   "execution_count": 6,
   "metadata": {},
   "outputs": [],
   "source": [
    "data = datasets.load_boston() "
   ]
  },
  {
   "cell_type": "code",
   "execution_count": 7,
   "metadata": {},
   "outputs": [
    {
     "name": "stdout",
     "output_type": "stream",
     "text": [
      "(506, 13) (506,)\n"
     ]
    }
   ],
   "source": [
    "X = data['data']\n",
    "y = data['target']\n",
    "print(X.shape, y.shape) # (506, 13) (506,)"
   ]
  },
  {
   "cell_type": "markdown",
   "metadata": {},
   "source": [
    "* 2 варіант"
   ]
  },
  {
   "cell_type": "raw",
   "metadata": {},
   "source": [
    "data_url = \"http://lib.stat.cmu.edu/datasets/boston\"\n",
    "raw_df = pd.read_csv(data_url, sep=\"\\s+\", skiprows=22, header=None)\n",
    "data = np.hstack([raw_df.values[::2, :], raw_df.values[1::2, :2]])\n",
    "target = raw_df.values[1::2, 2]"
   ]
  },
  {
   "cell_type": "raw",
   "metadata": {},
   "source": [
    "X = data\n",
    "y = target\n",
    "print(X.shape, y.shape) # (506, 13) (506,)"
   ]
  },
  {
   "cell_type": "code",
   "execution_count": 8,
   "metadata": {},
   "outputs": [
    {
     "name": "stdout",
     "output_type": "stream",
     "text": [
      "(379, 13) (127, 13)\n"
     ]
    }
   ],
   "source": [
    "X_train, X_test, y_train, y_test = \\\n",
    "                 model_selection.train_test_split(X, y, test_size = 0.25, random_state = 1)\n",
    "print(X_train.shape, X_test.shape)\n",
    "# (379, 13) (127, 13)\n",
    "\n",
    "# 506*0.75 = 379.5\n",
    "# 506*0.25 = 126.5\n",
    "# 379 + 127 = 506"
   ]
  },
  {
   "cell_type": "code",
   "execution_count": 9,
   "metadata": {},
   "outputs": [],
   "source": [
    "def gbm_predict (X):\n",
    "    return [sum([coeff * algo.predict([x])[0] for algo, coeff in \n",
    "                 zip(base_algorithms_list, coefficients_list)]) for x in X]\n",
    "\n",
    "#(Вважаємо, що base_algorithms_list - список з базовими алгоритмами, \n",
    "# coefficients_list - список з коефіцієнтами перед алгоритмами)"
   ]
  },
  {
   "cell_type": "code",
   "execution_count": 10,
   "metadata": {},
   "outputs": [],
   "source": [
    "# середньоквадратична похибка\n",
    "# L = L(y,z) = (y-z)^2\n",
    "# L_ = dL(y,z) = 2*(y-z) - у ф-ції множник 2 ігноруємо\n",
    "def L(y, z):\n",
    "    # у - дані з вибірки\n",
    "    # z - прогнозовані дані    \n",
    "    return y - z"
   ]
  },
  {
   "cell_type": "code",
   "execution_count": 11,
   "metadata": {},
   "outputs": [],
   "source": [
    "base_algorithms_list = [] # список (list()) з базовими алгоритмами\n",
    "coefficients_list    = [] # список (list()) з коефіцієнтами перед алгоритмами\n",
    "\n",
    "y_cur = np.array(y_train)\n",
    "\n",
    "n_estimators = 50\n",
    "for i in range(n_estimators):\n",
    "    regressor = tree.DecisionTreeRegressor(max_depth=5, random_state=42).fit(X_train, y_cur)\n",
    "    base_algorithms_list.append(regressor)\n",
    "    coefficients_list.append(0.9)\n",
    "    \n",
    "    y_cur = L(y_train, gbm_predict(X_train))\n",
    "    \n",
    "error2 = np.sqrt(mse_(y_test, gbm_predict(X_test)))"
   ]
  },
  {
   "cell_type": "code",
   "execution_count": 12,
   "metadata": {},
   "outputs": [
    {
     "name": "stdout",
     "output_type": "stream",
     "text": [
      "3.8430207801594336\n"
     ]
    }
   ],
   "source": [
    "def write_answer_2(*answer):\n",
    "    with open(\"GB_problem2.txt\", \"w\") as fout:\n",
    "        fout.write(\" \".join([str(round(num,3)) for num in answer]))\n",
    "        \n",
    "write_answer_2(error2)  \n",
    "print(error2)"
   ]
  },
  {
   "cell_type": "markdown",
   "metadata": {},
   "source": [
    "## Завдання 3\n",
    "\n",
    "Вас може також турбувати, що рухаючись з постійним кроком, поблизу мінімуму помилки відповіді на навчальній вибірці змінюються занадто різко, перескакуючи через мінімум.\n",
    "\n",
    "Спробуйте зменшувати вагу перед кожним алгоритмом з кожною наступною ітерацією за формулою `0.9 / (1.0 + i)`, де `i` - номер ітерації (від 0 до 49). Використовуйте якість роботи алгоритму як **відповідь в пункті 3**.\n",
    "\n",
    "Передайте відповідь в функцію **write_answer_3**.\n",
    "\n",
    "У реальності часто застосовується така стратегія вибору кроку: як тільки обраний алгоритм, підберемо коефіцієнт перед ним чисельним методом оптимізації таким чином, щоб відхилення від правильних відповідей було мінімальним. Ми не будемо пропонувати вам реалізувати це для виконання завдання, але рекомендуємо спробувати розібратися з такою стратегією і реалізувати її при нагоді для себе."
   ]
  },
  {
   "cell_type": "code",
   "execution_count": 13,
   "metadata": {},
   "outputs": [],
   "source": [
    "# Ваш код\n",
    "\n",
    "base_algorithms_list = []\n",
    "coefficients_list = []\n",
    "\n",
    "y_cur = np.array(y_train)\n",
    "\n",
    "n_estimators = 50\n",
    "for i in range(n_estimators):\n",
    "    regressor = tree.DecisionTreeRegressor(max_depth=5, random_state=42).fit(X_train, y_cur)\n",
    "    base_algorithms_list.append(regressor)\n",
    "    coefficients_list.append(0.9 / (1.0 + i))\n",
    "    \n",
    "    y_cur = L(y_train, gbm_predict(X_train))\n",
    "\n",
    "error3 = np.sqrt(mse_(y_test, gbm_predict(X_test)))"
   ]
  },
  {
   "cell_type": "code",
   "execution_count": 14,
   "metadata": {},
   "outputs": [
    {
     "name": "stdout",
     "output_type": "stream",
     "text": [
      "3.182177754260443\n"
     ]
    }
   ],
   "source": [
    "def write_answer_3(*answer):\n",
    "    with open(\"GB_problem3.txt\", \"w\") as fout:\n",
    "        fout.write(\" \".join([str(round(num,3)) for num in answer]))\n",
    "        \n",
    "write_answer_3(error3)\n",
    "print(error3)"
   ]
  },
  {
   "cell_type": "markdown",
   "metadata": {},
   "source": [
    "## Завдання 4\n",
    "\n",
    "Реалізований вами метод - градієнтний бустінг над деревами - дуже популярний в машинному навчанні. Він представлений як в самій бібліотеці `sklearn`, так і в сторонньої бібліотеці `XGBoost`, яка має свій пітоновскій інтерфейс. На практиці `XGBoost` працює помітно краще` GradientBoostingRegressor` з `sklearn`, але для цього завдання ви можете використовувати будь-яку реалізацію (можете використовувати або `XGBoost`, або `GradientBoostingRegressor`).\n",
    "\n",
    "Досліджуйте, перенавчається чи градієнтний бустінг з ростом числа ітерацій (і подумайте, чому), а також із зростанням глибини дерев. На основі спостережень випишіть через пробіл номери правильних з наведених нижче тверджень в порядку зростання номера (це буде **відповідь в п.4**):\n",
    "\n",
    "    1. Зі збільшенням числа дерев, починаючи з деякого моменту, якість роботи градиентного бустінга не змінюється істотно.\n",
    "\n",
    "    2. Зі збільшенням числа дерев, починаючи з деякого моменту, градієнтний бустінг починає перенавчатися.\n",
    "\n",
    "    3. З ростом глибини дерев, починаючи з деякого моменту, якість роботи градиентного бустінга на тестовій вибірці починає погіршуватися.\n",
    "\n",
    "    4. З ростом глибини дерев, починаючи з деякого моменту, якість роботи градиентного бустінга перестає суттєво змінюватися\n",
    "    \n",
    "Передайте відповідь в функцію **write_answer_4**."
   ]
  },
  {
   "cell_type": "code",
   "execution_count": 15,
   "metadata": {},
   "outputs": [],
   "source": [
    "# Ваш код"
   ]
  },
  {
   "cell_type": "code",
   "execution_count": 16,
   "metadata": {},
   "outputs": [],
   "source": [
    "from sklearn.ensemble import GradientBoostingRegressor"
   ]
  },
  {
   "cell_type": "code",
   "execution_count": 17,
   "metadata": {},
   "outputs": [
    {
     "name": "stdout",
     "output_type": "stream",
     "text": [
      "Populating the interactive namespace from numpy and matplotlib\n"
     ]
    }
   ],
   "source": [
    "%pylab inline"
   ]
  },
  {
   "cell_type": "code",
   "execution_count": 18,
   "metadata": {},
   "outputs": [],
   "source": [
    "trees = np.array([5, 10, 15, 20, 30, 40, 50, 60, 70, 100]) # число дерев\n",
    "depths = np.array([3, 5, 7, 10, 15, 22])                   # значення глибини дерева"
   ]
  },
  {
   "cell_type": "code",
   "execution_count": 19,
   "metadata": {},
   "outputs": [
    {
     "name": "stdout",
     "output_type": "stream",
     "text": [
      "[7.062768733208135, 5.343327536398778, 4.345832045229115]\n",
      "[6.678911656070678, 4.972206754886331, 3.9887017877746875]\n",
      "[6.69148012739386, 4.882615943835674, 4.074812068392879]\n",
      "[6.646593229129778, 4.962539642925639, 4.20876526817856]\n",
      "[6.660987852163279, 5.028263503999511, 4.428010995702001]\n",
      "[6.597915170960161, 4.995683721656504, 4.401503829051195]\n"
     ]
    },
    {
     "data": {
      "image/png": "[encoded data removed]",
      "text/plain": [
       "<Figure size 1700x1500 with 6 Axes>"
      ]
     },
     "metadata": {},
     "output_type": "display_data"
    }
   ],
   "source": [
    "plt.figure(figsize=(17, 15))\n",
    "i = 1\n",
    "for d in depths:\n",
    "    scores_train, scores_test = [], []\n",
    "    for num in trees:\n",
    "        boost = GradientBoostingRegressor(n_estimators = num, max_depth = d, random_state = 42).fit(X_train, y_train)\n",
    "        scores_train.append(np.sqrt(mse_(y_train, boost.predict(X_train))))\n",
    "        scores_test.append(np.sqrt(mse_(y_test, boost.predict(X_test))))\n",
    "    print(scores_test[:3]) \n",
    "    ax = plt.subplot(3, 3, i)\n",
    "    ax.set_title(\"forest {} depth\".format(d))\n",
    "    title(\"forest {} depth\".format(d))\n",
    "    plt.plot(trees, scores_train, color=\"red\", label=\"train\")\n",
    "    plt.plot(trees, scores_test, color=\"blue\", label=\"test\")\n",
    "    plt.xlabel(\"trees\")\n",
    "    plt.ylabel(\"score\")\n",
    "    plt.legend()\n",
    "    i += 1\n"
   ]
  },
  {
   "cell_type": "code",
   "execution_count": 20,
   "metadata": {},
   "outputs": [],
   "source": [
    "# Ввести необхідну кількість аргументів через кому в зростаючому порядку\n",
    "def write_answer_4(*answer): \n",
    "    with open(\"GB_problem4.txt\", \"w\") as fout:\n",
    "        fout.write(\" \".join([str(num) for num in answer]))\n",
    "        \n",
    "write_answer_4(2,3)        "
   ]
  },
  {
   "cell_type": "markdown",
   "metadata": {},
   "source": [
    "## Завдання 5\n",
    "\n",
    "Порівняйте отриману за допомогою градієнтного бустінга якість з якістю роботи лінійної регресії.\n",
    "\n",
    "Для цього навчіть `LinearRegression` з` sklearn.linear_model` (з типовими параметрами) на навчальній вибірці та оцініть для прогнозів отриманого алгоритму на тестовій вибірці `RMSE`. Отримане якість - відповідь в **пункті 5**.\n",
    "\n",
    "Передайте відповідь в функцію **write_answer_5**.\n",
    "\n",
    "В даному прикладі якість роботи простої моделі повинно було виявитися гірше, але не варто забувати, що так буває не завжди. У завданнях ви можете ще зустріти приклад зворотній ситуації."
   ]
  },
  {
   "cell_type": "code",
   "execution_count": 21,
   "metadata": {},
   "outputs": [],
   "source": [
    "# Ваш код\n",
    "from sklearn.linear_model import LinearRegression"
   ]
  },
  {
   "cell_type": "code",
   "execution_count": 22,
   "metadata": {},
   "outputs": [],
   "source": [
    "regr = LinearRegression().fit(X_train, y_train)\n",
    "prediction = regr.predict(X_test)\n",
    "\n",
    "error5 = np.sqrt(mse_(y_test, prediction))"
   ]
  },
  {
   "cell_type": "code",
   "execution_count": 23,
   "metadata": {},
   "outputs": [
    {
     "name": "stdout",
     "output_type": "stream",
     "text": [
      "4.679504823808763\n"
     ]
    }
   ],
   "source": [
    "def write_answer_5(*answer):\n",
    "    with open(\"GB_problem5.txt\", \"w\") as fout:\n",
    "        fout.write(\" \".join([str(round(num,3)) for num in answer]))\n",
    "        \n",
    "write_answer_5(error5)     \n",
    "print(error5)"
   ]
  }
 ],
 "metadata": {
  "kernelspec": {
   "display_name": "Python 3 (ipykernel)",
   "language": "python",
   "name": "python3"
  },
  "language_info": {
   "codemirror_mode": {
    "name": "ipython",
    "version": 3
   },
   "file_extension": ".py",
   "mimetype": "text/x-python",
   "name": "python",
   "nbconvert_exporter": "python",
   "pygments_lexer": "ipython3",
   "version": "3.9.13"
  }
 },
 "nbformat": 4,
 "nbformat_minor": 1
}
