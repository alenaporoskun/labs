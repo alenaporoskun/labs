{
 "cells": [
  {
   "cell_type": "markdown",
   "metadata": {},
   "source": [
    "## Попередня обробка  даних і логістична регресія для задачі бінарної класифікації"
   ]
  },
  {
   "cell_type": "markdown",
   "metadata": {},
   "source": [
    "## Programming assignment"
   ]
  },
  {
   "cell_type": "markdown",
   "metadata": {},
   "source": [
    "У завданні вам буде запропоновано ознайомитися з основними техніками попередньої оббробки даних, а так само застосувати їх для навчання моделі логістичної регресії. Відповіді буде потрібно завантажити у відповідну форму."
   ]
  },
  {
   "cell_type": "code",
   "execution_count": 1,
   "metadata": {},
   "outputs": [],
   "source": [
    "import pandas as pd\n",
    "import numpy as np\n",
    "import matplotlib\n",
    "from matplotlib import pyplot as plt\n",
    "matplotlib.style.use('ggplot')\n",
    "%matplotlib inline\n",
    "\n",
    "import warnings\n",
    "warnings.filterwarnings('ignore')"
   ]
  },
  {
   "cell_type": "markdown",
   "metadata": {},
   "source": [
    "## Опис датасета"
   ]
  },
  {
   "cell_type": "markdown",
   "metadata": {},
   "source": [
    "Завдання: по 38 ознаками, пов'язаних із заявкою на грант (область досліджень вчених, інформація по їх академічному бекграунд, розмір гранту, область, в якій він видається) передбачити, чи буде заявка прийнята. Датасета включає в себе інформацію по 6000 заявками на гранти, які були подані в університеті Мельбурна в період з 2004 по 2008 рік.\n",
    "\n",
    "Повну версію даних з великою кількістю ознак можна знайти на https://www.kaggle.com/c/unimelb."
   ]
  },
  {
   "cell_type": "code",
   "execution_count": 2,
   "metadata": {},
   "outputs": [
    {
     "data": {
      "text/plain": [
       "(6000, 39)"
      ]
     },
     "execution_count": 2,
     "metadata": {},
     "output_type": "execute_result"
    }
   ],
   "source": [
    "data = pd.read_csv('data.csv')\n",
    "data.shape"
   ]
  },
  {
   "cell_type": "markdown",
   "metadata": {},
   "source": [
    "Виділимо з датасета цільову змінну Grant.Status і позначимо її за y. \n",
    "\n",
    "Тепер X позначає навчальну вибірку, y - відповіді на неї"
   ]
  },
  {
   "cell_type": "code",
   "execution_count": 3,
   "metadata": {},
   "outputs": [],
   "source": [
    "X = data.drop('Grant.Status', 1)\n",
    "y = data['Grant.Status']"
   ]
  },
  {
   "cell_type": "markdown",
   "metadata": {},
   "source": [
    "## Теорія по логістичної регресії"
   ]
  },
  {
   "cell_type": "markdown",
   "metadata": {},
   "source": [
    "Після усвідомлення того, яку саме задачу потрібно вирішити на цих даних, наступним кроком при реальному аналізі був би підбір відповідного методу. В даному завданні вибір методу було проведено за вас, це логістична регресія. Коротко нагадаємо вам використовувану модель.\n",
    "\n",
    "Логістична регресія передбачає ймовірності приналежності об'єкта до кожного класу. Сума відповідей логістичної регресії на одному об'єкті для всіх класів дорівнює одиниці.\n",
    "\n",
    "$$ \\sum_{k=1}^K \\pi_{ik} = 1, \\quad \\pi_k \\equiv P\\,(y_i = k \\mid x_i, \\theta), $$\n",
    "\n",
    "де:\n",
    "- $\\pi_{ik}$ - ймовірність приналежності об'єкта $x_i$ з вибірки $X$ до класу $k$\n",
    "- $\\theta$ - внутрішні параметри алгоритму, які налаштовуються в процесі навчання, в разі логістичної регресії - $w, b$\n",
    "\n",
    "З цієї властивості моделі в разі бінарної класифікації потрібно обчислити лише ймовірність приналежності об'єкта до одного з класів (друга обчислюється з умови нормування ймовірностей). Ця ймовірність обчислюється, використовуючи логістичну функцію:\n",
    "\n",
    "$$ P\\,(y_i = 1 \\mid x_i, \\theta) = \\frac{1}{1 + \\exp(-w^T x_i-b)} $$\n",
    "\n",
    "Параметри $w$ і $b$ знаходяться, як вирішення наступного завдання оптимізації (вказані функціонали з L1 і L2 регуляризації, з якими ви познайомилися в попередніх завданнях):\n",
    "\n",
    "$$ Q(X, y, \\theta) = \\frac{1}{2} w^T w + C \\sum_{i=1}^l \\log ( 1 + \\exp(-y_i (w^T x_i + b ) ) ) \\longrightarrow \\min\\limits_{w,b} $$\n",
    "\n",
    "L1-regularization:\n",
    "\n",
    "$$ Q(X, y, \\theta) = \\sum_{d=1}^D |w_d| + C \\sum_{i=1}^l \\log ( 1 + \\exp(-y_i (w^T x_i + b ) ) ) \\longrightarrow \\min\\limits_{w,b} $$\n",
    "\n",
    "$C$ - це стандартний гіперпараметр моделі, який регулює те, наскільки сильно ми дозволяємо моделі підлаштовуватися під дані."
   ]
  },
  {
   "cell_type": "markdown",
   "metadata": {},
   "source": [
    "## Попередня обробка  даних"
   ]
  },
  {
   "cell_type": "markdown",
   "metadata": {},
   "source": [
    "З властивостей даної моделі слід, що:\n",
    "- все $X$ повинні бути числовими даними (в разі наявності серед них категорій, їх потрібно деяким способом перетворити в дійсні числа)\n",
    "- серед $X$ не повинно бути пропущених значень (тобто всі пропущені значення перед застосуванням моделі слід якимось чином заповнити)\n",
    "\n",
    "Тому базовим етапом в передобробці будь-якого датасета для логістичної регресії буде кодування категоріальних ознак, а так само видалення або інтерпретація пропущених значень (при наявності того або іншого)."
   ]
  },
  {
   "cell_type": "code",
   "execution_count": 4,
   "metadata": {},
   "outputs": [
    {
     "data": {
      "text/html": [
       "<div>\n",
       "<style scoped>\n",
       "    .dataframe tbody tr th:only-of-type {\n",
       "        vertical-align: middle;\n",
       "    }\n",
       "\n",
       "    .dataframe tbody tr th {\n",
       "        vertical-align: top;\n",
       "    }\n",
       "\n",
       "    .dataframe thead th {\n",
       "        text-align: right;\n",
       "    }\n",
       "</style>\n",
       "<table border=\"1\" class=\"dataframe\">\n",
       "  <thead>\n",
       "    <tr style=\"text-align: right;\">\n",
       "      <th></th>\n",
       "      <th>Grant.Status</th>\n",
       "      <th>Sponsor.Code</th>\n",
       "      <th>Grant.Category.Code</th>\n",
       "      <th>Contract.Value.Band...see.note.A</th>\n",
       "      <th>RFCD.Code.1</th>\n",
       "      <th>RFCD.Percentage.1</th>\n",
       "      <th>RFCD.Code.2</th>\n",
       "      <th>RFCD.Percentage.2</th>\n",
       "      <th>RFCD.Code.3</th>\n",
       "      <th>RFCD.Percentage.3</th>\n",
       "      <th>...</th>\n",
       "      <th>Dept.No..1</th>\n",
       "      <th>Faculty.No..1</th>\n",
       "      <th>With.PHD.1</th>\n",
       "      <th>No..of.Years.in.Uni.at.Time.of.Grant.1</th>\n",
       "      <th>Number.of.Successful.Grant.1</th>\n",
       "      <th>Number.of.Unsuccessful.Grant.1</th>\n",
       "      <th>A..1</th>\n",
       "      <th>A.1</th>\n",
       "      <th>B.1</th>\n",
       "      <th>C.1</th>\n",
       "    </tr>\n",
       "  </thead>\n",
       "  <tbody>\n",
       "    <tr>\n",
       "      <th>0</th>\n",
       "      <td>1</td>\n",
       "      <td>21A</td>\n",
       "      <td>50A</td>\n",
       "      <td>A</td>\n",
       "      <td>230202.0</td>\n",
       "      <td>50.0</td>\n",
       "      <td>230203.0</td>\n",
       "      <td>30.0</td>\n",
       "      <td>230204.0</td>\n",
       "      <td>20.0</td>\n",
       "      <td>...</td>\n",
       "      <td>3098.0</td>\n",
       "      <td>31.0</td>\n",
       "      <td>Yes</td>\n",
       "      <td>&gt;=0 to 5</td>\n",
       "      <td>2.0</td>\n",
       "      <td>0.0</td>\n",
       "      <td>0.0</td>\n",
       "      <td>4.0</td>\n",
       "      <td>2.0</td>\n",
       "      <td>0.0</td>\n",
       "    </tr>\n",
       "    <tr>\n",
       "      <th>1</th>\n",
       "      <td>1</td>\n",
       "      <td>4D</td>\n",
       "      <td>10A</td>\n",
       "      <td>D</td>\n",
       "      <td>320801.0</td>\n",
       "      <td>100.0</td>\n",
       "      <td>0.0</td>\n",
       "      <td>0.0</td>\n",
       "      <td>0.0</td>\n",
       "      <td>0.0</td>\n",
       "      <td>...</td>\n",
       "      <td>2553.0</td>\n",
       "      <td>25.0</td>\n",
       "      <td>Yes</td>\n",
       "      <td>&gt;=0 to 5</td>\n",
       "      <td>3.0</td>\n",
       "      <td>1.0</td>\n",
       "      <td>0.0</td>\n",
       "      <td>2.0</td>\n",
       "      <td>0.0</td>\n",
       "      <td>0.0</td>\n",
       "    </tr>\n",
       "    <tr>\n",
       "      <th>2</th>\n",
       "      <td>0</td>\n",
       "      <td>NaN</td>\n",
       "      <td>NaN</td>\n",
       "      <td>NaN</td>\n",
       "      <td>320602.0</td>\n",
       "      <td>50.0</td>\n",
       "      <td>321004.0</td>\n",
       "      <td>30.0</td>\n",
       "      <td>321015.0</td>\n",
       "      <td>20.0</td>\n",
       "      <td>...</td>\n",
       "      <td>2813.0</td>\n",
       "      <td>25.0</td>\n",
       "      <td>NaN</td>\n",
       "      <td>Less than 0</td>\n",
       "      <td>1.0</td>\n",
       "      <td>5.0</td>\n",
       "      <td>0.0</td>\n",
       "      <td>7.0</td>\n",
       "      <td>2.0</td>\n",
       "      <td>0.0</td>\n",
       "    </tr>\n",
       "    <tr>\n",
       "      <th>3</th>\n",
       "      <td>0</td>\n",
       "      <td>51C</td>\n",
       "      <td>20C</td>\n",
       "      <td>A</td>\n",
       "      <td>291503.0</td>\n",
       "      <td>60.0</td>\n",
       "      <td>321402.0</td>\n",
       "      <td>40.0</td>\n",
       "      <td>0.0</td>\n",
       "      <td>0.0</td>\n",
       "      <td>...</td>\n",
       "      <td>2553.0</td>\n",
       "      <td>25.0</td>\n",
       "      <td>NaN</td>\n",
       "      <td>more than 15</td>\n",
       "      <td>2.0</td>\n",
       "      <td>1.0</td>\n",
       "      <td>5.0</td>\n",
       "      <td>6.0</td>\n",
       "      <td>9.0</td>\n",
       "      <td>1.0</td>\n",
       "    </tr>\n",
       "    <tr>\n",
       "      <th>4</th>\n",
       "      <td>0</td>\n",
       "      <td>24D</td>\n",
       "      <td>30B</td>\n",
       "      <td>NaN</td>\n",
       "      <td>380107.0</td>\n",
       "      <td>100.0</td>\n",
       "      <td>0.0</td>\n",
       "      <td>0.0</td>\n",
       "      <td>0.0</td>\n",
       "      <td>0.0</td>\n",
       "      <td>...</td>\n",
       "      <td>2923.0</td>\n",
       "      <td>25.0</td>\n",
       "      <td>NaN</td>\n",
       "      <td>Less than 0</td>\n",
       "      <td>0.0</td>\n",
       "      <td>2.0</td>\n",
       "      <td>0.0</td>\n",
       "      <td>0.0</td>\n",
       "      <td>0.0</td>\n",
       "      <td>0.0</td>\n",
       "    </tr>\n",
       "  </tbody>\n",
       "</table>\n",
       "<p>5 rows × 39 columns</p>\n",
       "</div>"
      ],
      "text/plain": [
       "   Grant.Status Sponsor.Code Grant.Category.Code  \\\n",
       "0             1          21A                 50A   \n",
       "1             1           4D                 10A   \n",
       "2             0          NaN                 NaN   \n",
       "3             0          51C                 20C   \n",
       "4             0          24D                 30B   \n",
       "\n",
       "  Contract.Value.Band...see.note.A  RFCD.Code.1  RFCD.Percentage.1  \\\n",
       "0                               A      230202.0               50.0   \n",
       "1                               D      320801.0              100.0   \n",
       "2                              NaN     320602.0               50.0   \n",
       "3                               A      291503.0               60.0   \n",
       "4                              NaN     380107.0              100.0   \n",
       "\n",
       "   RFCD.Code.2  RFCD.Percentage.2  RFCD.Code.3  RFCD.Percentage.3  ...  \\\n",
       "0     230203.0               30.0     230204.0               20.0  ...   \n",
       "1          0.0                0.0          0.0                0.0  ...   \n",
       "2     321004.0               30.0     321015.0               20.0  ...   \n",
       "3     321402.0               40.0          0.0                0.0  ...   \n",
       "4          0.0                0.0          0.0                0.0  ...   \n",
       "\n",
       "   Dept.No..1  Faculty.No..1  With.PHD.1  \\\n",
       "0      3098.0           31.0        Yes    \n",
       "1      2553.0           25.0        Yes    \n",
       "2      2813.0           25.0         NaN   \n",
       "3      2553.0           25.0         NaN   \n",
       "4      2923.0           25.0         NaN   \n",
       "\n",
       "   No..of.Years.in.Uni.at.Time.of.Grant.1  Number.of.Successful.Grant.1  \\\n",
       "0                                >=0 to 5                           2.0   \n",
       "1                                >=0 to 5                           3.0   \n",
       "2                             Less than 0                           1.0   \n",
       "3                            more than 15                           2.0   \n",
       "4                             Less than 0                           0.0   \n",
       "\n",
       "   Number.of.Unsuccessful.Grant.1  A..1  A.1  B.1  C.1  \n",
       "0                             0.0   0.0  4.0  2.0  0.0  \n",
       "1                             1.0   0.0  2.0  0.0  0.0  \n",
       "2                             5.0   0.0  7.0  2.0  0.0  \n",
       "3                             1.0   5.0  6.0  9.0  1.0  \n",
       "4                             2.0   0.0  0.0  0.0  0.0  \n",
       "\n",
       "[5 rows x 39 columns]"
      ]
     },
     "execution_count": 4,
     "metadata": {},
     "output_type": "execute_result"
    }
   ],
   "source": [
    "data.head()"
   ]
  },
  {
   "cell_type": "markdown",
   "metadata": {},
   "source": [
    "Видно, що в датасета є як числові, так і категоріальні ознаки. Отримаємо списки їхніх назв:"
   ]
  },
  {
   "cell_type": "code",
   "execution_count": 5,
   "metadata": {},
   "outputs": [],
   "source": [
    "numeric_cols = ['RFCD.Percentage.1', 'RFCD.Percentage.2', 'RFCD.Percentage.3', \n",
    "                'RFCD.Percentage.4', 'RFCD.Percentage.5',\n",
    "                'SEO.Percentage.1', 'SEO.Percentage.2', 'SEO.Percentage.3',\n",
    "                'SEO.Percentage.4', 'SEO.Percentage.5',\n",
    "                'Year.of.Birth.1', 'Number.of.Successful.Grant.1', 'Number.of.Unsuccessful.Grant.1']\n",
    "categorical_cols = list(set(X.columns.values.tolist()) - set(numeric_cols))"
   ]
  },
  {
   "cell_type": "markdown",
   "metadata": {},
   "source": [
    "Також в ньому присутні пропущені значення. Очевидні рішенням буде виключення всіх даних, у яких пропущено хоча б одне значення. Зробимо це:"
   ]
  },
  {
   "cell_type": "code",
   "execution_count": 6,
   "metadata": {},
   "outputs": [
    {
     "data": {
      "text/plain": [
       "(213, 39)"
      ]
     },
     "execution_count": 6,
     "metadata": {},
     "output_type": "execute_result"
    }
   ],
   "source": [
    "data.dropna().shape"
   ]
  },
  {
   "cell_type": "markdown",
   "metadata": {},
   "source": [
    "Видно, що тоді ми викинемо майже всі дані, і такий метод вирішення в даному випадку не спрацює.\n",
    "\n",
    "Пропущені значення можна так само інтерпретувати, для цього існує кілька способів, вони розрізняються для категоріальних і дійсних ознак.\n",
    "\n",
    "Для дійсних ознак:\n",
    "- замінити на 0 (дана ознака давати внесок в передбачення для даного об'єкта не буде)\n",
    "- замінити на середнє (кожен пропущений ознака буде давати такий же внесок, як і середнє значення ознаки на датасета)\n",
    "\n",
    "Для категоріальних:\n",
    "- інтерпретувати пропущене значення, як ще одну категорію (даний спосіб є самим природним, так як в разі категорій у нас є унікальна можливість не втратити інформацію про наявність пропущених значень; зверніть увагу, що в разі речових ознак дана інформація неминуче втрачається)"
   ]
  },
  {
   "cell_type": "markdown",
   "metadata": {},
   "source": [
    "## Завдання 0. Обробка пропущених значень.\n",
    "1. Заповніть пропущені дійсні значення в  X нулями і середніми за стовпцями, назвіть отримані датафрейми X_real_zeros і X_real_mean відповідно. Для підрахунку середніх використовуйте описану нижче процедуру calculate_means, якій  потрібно подати  на вхід дійсні ознаки з вихідного датафрейма. **Для підрахунку середнього можна використовувати функцію pandas.mean ()**\n",
    "2. Всі категоріальні ознаки в X перетворіть в рядки, пропущені значення потрібно також перетворити в будь-які рядки, які не є категоріями (наприклад, 'NA'), отриманий датафрейм назвіть X_cat.\n",
    "\n",
    "Для об'єднання вибірок тут і далі в завданні рекомендується використовувати функції\n",
    "\n",
    "    np.hstack (...)\n",
    "    np.vstack (...)"
   ]
  },
  {
   "cell_type": "code",
   "execution_count": 7,
   "metadata": {},
   "outputs": [],
   "source": [
    "def calculate_means(numeric_data):\n",
    "    means = np.zeros(numeric_data.shape[1])\n",
    "    for j in range(numeric_data.shape[1]):\n",
    "        to_sum = numeric_data.iloc[:,j]\n",
    "        indices = np.nonzero(np.array(~numeric_data.iloc[:,j].isnull()))[0]\n",
    "        correction = np.amax(to_sum[indices])\n",
    "        to_sum /= correction\n",
    "        for i in indices:\n",
    "            means[j] += to_sum[i]\n",
    "        means[j] /= indices.size\n",
    "        means[j] *= correction\n",
    "    return pd.Series(means, numeric_data.columns)"
   ]
  },
  {
   "cell_type": "markdown",
   "metadata": {},
   "source": [
    "1."
   ]
  },
  {
   "cell_type": "code",
   "execution_count": 8,
   "metadata": {},
   "outputs": [],
   "source": [
    "# place your code here"
   ]
  },
  {
   "cell_type": "code",
   "execution_count": 9,
   "metadata": {},
   "outputs": [],
   "source": [
    "import math"
   ]
  },
  {
   "cell_type": "markdown",
   "metadata": {},
   "source": [
    "Заміняємо пропущені дійсні значення нулями."
   ]
  },
  {
   "cell_type": "code",
   "execution_count": 10,
   "metadata": {},
   "outputs": [],
   "source": [
    "def change_real_data_zeros(numeric_data):\n",
    "    for i in range(numeric_data.shape[0]):\n",
    "        for j in range(numeric_data.shape[1]):\n",
    "            if (math.isnan(numeric_data.values[i,j])):\n",
    "                numeric_data.values[i,j] = 0\n",
    "    return numeric_data"
   ]
  },
  {
   "cell_type": "markdown",
   "metadata": {},
   "source": [
    "Перевіряємо результат виконання програми."
   ]
  },
  {
   "cell_type": "code",
   "execution_count": 11,
   "metadata": {},
   "outputs": [
    {
     "data": {
      "text/html": [
       "<div>\n",
       "<style scoped>\n",
       "    .dataframe tbody tr th:only-of-type {\n",
       "        vertical-align: middle;\n",
       "    }\n",
       "\n",
       "    .dataframe tbody tr th {\n",
       "        vertical-align: top;\n",
       "    }\n",
       "\n",
       "    .dataframe thead th {\n",
       "        text-align: right;\n",
       "    }\n",
       "</style>\n",
       "<table border=\"1\" class=\"dataframe\">\n",
       "  <thead>\n",
       "    <tr style=\"text-align: right;\">\n",
       "      <th></th>\n",
       "      <th>RFCD.Percentage.1</th>\n",
       "      <th>RFCD.Percentage.2</th>\n",
       "      <th>RFCD.Percentage.3</th>\n",
       "      <th>RFCD.Percentage.4</th>\n",
       "      <th>RFCD.Percentage.5</th>\n",
       "      <th>SEO.Percentage.1</th>\n",
       "      <th>SEO.Percentage.2</th>\n",
       "      <th>SEO.Percentage.3</th>\n",
       "      <th>SEO.Percentage.4</th>\n",
       "      <th>SEO.Percentage.5</th>\n",
       "      <th>Year.of.Birth.1</th>\n",
       "      <th>Number.of.Successful.Grant.1</th>\n",
       "      <th>Number.of.Unsuccessful.Grant.1</th>\n",
       "    </tr>\n",
       "  </thead>\n",
       "  <tbody>\n",
       "    <tr>\n",
       "      <th>5995</th>\n",
       "      <td>50.0</td>\n",
       "      <td>30.0</td>\n",
       "      <td>20.0</td>\n",
       "      <td>0.0</td>\n",
       "      <td>0.0</td>\n",
       "      <td>50.0</td>\n",
       "      <td>30.0</td>\n",
       "      <td>20.0</td>\n",
       "      <td>0.0</td>\n",
       "      <td>0.0</td>\n",
       "      <td>1970.0</td>\n",
       "      <td>2.0</td>\n",
       "      <td>0.0</td>\n",
       "    </tr>\n",
       "    <tr>\n",
       "      <th>5996</th>\n",
       "      <td>NaN</td>\n",
       "      <td>NaN</td>\n",
       "      <td>NaN</td>\n",
       "      <td>NaN</td>\n",
       "      <td>NaN</td>\n",
       "      <td>NaN</td>\n",
       "      <td>NaN</td>\n",
       "      <td>NaN</td>\n",
       "      <td>NaN</td>\n",
       "      <td>NaN</td>\n",
       "      <td>1975.0</td>\n",
       "      <td>0.0</td>\n",
       "      <td>0.0</td>\n",
       "    </tr>\n",
       "    <tr>\n",
       "      <th>5997</th>\n",
       "      <td>40.0</td>\n",
       "      <td>40.0</td>\n",
       "      <td>20.0</td>\n",
       "      <td>0.0</td>\n",
       "      <td>0.0</td>\n",
       "      <td>40.0</td>\n",
       "      <td>40.0</td>\n",
       "      <td>20.0</td>\n",
       "      <td>0.0</td>\n",
       "      <td>0.0</td>\n",
       "      <td>1955.0</td>\n",
       "      <td>3.0</td>\n",
       "      <td>3.0</td>\n",
       "    </tr>\n",
       "    <tr>\n",
       "      <th>5998</th>\n",
       "      <td>NaN</td>\n",
       "      <td>NaN</td>\n",
       "      <td>NaN</td>\n",
       "      <td>NaN</td>\n",
       "      <td>NaN</td>\n",
       "      <td>NaN</td>\n",
       "      <td>NaN</td>\n",
       "      <td>NaN</td>\n",
       "      <td>NaN</td>\n",
       "      <td>NaN</td>\n",
       "      <td>1950.0</td>\n",
       "      <td>0.0</td>\n",
       "      <td>0.0</td>\n",
       "    </tr>\n",
       "  </tbody>\n",
       "</table>\n",
       "</div>"
      ],
      "text/plain": [
       "      RFCD.Percentage.1  RFCD.Percentage.2  RFCD.Percentage.3  \\\n",
       "5995               50.0               30.0               20.0   \n",
       "5996                NaN                NaN                NaN   \n",
       "5997               40.0               40.0               20.0   \n",
       "5998                NaN                NaN                NaN   \n",
       "\n",
       "      RFCD.Percentage.4  RFCD.Percentage.5  SEO.Percentage.1  \\\n",
       "5995                0.0                0.0              50.0   \n",
       "5996                NaN                NaN               NaN   \n",
       "5997                0.0                0.0              40.0   \n",
       "5998                NaN                NaN               NaN   \n",
       "\n",
       "      SEO.Percentage.2  SEO.Percentage.3  SEO.Percentage.4  SEO.Percentage.5  \\\n",
       "5995              30.0              20.0               0.0               0.0   \n",
       "5996               NaN               NaN               NaN               NaN   \n",
       "5997              40.0              20.0               0.0               0.0   \n",
       "5998               NaN               NaN               NaN               NaN   \n",
       "\n",
       "      Year.of.Birth.1  Number.of.Successful.Grant.1  \\\n",
       "5995           1970.0                           2.0   \n",
       "5996           1975.0                           0.0   \n",
       "5997           1955.0                           3.0   \n",
       "5998           1950.0                           0.0   \n",
       "\n",
       "      Number.of.Unsuccessful.Grant.1  \n",
       "5995                             0.0  \n",
       "5996                             0.0  \n",
       "5997                             3.0  \n",
       "5998                             0.0  "
      ]
     },
     "execution_count": 11,
     "metadata": {},
     "output_type": "execute_result"
    }
   ],
   "source": [
    "X_real = X[numeric_cols]\n",
    "X_real[5995:5999]"
   ]
  },
  {
   "cell_type": "code",
   "execution_count": 12,
   "metadata": {},
   "outputs": [
    {
     "data": {
      "text/html": [
       "<div>\n",
       "<style scoped>\n",
       "    .dataframe tbody tr th:only-of-type {\n",
       "        vertical-align: middle;\n",
       "    }\n",
       "\n",
       "    .dataframe tbody tr th {\n",
       "        vertical-align: top;\n",
       "    }\n",
       "\n",
       "    .dataframe thead th {\n",
       "        text-align: right;\n",
       "    }\n",
       "</style>\n",
       "<table border=\"1\" class=\"dataframe\">\n",
       "  <thead>\n",
       "    <tr style=\"text-align: right;\">\n",
       "      <th></th>\n",
       "      <th>RFCD.Percentage.1</th>\n",
       "      <th>RFCD.Percentage.2</th>\n",
       "      <th>RFCD.Percentage.3</th>\n",
       "      <th>RFCD.Percentage.4</th>\n",
       "      <th>RFCD.Percentage.5</th>\n",
       "      <th>SEO.Percentage.1</th>\n",
       "      <th>SEO.Percentage.2</th>\n",
       "      <th>SEO.Percentage.3</th>\n",
       "      <th>SEO.Percentage.4</th>\n",
       "      <th>SEO.Percentage.5</th>\n",
       "      <th>Year.of.Birth.1</th>\n",
       "      <th>Number.of.Successful.Grant.1</th>\n",
       "      <th>Number.of.Unsuccessful.Grant.1</th>\n",
       "    </tr>\n",
       "  </thead>\n",
       "  <tbody>\n",
       "    <tr>\n",
       "      <th>5995</th>\n",
       "      <td>50.0</td>\n",
       "      <td>30.0</td>\n",
       "      <td>20.0</td>\n",
       "      <td>0.0</td>\n",
       "      <td>0.0</td>\n",
       "      <td>50.0</td>\n",
       "      <td>30.0</td>\n",
       "      <td>20.0</td>\n",
       "      <td>0.0</td>\n",
       "      <td>0.0</td>\n",
       "      <td>1970.0</td>\n",
       "      <td>2.0</td>\n",
       "      <td>0.0</td>\n",
       "    </tr>\n",
       "    <tr>\n",
       "      <th>5996</th>\n",
       "      <td>0.0</td>\n",
       "      <td>0.0</td>\n",
       "      <td>0.0</td>\n",
       "      <td>0.0</td>\n",
       "      <td>0.0</td>\n",
       "      <td>0.0</td>\n",
       "      <td>0.0</td>\n",
       "      <td>0.0</td>\n",
       "      <td>0.0</td>\n",
       "      <td>0.0</td>\n",
       "      <td>1975.0</td>\n",
       "      <td>0.0</td>\n",
       "      <td>0.0</td>\n",
       "    </tr>\n",
       "    <tr>\n",
       "      <th>5997</th>\n",
       "      <td>40.0</td>\n",
       "      <td>40.0</td>\n",
       "      <td>20.0</td>\n",
       "      <td>0.0</td>\n",
       "      <td>0.0</td>\n",
       "      <td>40.0</td>\n",
       "      <td>40.0</td>\n",
       "      <td>20.0</td>\n",
       "      <td>0.0</td>\n",
       "      <td>0.0</td>\n",
       "      <td>1955.0</td>\n",
       "      <td>3.0</td>\n",
       "      <td>3.0</td>\n",
       "    </tr>\n",
       "    <tr>\n",
       "      <th>5998</th>\n",
       "      <td>0.0</td>\n",
       "      <td>0.0</td>\n",
       "      <td>0.0</td>\n",
       "      <td>0.0</td>\n",
       "      <td>0.0</td>\n",
       "      <td>0.0</td>\n",
       "      <td>0.0</td>\n",
       "      <td>0.0</td>\n",
       "      <td>0.0</td>\n",
       "      <td>0.0</td>\n",
       "      <td>1950.0</td>\n",
       "      <td>0.0</td>\n",
       "      <td>0.0</td>\n",
       "    </tr>\n",
       "  </tbody>\n",
       "</table>\n",
       "</div>"
      ],
      "text/plain": [
       "      RFCD.Percentage.1  RFCD.Percentage.2  RFCD.Percentage.3  \\\n",
       "5995               50.0               30.0               20.0   \n",
       "5996                0.0                0.0                0.0   \n",
       "5997               40.0               40.0               20.0   \n",
       "5998                0.0                0.0                0.0   \n",
       "\n",
       "      RFCD.Percentage.4  RFCD.Percentage.5  SEO.Percentage.1  \\\n",
       "5995                0.0                0.0              50.0   \n",
       "5996                0.0                0.0               0.0   \n",
       "5997                0.0                0.0              40.0   \n",
       "5998                0.0                0.0               0.0   \n",
       "\n",
       "      SEO.Percentage.2  SEO.Percentage.3  SEO.Percentage.4  SEO.Percentage.5  \\\n",
       "5995              30.0              20.0               0.0               0.0   \n",
       "5996               0.0               0.0               0.0               0.0   \n",
       "5997              40.0              20.0               0.0               0.0   \n",
       "5998               0.0               0.0               0.0               0.0   \n",
       "\n",
       "      Year.of.Birth.1  Number.of.Successful.Grant.1  \\\n",
       "5995           1970.0                           2.0   \n",
       "5996           1975.0                           0.0   \n",
       "5997           1955.0                           3.0   \n",
       "5998           1950.0                           0.0   \n",
       "\n",
       "      Number.of.Unsuccessful.Grant.1  \n",
       "5995                             0.0  \n",
       "5996                             0.0  \n",
       "5997                             3.0  \n",
       "5998                             0.0  "
      ]
     },
     "execution_count": 12,
     "metadata": {},
     "output_type": "execute_result"
    }
   ],
   "source": [
    "X_real_zeros = change_real_data_zeros(X_real)\n",
    "X_real_zeros[5995:5999]"
   ]
  },
  {
   "cell_type": "markdown",
   "metadata": {},
   "source": [
    "Заміняємо пропущені дійсні значення середніми(по стовпцям) використовуючи функцію ***calculate_means().***"
   ]
  },
  {
   "cell_type": "code",
   "execution_count": 13,
   "metadata": {},
   "outputs": [],
   "source": [
    "def change_real_data_means(numeric_data):\n",
    "    mean_data = calculate_means(data[numeric_cols])\n",
    "    print(mean_data)\n",
    "    for i in range(numeric_data.shape[0]):\n",
    "        for j in range(numeric_data.shape[1]):\n",
    "            if (math.isnan(numeric_data.values[i,j])):\n",
    "                numeric_data.values[i,j] = mean_data[j]\n",
    "    return numeric_data"
   ]
  },
  {
   "cell_type": "markdown",
   "metadata": {},
   "source": [
    "Перевіряємо результат виконання програми. "
   ]
  },
  {
   "cell_type": "code",
   "execution_count": 14,
   "metadata": {},
   "outputs": [
    {
     "data": {
      "text/html": [
       "<div>\n",
       "<style scoped>\n",
       "    .dataframe tbody tr th:only-of-type {\n",
       "        vertical-align: middle;\n",
       "    }\n",
       "\n",
       "    .dataframe tbody tr th {\n",
       "        vertical-align: top;\n",
       "    }\n",
       "\n",
       "    .dataframe thead th {\n",
       "        text-align: right;\n",
       "    }\n",
       "</style>\n",
       "<table border=\"1\" class=\"dataframe\">\n",
       "  <thead>\n",
       "    <tr style=\"text-align: right;\">\n",
       "      <th></th>\n",
       "      <th>RFCD.Percentage.1</th>\n",
       "      <th>RFCD.Percentage.2</th>\n",
       "      <th>RFCD.Percentage.3</th>\n",
       "      <th>RFCD.Percentage.4</th>\n",
       "      <th>RFCD.Percentage.5</th>\n",
       "      <th>SEO.Percentage.1</th>\n",
       "      <th>SEO.Percentage.2</th>\n",
       "      <th>SEO.Percentage.3</th>\n",
       "      <th>SEO.Percentage.4</th>\n",
       "      <th>SEO.Percentage.5</th>\n",
       "      <th>Year.of.Birth.1</th>\n",
       "      <th>Number.of.Successful.Grant.1</th>\n",
       "      <th>Number.of.Unsuccessful.Grant.1</th>\n",
       "    </tr>\n",
       "  </thead>\n",
       "  <tbody>\n",
       "    <tr>\n",
       "      <th>5995</th>\n",
       "      <td>50.0</td>\n",
       "      <td>30.0</td>\n",
       "      <td>20.0</td>\n",
       "      <td>0.0</td>\n",
       "      <td>0.0</td>\n",
       "      <td>50.0</td>\n",
       "      <td>30.0</td>\n",
       "      <td>20.0</td>\n",
       "      <td>0.0</td>\n",
       "      <td>0.0</td>\n",
       "      <td>1970.0</td>\n",
       "      <td>2.0</td>\n",
       "      <td>0.0</td>\n",
       "    </tr>\n",
       "    <tr>\n",
       "      <th>5996</th>\n",
       "      <td>NaN</td>\n",
       "      <td>NaN</td>\n",
       "      <td>NaN</td>\n",
       "      <td>NaN</td>\n",
       "      <td>NaN</td>\n",
       "      <td>NaN</td>\n",
       "      <td>NaN</td>\n",
       "      <td>NaN</td>\n",
       "      <td>NaN</td>\n",
       "      <td>NaN</td>\n",
       "      <td>1975.0</td>\n",
       "      <td>0.0</td>\n",
       "      <td>0.0</td>\n",
       "    </tr>\n",
       "    <tr>\n",
       "      <th>5997</th>\n",
       "      <td>40.0</td>\n",
       "      <td>40.0</td>\n",
       "      <td>20.0</td>\n",
       "      <td>0.0</td>\n",
       "      <td>0.0</td>\n",
       "      <td>40.0</td>\n",
       "      <td>40.0</td>\n",
       "      <td>20.0</td>\n",
       "      <td>0.0</td>\n",
       "      <td>0.0</td>\n",
       "      <td>1955.0</td>\n",
       "      <td>3.0</td>\n",
       "      <td>3.0</td>\n",
       "    </tr>\n",
       "    <tr>\n",
       "      <th>5998</th>\n",
       "      <td>NaN</td>\n",
       "      <td>NaN</td>\n",
       "      <td>NaN</td>\n",
       "      <td>NaN</td>\n",
       "      <td>NaN</td>\n",
       "      <td>NaN</td>\n",
       "      <td>NaN</td>\n",
       "      <td>NaN</td>\n",
       "      <td>NaN</td>\n",
       "      <td>NaN</td>\n",
       "      <td>1950.0</td>\n",
       "      <td>0.0</td>\n",
       "      <td>0.0</td>\n",
       "    </tr>\n",
       "  </tbody>\n",
       "</table>\n",
       "</div>"
      ],
      "text/plain": [
       "      RFCD.Percentage.1  RFCD.Percentage.2  RFCD.Percentage.3  \\\n",
       "5995               50.0               30.0               20.0   \n",
       "5996                NaN                NaN                NaN   \n",
       "5997               40.0               40.0               20.0   \n",
       "5998                NaN                NaN                NaN   \n",
       "\n",
       "      RFCD.Percentage.4  RFCD.Percentage.5  SEO.Percentage.1  \\\n",
       "5995                0.0                0.0              50.0   \n",
       "5996                NaN                NaN               NaN   \n",
       "5997                0.0                0.0              40.0   \n",
       "5998                NaN                NaN               NaN   \n",
       "\n",
       "      SEO.Percentage.2  SEO.Percentage.3  SEO.Percentage.4  SEO.Percentage.5  \\\n",
       "5995              30.0              20.0               0.0               0.0   \n",
       "5996               NaN               NaN               NaN               NaN   \n",
       "5997              40.0              20.0               0.0               0.0   \n",
       "5998               NaN               NaN               NaN               NaN   \n",
       "\n",
       "      Year.of.Birth.1  Number.of.Successful.Grant.1  \\\n",
       "5995           1970.0                           2.0   \n",
       "5996           1975.0                           0.0   \n",
       "5997           1955.0                           3.0   \n",
       "5998           1950.0                           0.0   \n",
       "\n",
       "      Number.of.Unsuccessful.Grant.1  \n",
       "5995                             0.0  \n",
       "5996                             0.0  \n",
       "5997                             3.0  \n",
       "5998                             0.0  "
      ]
     },
     "execution_count": 14,
     "metadata": {},
     "output_type": "execute_result"
    }
   ],
   "source": [
    "X_real = X[numeric_cols]\n",
    "X_real[5995:5999]"
   ]
  },
  {
   "cell_type": "code",
   "execution_count": 15,
   "metadata": {},
   "outputs": [
    {
     "name": "stdout",
     "output_type": "stream",
     "text": [
      "RFCD.Percentage.1                   74.832348\n",
      "RFCD.Percentage.2                   17.677593\n",
      "RFCD.Percentage.3                    6.933011\n",
      "RFCD.Percentage.4                    0.437937\n",
      "RFCD.Percentage.5                    0.119112\n",
      "SEO.Percentage.1                    71.483240\n",
      "SEO.Percentage.2                    20.646880\n",
      "SEO.Percentage.3                     6.926704\n",
      "SEO.Percentage.4                     0.730804\n",
      "SEO.Percentage.5                     0.212192\n",
      "Year.of.Birth.1                   1962.449849\n",
      "Number.of.Successful.Grant.1         1.177849\n",
      "Number.of.Unsuccessful.Grant.1       2.097977\n",
      "dtype: float64\n"
     ]
    },
    {
     "data": {
      "text/html": [
       "<div>\n",
       "<style scoped>\n",
       "    .dataframe tbody tr th:only-of-type {\n",
       "        vertical-align: middle;\n",
       "    }\n",
       "\n",
       "    .dataframe tbody tr th {\n",
       "        vertical-align: top;\n",
       "    }\n",
       "\n",
       "    .dataframe thead th {\n",
       "        text-align: right;\n",
       "    }\n",
       "</style>\n",
       "<table border=\"1\" class=\"dataframe\">\n",
       "  <thead>\n",
       "    <tr style=\"text-align: right;\">\n",
       "      <th></th>\n",
       "      <th>RFCD.Percentage.1</th>\n",
       "      <th>RFCD.Percentage.2</th>\n",
       "      <th>RFCD.Percentage.3</th>\n",
       "      <th>RFCD.Percentage.4</th>\n",
       "      <th>RFCD.Percentage.5</th>\n",
       "      <th>SEO.Percentage.1</th>\n",
       "      <th>SEO.Percentage.2</th>\n",
       "      <th>SEO.Percentage.3</th>\n",
       "      <th>SEO.Percentage.4</th>\n",
       "      <th>SEO.Percentage.5</th>\n",
       "      <th>Year.of.Birth.1</th>\n",
       "      <th>Number.of.Successful.Grant.1</th>\n",
       "      <th>Number.of.Unsuccessful.Grant.1</th>\n",
       "    </tr>\n",
       "  </thead>\n",
       "  <tbody>\n",
       "    <tr>\n",
       "      <th>5995</th>\n",
       "      <td>50.000000</td>\n",
       "      <td>30.000000</td>\n",
       "      <td>20.000000</td>\n",
       "      <td>0.000000</td>\n",
       "      <td>0.000000</td>\n",
       "      <td>50.00000</td>\n",
       "      <td>30.00000</td>\n",
       "      <td>20.000000</td>\n",
       "      <td>0.000000</td>\n",
       "      <td>0.000000</td>\n",
       "      <td>1970.0</td>\n",
       "      <td>2.0</td>\n",
       "      <td>0.0</td>\n",
       "    </tr>\n",
       "    <tr>\n",
       "      <th>5996</th>\n",
       "      <td>74.832348</td>\n",
       "      <td>17.677593</td>\n",
       "      <td>6.933011</td>\n",
       "      <td>0.437937</td>\n",
       "      <td>0.119112</td>\n",
       "      <td>71.48324</td>\n",
       "      <td>20.64688</td>\n",
       "      <td>6.926704</td>\n",
       "      <td>0.730804</td>\n",
       "      <td>0.212192</td>\n",
       "      <td>1975.0</td>\n",
       "      <td>0.0</td>\n",
       "      <td>0.0</td>\n",
       "    </tr>\n",
       "    <tr>\n",
       "      <th>5997</th>\n",
       "      <td>40.000000</td>\n",
       "      <td>40.000000</td>\n",
       "      <td>20.000000</td>\n",
       "      <td>0.000000</td>\n",
       "      <td>0.000000</td>\n",
       "      <td>40.00000</td>\n",
       "      <td>40.00000</td>\n",
       "      <td>20.000000</td>\n",
       "      <td>0.000000</td>\n",
       "      <td>0.000000</td>\n",
       "      <td>1955.0</td>\n",
       "      <td>3.0</td>\n",
       "      <td>3.0</td>\n",
       "    </tr>\n",
       "    <tr>\n",
       "      <th>5998</th>\n",
       "      <td>74.832348</td>\n",
       "      <td>17.677593</td>\n",
       "      <td>6.933011</td>\n",
       "      <td>0.437937</td>\n",
       "      <td>0.119112</td>\n",
       "      <td>71.48324</td>\n",
       "      <td>20.64688</td>\n",
       "      <td>6.926704</td>\n",
       "      <td>0.730804</td>\n",
       "      <td>0.212192</td>\n",
       "      <td>1950.0</td>\n",
       "      <td>0.0</td>\n",
       "      <td>0.0</td>\n",
       "    </tr>\n",
       "  </tbody>\n",
       "</table>\n",
       "</div>"
      ],
      "text/plain": [
       "      RFCD.Percentage.1  RFCD.Percentage.2  RFCD.Percentage.3  \\\n",
       "5995          50.000000          30.000000          20.000000   \n",
       "5996          74.832348          17.677593           6.933011   \n",
       "5997          40.000000          40.000000          20.000000   \n",
       "5998          74.832348          17.677593           6.933011   \n",
       "\n",
       "      RFCD.Percentage.4  RFCD.Percentage.5  SEO.Percentage.1  \\\n",
       "5995           0.000000           0.000000          50.00000   \n",
       "5996           0.437937           0.119112          71.48324   \n",
       "5997           0.000000           0.000000          40.00000   \n",
       "5998           0.437937           0.119112          71.48324   \n",
       "\n",
       "      SEO.Percentage.2  SEO.Percentage.3  SEO.Percentage.4  SEO.Percentage.5  \\\n",
       "5995          30.00000         20.000000          0.000000          0.000000   \n",
       "5996          20.64688          6.926704          0.730804          0.212192   \n",
       "5997          40.00000         20.000000          0.000000          0.000000   \n",
       "5998          20.64688          6.926704          0.730804          0.212192   \n",
       "\n",
       "      Year.of.Birth.1  Number.of.Successful.Grant.1  \\\n",
       "5995           1970.0                           2.0   \n",
       "5996           1975.0                           0.0   \n",
       "5997           1955.0                           3.0   \n",
       "5998           1950.0                           0.0   \n",
       "\n",
       "      Number.of.Unsuccessful.Grant.1  \n",
       "5995                             0.0  \n",
       "5996                             0.0  \n",
       "5997                             3.0  \n",
       "5998                             0.0  "
      ]
     },
     "execution_count": 15,
     "metadata": {},
     "output_type": "execute_result"
    }
   ],
   "source": [
    "X_real_mean = change_real_data_means(X_real)\n",
    "X_real_mean[5995:5999]"
   ]
  },
  {
   "cell_type": "markdown",
   "metadata": {},
   "source": [
    "2."
   ]
  },
  {
   "cell_type": "code",
   "execution_count": 16,
   "metadata": {},
   "outputs": [
    {
     "data": {
      "text/html": [
       "<div>\n",
       "<style scoped>\n",
       "    .dataframe tbody tr th:only-of-type {\n",
       "        vertical-align: middle;\n",
       "    }\n",
       "\n",
       "    .dataframe tbody tr th {\n",
       "        vertical-align: top;\n",
       "    }\n",
       "\n",
       "    .dataframe thead th {\n",
       "        text-align: right;\n",
       "    }\n",
       "</style>\n",
       "<table border=\"1\" class=\"dataframe\">\n",
       "  <thead>\n",
       "    <tr style=\"text-align: right;\">\n",
       "      <th></th>\n",
       "      <th>No..of.Years.in.Uni.at.Time.of.Grant.1</th>\n",
       "      <th>Grant.Category.Code</th>\n",
       "      <th>SEO.Code.5</th>\n",
       "      <th>Role.1</th>\n",
       "      <th>SEO.Code.2</th>\n",
       "      <th>SEO.Code.4</th>\n",
       "      <th>SEO.Code.1</th>\n",
       "      <th>Faculty.No..1</th>\n",
       "      <th>Sponsor.Code</th>\n",
       "      <th>RFCD.Code.1</th>\n",
       "      <th>...</th>\n",
       "      <th>SEO.Code.3</th>\n",
       "      <th>RFCD.Code.5</th>\n",
       "      <th>Country.of.Birth.1</th>\n",
       "      <th>A..1</th>\n",
       "      <th>B.1</th>\n",
       "      <th>Person.ID.1</th>\n",
       "      <th>A.1</th>\n",
       "      <th>With.PHD.1</th>\n",
       "      <th>RFCD.Code.3</th>\n",
       "      <th>Dept.No..1</th>\n",
       "    </tr>\n",
       "  </thead>\n",
       "  <tbody>\n",
       "    <tr>\n",
       "      <th>0</th>\n",
       "      <td>&gt;=0 to 5</td>\n",
       "      <td>50A</td>\n",
       "      <td>0.0</td>\n",
       "      <td>CHIEF_INVESTIGATOR</td>\n",
       "      <td>0.0</td>\n",
       "      <td>0.0</td>\n",
       "      <td>780101.0</td>\n",
       "      <td>31.0</td>\n",
       "      <td>21A</td>\n",
       "      <td>230202.0</td>\n",
       "      <td>...</td>\n",
       "      <td>0.0</td>\n",
       "      <td>0.0</td>\n",
       "      <td>Australia</td>\n",
       "      <td>0.0</td>\n",
       "      <td>2.0</td>\n",
       "      <td>493297.0</td>\n",
       "      <td>4.0</td>\n",
       "      <td>Yes</td>\n",
       "      <td>230204.0</td>\n",
       "      <td>3098.0</td>\n",
       "    </tr>\n",
       "    <tr>\n",
       "      <th>1</th>\n",
       "      <td>&gt;=0 to 5</td>\n",
       "      <td>10A</td>\n",
       "      <td>0.0</td>\n",
       "      <td>CHIEF_INVESTIGATOR</td>\n",
       "      <td>0.0</td>\n",
       "      <td>0.0</td>\n",
       "      <td>730112.0</td>\n",
       "      <td>25.0</td>\n",
       "      <td>4D</td>\n",
       "      <td>320801.0</td>\n",
       "      <td>...</td>\n",
       "      <td>0.0</td>\n",
       "      <td>0.0</td>\n",
       "      <td>Australia</td>\n",
       "      <td>0.0</td>\n",
       "      <td>0.0</td>\n",
       "      <td>330592.0</td>\n",
       "      <td>2.0</td>\n",
       "      <td>Yes</td>\n",
       "      <td>0.0</td>\n",
       "      <td>2553.0</td>\n",
       "    </tr>\n",
       "    <tr>\n",
       "      <th>2</th>\n",
       "      <td>Less than 0</td>\n",
       "      <td>NaN</td>\n",
       "      <td>0.0</td>\n",
       "      <td>CHIEF_INVESTIGATOR</td>\n",
       "      <td>730105.0</td>\n",
       "      <td>0.0</td>\n",
       "      <td>730203.0</td>\n",
       "      <td>25.0</td>\n",
       "      <td>NaN</td>\n",
       "      <td>320602.0</td>\n",
       "      <td>...</td>\n",
       "      <td>730108.0</td>\n",
       "      <td>0.0</td>\n",
       "      <td>Australia</td>\n",
       "      <td>0.0</td>\n",
       "      <td>2.0</td>\n",
       "      <td>66887.0</td>\n",
       "      <td>7.0</td>\n",
       "      <td>NaN</td>\n",
       "      <td>321015.0</td>\n",
       "      <td>2813.0</td>\n",
       "    </tr>\n",
       "    <tr>\n",
       "      <th>3</th>\n",
       "      <td>more than 15</td>\n",
       "      <td>20C</td>\n",
       "      <td>0.0</td>\n",
       "      <td>CHIEF_INVESTIGATOR</td>\n",
       "      <td>671401.0</td>\n",
       "      <td>0.0</td>\n",
       "      <td>730114.0</td>\n",
       "      <td>25.0</td>\n",
       "      <td>51C</td>\n",
       "      <td>291503.0</td>\n",
       "      <td>...</td>\n",
       "      <td>0.0</td>\n",
       "      <td>0.0</td>\n",
       "      <td>Great Britain</td>\n",
       "      <td>5.0</td>\n",
       "      <td>9.0</td>\n",
       "      <td>63812.0</td>\n",
       "      <td>6.0</td>\n",
       "      <td>NaN</td>\n",
       "      <td>0.0</td>\n",
       "      <td>2553.0</td>\n",
       "    </tr>\n",
       "    <tr>\n",
       "      <th>4</th>\n",
       "      <td>Less than 0</td>\n",
       "      <td>30B</td>\n",
       "      <td>0.0</td>\n",
       "      <td>CHIEF_INVESTIGATOR</td>\n",
       "      <td>730306.0</td>\n",
       "      <td>0.0</td>\n",
       "      <td>730108.0</td>\n",
       "      <td>25.0</td>\n",
       "      <td>24D</td>\n",
       "      <td>380107.0</td>\n",
       "      <td>...</td>\n",
       "      <td>0.0</td>\n",
       "      <td>0.0</td>\n",
       "      <td>Australia</td>\n",
       "      <td>0.0</td>\n",
       "      <td>0.0</td>\n",
       "      <td>13687.0</td>\n",
       "      <td>0.0</td>\n",
       "      <td>NaN</td>\n",
       "      <td>0.0</td>\n",
       "      <td>2923.0</td>\n",
       "    </tr>\n",
       "  </tbody>\n",
       "</table>\n",
       "<p>5 rows × 25 columns</p>\n",
       "</div>"
      ],
      "text/plain": [
       "  No..of.Years.in.Uni.at.Time.of.Grant.1 Grant.Category.Code  SEO.Code.5  \\\n",
       "0                               >=0 to 5                 50A         0.0   \n",
       "1                               >=0 to 5                 10A         0.0   \n",
       "2                            Less than 0                 NaN         0.0   \n",
       "3                           more than 15                 20C         0.0   \n",
       "4                            Less than 0                 30B         0.0   \n",
       "\n",
       "               Role.1  SEO.Code.2  SEO.Code.4  SEO.Code.1  Faculty.No..1  \\\n",
       "0  CHIEF_INVESTIGATOR         0.0         0.0    780101.0           31.0   \n",
       "1  CHIEF_INVESTIGATOR         0.0         0.0    730112.0           25.0   \n",
       "2  CHIEF_INVESTIGATOR    730105.0         0.0    730203.0           25.0   \n",
       "3  CHIEF_INVESTIGATOR    671401.0         0.0    730114.0           25.0   \n",
       "4  CHIEF_INVESTIGATOR    730306.0         0.0    730108.0           25.0   \n",
       "\n",
       "  Sponsor.Code  RFCD.Code.1  ...  SEO.Code.3  RFCD.Code.5 Country.of.Birth.1  \\\n",
       "0          21A     230202.0  ...         0.0          0.0          Australia   \n",
       "1           4D     320801.0  ...         0.0          0.0          Australia   \n",
       "2          NaN     320602.0  ...    730108.0          0.0          Australia   \n",
       "3          51C     291503.0  ...         0.0          0.0      Great Britain   \n",
       "4          24D     380107.0  ...         0.0          0.0          Australia   \n",
       "\n",
       "   A..1  B.1  Person.ID.1  A.1 With.PHD.1  RFCD.Code.3  Dept.No..1  \n",
       "0   0.0  2.0     493297.0  4.0       Yes      230204.0      3098.0  \n",
       "1   0.0  0.0     330592.0  2.0       Yes           0.0      2553.0  \n",
       "2   0.0  2.0      66887.0  7.0        NaN     321015.0      2813.0  \n",
       "3   5.0  9.0      63812.0  6.0        NaN          0.0      2553.0  \n",
       "4   0.0  0.0      13687.0  0.0        NaN          0.0      2923.0  \n",
       "\n",
       "[5 rows x 25 columns]"
      ]
     },
     "execution_count": 16,
     "metadata": {},
     "output_type": "execute_result"
    }
   ],
   "source": [
    "X_cat = X[categorical_cols]\n",
    "X_cat.head()"
   ]
  },
  {
   "cell_type": "markdown",
   "metadata": {},
   "source": [
    "Дивимося кількість пустих значень по стовпцям."
   ]
  },
  {
   "cell_type": "code",
   "execution_count": 17,
   "metadata": {},
   "outputs": [
    {
     "data": {
      "text/plain": [
       "No..of.Years.in.Uni.at.Time.of.Grant.1    1050\n",
       "Grant.Category.Code                        613\n",
       "SEO.Code.5                                 439\n",
       "Role.1                                      70\n",
       "SEO.Code.2                                 439\n",
       "SEO.Code.4                                 439\n",
       "SEO.Code.1                                 439\n",
       "Faculty.No..1                              611\n",
       "Sponsor.Code                               613\n",
       "RFCD.Code.1                                417\n",
       "RFCD.Code.2                                417\n",
       "C.1                                        366\n",
       "Home.Language.1                           5444\n",
       "RFCD.Code.4                                417\n",
       "Contract.Value.Band...see.note.A          2461\n",
       "SEO.Code.3                                 439\n",
       "RFCD.Code.5                                417\n",
       "Country.of.Birth.1                         904\n",
       "A..1                                       366\n",
       "B.1                                        366\n",
       "Person.ID.1                                366\n",
       "A.1                                        366\n",
       "With.PHD.1                                2496\n",
       "RFCD.Code.3                                417\n",
       "Dept.No..1                                 608\n",
       "dtype: int64"
      ]
     },
     "execution_count": 17,
     "metadata": {},
     "output_type": "execute_result"
    }
   ],
   "source": [
    "X_cat.isnull().sum()"
   ]
  },
  {
   "cell_type": "markdown",
   "metadata": {},
   "source": [
    "Замінюємо пусті значення на NA та перевіряємо чи змінилися значення."
   ]
  },
  {
   "cell_type": "code",
   "execution_count": 18,
   "metadata": {},
   "outputs": [
    {
     "data": {
      "text/html": [
       "<div>\n",
       "<style scoped>\n",
       "    .dataframe tbody tr th:only-of-type {\n",
       "        vertical-align: middle;\n",
       "    }\n",
       "\n",
       "    .dataframe tbody tr th {\n",
       "        vertical-align: top;\n",
       "    }\n",
       "\n",
       "    .dataframe thead th {\n",
       "        text-align: right;\n",
       "    }\n",
       "</style>\n",
       "<table border=\"1\" class=\"dataframe\">\n",
       "  <thead>\n",
       "    <tr style=\"text-align: right;\">\n",
       "      <th></th>\n",
       "      <th>No..of.Years.in.Uni.at.Time.of.Grant.1</th>\n",
       "      <th>Grant.Category.Code</th>\n",
       "      <th>SEO.Code.5</th>\n",
       "      <th>Role.1</th>\n",
       "      <th>SEO.Code.2</th>\n",
       "      <th>SEO.Code.4</th>\n",
       "      <th>SEO.Code.1</th>\n",
       "      <th>Faculty.No..1</th>\n",
       "      <th>Sponsor.Code</th>\n",
       "      <th>RFCD.Code.1</th>\n",
       "      <th>...</th>\n",
       "      <th>SEO.Code.3</th>\n",
       "      <th>RFCD.Code.5</th>\n",
       "      <th>Country.of.Birth.1</th>\n",
       "      <th>A..1</th>\n",
       "      <th>B.1</th>\n",
       "      <th>Person.ID.1</th>\n",
       "      <th>A.1</th>\n",
       "      <th>With.PHD.1</th>\n",
       "      <th>RFCD.Code.3</th>\n",
       "      <th>Dept.No..1</th>\n",
       "    </tr>\n",
       "  </thead>\n",
       "  <tbody>\n",
       "    <tr>\n",
       "      <th>0</th>\n",
       "      <td>&gt;=0 to 5</td>\n",
       "      <td>50A</td>\n",
       "      <td>0.0</td>\n",
       "      <td>CHIEF_INVESTIGATOR</td>\n",
       "      <td>0.0</td>\n",
       "      <td>0.0</td>\n",
       "      <td>780101.0</td>\n",
       "      <td>31.0</td>\n",
       "      <td>21A</td>\n",
       "      <td>230202.0</td>\n",
       "      <td>...</td>\n",
       "      <td>0.0</td>\n",
       "      <td>0.0</td>\n",
       "      <td>Australia</td>\n",
       "      <td>0.0</td>\n",
       "      <td>2.0</td>\n",
       "      <td>493297.0</td>\n",
       "      <td>4.0</td>\n",
       "      <td>Yes</td>\n",
       "      <td>230204.0</td>\n",
       "      <td>3098.0</td>\n",
       "    </tr>\n",
       "    <tr>\n",
       "      <th>1</th>\n",
       "      <td>&gt;=0 to 5</td>\n",
       "      <td>10A</td>\n",
       "      <td>0.0</td>\n",
       "      <td>CHIEF_INVESTIGATOR</td>\n",
       "      <td>0.0</td>\n",
       "      <td>0.0</td>\n",
       "      <td>730112.0</td>\n",
       "      <td>25.0</td>\n",
       "      <td>4D</td>\n",
       "      <td>320801.0</td>\n",
       "      <td>...</td>\n",
       "      <td>0.0</td>\n",
       "      <td>0.0</td>\n",
       "      <td>Australia</td>\n",
       "      <td>0.0</td>\n",
       "      <td>0.0</td>\n",
       "      <td>330592.0</td>\n",
       "      <td>2.0</td>\n",
       "      <td>Yes</td>\n",
       "      <td>0.0</td>\n",
       "      <td>2553.0</td>\n",
       "    </tr>\n",
       "    <tr>\n",
       "      <th>2</th>\n",
       "      <td>Less than 0</td>\n",
       "      <td>NA</td>\n",
       "      <td>0.0</td>\n",
       "      <td>CHIEF_INVESTIGATOR</td>\n",
       "      <td>730105.0</td>\n",
       "      <td>0.0</td>\n",
       "      <td>730203.0</td>\n",
       "      <td>25.0</td>\n",
       "      <td>NA</td>\n",
       "      <td>320602.0</td>\n",
       "      <td>...</td>\n",
       "      <td>730108.0</td>\n",
       "      <td>0.0</td>\n",
       "      <td>Australia</td>\n",
       "      <td>0.0</td>\n",
       "      <td>2.0</td>\n",
       "      <td>66887.0</td>\n",
       "      <td>7.0</td>\n",
       "      <td>NA</td>\n",
       "      <td>321015.0</td>\n",
       "      <td>2813.0</td>\n",
       "    </tr>\n",
       "    <tr>\n",
       "      <th>3</th>\n",
       "      <td>more than 15</td>\n",
       "      <td>20C</td>\n",
       "      <td>0.0</td>\n",
       "      <td>CHIEF_INVESTIGATOR</td>\n",
       "      <td>671401.0</td>\n",
       "      <td>0.0</td>\n",
       "      <td>730114.0</td>\n",
       "      <td>25.0</td>\n",
       "      <td>51C</td>\n",
       "      <td>291503.0</td>\n",
       "      <td>...</td>\n",
       "      <td>0.0</td>\n",
       "      <td>0.0</td>\n",
       "      <td>Great Britain</td>\n",
       "      <td>5.0</td>\n",
       "      <td>9.0</td>\n",
       "      <td>63812.0</td>\n",
       "      <td>6.0</td>\n",
       "      <td>NA</td>\n",
       "      <td>0.0</td>\n",
       "      <td>2553.0</td>\n",
       "    </tr>\n",
       "    <tr>\n",
       "      <th>4</th>\n",
       "      <td>Less than 0</td>\n",
       "      <td>30B</td>\n",
       "      <td>0.0</td>\n",
       "      <td>CHIEF_INVESTIGATOR</td>\n",
       "      <td>730306.0</td>\n",
       "      <td>0.0</td>\n",
       "      <td>730108.0</td>\n",
       "      <td>25.0</td>\n",
       "      <td>24D</td>\n",
       "      <td>380107.0</td>\n",
       "      <td>...</td>\n",
       "      <td>0.0</td>\n",
       "      <td>0.0</td>\n",
       "      <td>Australia</td>\n",
       "      <td>0.0</td>\n",
       "      <td>0.0</td>\n",
       "      <td>13687.0</td>\n",
       "      <td>0.0</td>\n",
       "      <td>NA</td>\n",
       "      <td>0.0</td>\n",
       "      <td>2923.0</td>\n",
       "    </tr>\n",
       "  </tbody>\n",
       "</table>\n",
       "<p>5 rows × 25 columns</p>\n",
       "</div>"
      ],
      "text/plain": [
       "  No..of.Years.in.Uni.at.Time.of.Grant.1 Grant.Category.Code SEO.Code.5  \\\n",
       "0                               >=0 to 5                 50A        0.0   \n",
       "1                               >=0 to 5                 10A        0.0   \n",
       "2                            Less than 0                  NA        0.0   \n",
       "3                           more than 15                 20C        0.0   \n",
       "4                            Less than 0                 30B        0.0   \n",
       "\n",
       "               Role.1 SEO.Code.2 SEO.Code.4 SEO.Code.1 Faculty.No..1  \\\n",
       "0  CHIEF_INVESTIGATOR        0.0        0.0   780101.0          31.0   \n",
       "1  CHIEF_INVESTIGATOR        0.0        0.0   730112.0          25.0   \n",
       "2  CHIEF_INVESTIGATOR   730105.0        0.0   730203.0          25.0   \n",
       "3  CHIEF_INVESTIGATOR   671401.0        0.0   730114.0          25.0   \n",
       "4  CHIEF_INVESTIGATOR   730306.0        0.0   730108.0          25.0   \n",
       "\n",
       "  Sponsor.Code RFCD.Code.1  ... SEO.Code.3 RFCD.Code.5 Country.of.Birth.1  \\\n",
       "0          21A    230202.0  ...        0.0         0.0          Australia   \n",
       "1           4D    320801.0  ...        0.0         0.0          Australia   \n",
       "2           NA    320602.0  ...   730108.0         0.0          Australia   \n",
       "3          51C    291503.0  ...        0.0         0.0      Great Britain   \n",
       "4          24D    380107.0  ...        0.0         0.0          Australia   \n",
       "\n",
       "  A..1  B.1 Person.ID.1  A.1 With.PHD.1 RFCD.Code.3 Dept.No..1  \n",
       "0  0.0  2.0    493297.0  4.0       Yes     230204.0     3098.0  \n",
       "1  0.0  0.0    330592.0  2.0       Yes          0.0     2553.0  \n",
       "2  0.0  2.0     66887.0  7.0         NA    321015.0     2813.0  \n",
       "3  5.0  9.0     63812.0  6.0         NA         0.0     2553.0  \n",
       "4  0.0  0.0     13687.0  0.0         NA         0.0     2923.0  \n",
       "\n",
       "[5 rows x 25 columns]"
      ]
     },
     "execution_count": 18,
     "metadata": {},
     "output_type": "execute_result"
    }
   ],
   "source": [
    "X_cat.replace(np.nan, 'NA', inplace = True)\n",
    "X_cat = X_cat.astype(str)\n",
    "X_cat.head()"
   ]
  },
  {
   "cell_type": "code",
   "execution_count": 19,
   "metadata": {},
   "outputs": [
    {
     "data": {
      "text/plain": [
       "No..of.Years.in.Uni.at.Time.of.Grant.1    0\n",
       "Grant.Category.Code                       0\n",
       "SEO.Code.5                                0\n",
       "Role.1                                    0\n",
       "SEO.Code.2                                0\n",
       "SEO.Code.4                                0\n",
       "SEO.Code.1                                0\n",
       "Faculty.No..1                             0\n",
       "Sponsor.Code                              0\n",
       "RFCD.Code.1                               0\n",
       "RFCD.Code.2                               0\n",
       "C.1                                       0\n",
       "Home.Language.1                           0\n",
       "RFCD.Code.4                               0\n",
       "Contract.Value.Band...see.note.A          0\n",
       "SEO.Code.3                                0\n",
       "RFCD.Code.5                               0\n",
       "Country.of.Birth.1                        0\n",
       "A..1                                      0\n",
       "B.1                                       0\n",
       "Person.ID.1                               0\n",
       "A.1                                       0\n",
       "With.PHD.1                                0\n",
       "RFCD.Code.3                               0\n",
       "Dept.No..1                                0\n",
       "dtype: int64"
      ]
     },
     "execution_count": 19,
     "metadata": {},
     "output_type": "execute_result"
    }
   ],
   "source": [
    "X_cat.isnull().sum()"
   ]
  },
  {
   "cell_type": "markdown",
   "metadata": {},
   "source": [
    "## Перетворення категоріальних ознак."
   ]
  },
  {
   "cell_type": "markdown",
   "metadata": {},
   "source": [
    "У попередній комірці ми розділили наш датасета ще на дві частини: в одній присутні тільки дійсні ознаки, в іншій тільки категоріальні. Це знадобиться нам для роздільної подальшої обробці цих даних, а так само для порівняння якості роботи тих чи інших методів.\n",
    "\n",
    "Для використання моделі регресії потрібно  перевести категоріальні ознаки в дійсні. Розглянемо основний спосіб перетворення категоріальних ознак в дійсні: one-hot encoding. Його ідея полягає в тому, що ми перетворимо категоріальний ознака за допомогою бінарного коду: кожної категорії ставимо у відповідність набір з нулів і одиниць.\n",
    "\n",
    "Подивимося, як цей метод працює на простому наборі даних."
   ]
  },
  {
   "cell_type": "code",
   "execution_count": 20,
   "metadata": {},
   "outputs": [
    {
     "name": "stdout",
     "output_type": "stream",
     "text": [
      "Исходные данные:\n",
      "\n",
      "      sex nationality\n",
      "0    male    American\n",
      "1  female    European\n",
      "2    male       Asian\n",
      "3  female    European\n",
      "\n",
      "Закодовані дані:\n",
      "\n",
      "[[1. 0. 0. 0. 1.]\n",
      " [0. 0. 1. 1. 0.]\n",
      " [0. 1. 0. 0. 1.]\n",
      " [0. 0. 1. 1. 0.]]\n"
     ]
    }
   ],
   "source": [
    "from sklearn.linear_model import LogisticRegression as LR\n",
    "from sklearn.feature_extraction import DictVectorizer as DV\n",
    "\n",
    "categorial_data = pd.DataFrame({'sex': ['male', 'female', 'male', 'female'], \n",
    "                                'nationality': ['American', 'European', 'Asian', 'European']})\n",
    "print('Исходные данные:\\n')\n",
    "print(categorial_data)\n",
    "encoder = DV(sparse = False)\n",
    "encoded_data = encoder.fit_transform(categorial_data.T.to_dict().values())\n",
    "print('\\nЗакодовані дані:\\n')\n",
    "print(encoded_data)"
   ]
  },
  {
   "cell_type": "markdown",
   "metadata": {},
   "source": [
    "Як видно, в перші три колонки виявилася закодованість інформація про країну, а в другі дві - про поле. При цьому для співпадаючих елементів вибірки рядка будуть повністю співпадати. Також з прикладу видно, що кодування ознак сильно збільшує їх кількість, але повністю зберігає інформацію, в тому числі про наявність пропущених значень (їх наявність просто стає одним з бінарних ознак в перетворених даних).\n",
    "\n",
    "Тепер застосуємо one-hot encoding до категоріальним ознаками з вихідного датасета. Зверніть увагу на загальний для всіх методів преобработкі даних інтерфейс. функція\n",
    "\n",
    "    encoder.fit_transform (X)\n",
    "    \n",
    "дозволяє обчислити необхідні параметри перетворення, згодом до нових даних можна вже застосовувати функцію\n",
    "\n",
    "    encoder.transform (X)\n",
    "    \n",
    "Дуже важливо застосовувати однакове перетворення як до навчальних, так і тестовим даними, тому що в противному випадку ви отримаєте непередбачувані, і, швидше за все, погані результати. Зокрема, якщо ви окремо закодуєте навчальну та тестову вибірку, то отримаєте взагалі кажучи різні коди для одних і тих же ознак, і ваше рішення працювати не буде.\n",
    "\n",
    "Також параметри багатьох перетворень (наприклад, розглянуте нижче масштабування) не можна обчислювати одночасно на даних з навчання і тесту, тому що інакше підраховані на тесті метрики якості будуть давати зміщені оцінки на якість роботи алгоритму. Кодування категоріальних ознак не вважає на навчальній вибірці ніяких параметрів, тому його можна застосовувати відразу до всього датасета."
   ]
  },
  {
   "cell_type": "code",
   "execution_count": 21,
   "metadata": {},
   "outputs": [],
   "source": [
    "encoder = DV(sparse = False)\n",
    "X_cat_oh = encoder.fit_transform(X_cat.T.to_dict().values())"
   ]
  },
  {
   "cell_type": "markdown",
   "metadata": {},
   "source": [
    "Для побудови метрики якості по результату навчання потрібно розділити вихідний датасета на навчальну і тестову вибірки.\n",
    "\n",
    "Звертаємо увагу на заданий параметр для генератора випадкових чисел: random_state. Так як результати на навчанні і тесті будуть залежати від того, як саме ви розділите об'єкти, то пропонується використовувати заздалегідь певне значення для отримання результатів, погоджених з відповідями в системі перевірки завдань."
   ]
  },
  {
   "cell_type": "code",
   "execution_count": 22,
   "metadata": {},
   "outputs": [],
   "source": [
    "from sklearn.model_selection import train_test_split\n",
    "\n",
    "(X_train_real_zeros, \n",
    " X_test_real_zeros, \n",
    " y_train, y_test) = train_test_split(X_real_zeros, y, \n",
    "                                     test_size=0.3, \n",
    "                                     random_state=0)\n",
    "(X_train_real_mean, \n",
    " X_test_real_mean) = train_test_split(X_real_mean, \n",
    "                                      test_size=0.3, \n",
    "                                      random_state=0)\n",
    "(X_train_cat_oh,\n",
    " X_test_cat_oh) = train_test_split(X_cat_oh, \n",
    "                                   test_size=0.3, \n",
    "                                   random_state=0)"
   ]
  },
  {
   "cell_type": "markdown",
   "metadata": {},
   "source": [
    "## Опис класів"
   ]
  },
  {
   "cell_type": "markdown",
   "metadata": {},
   "source": [
    "Отже, ми отримали перші набори даних, для яких виконані обидва обмеження логістичної регресії на вхідні дані. Навчимо на них регресію, використовуючи наявний в бібліотеці sklearn функціонал по підбору гіперпараметров моделі\n",
    "    \n",
    "    optimizer = GridSearchCV (estimator, param_grid)\n",
    "\n",
    "де:\n",
    "- estimator - навчальний алгоритм, для якого буде проводитися підбір параметрів\n",
    "- param_grid - словник параметрів, ключами якого є рядки-назви, які передаються алгоритму estimator, а значення - набір параметрів для перебору\n",
    "\n",
    "Даний клас виконує крос-валідацію навчальної вибірки для кожного набору параметрів і знаходить ті, на яких алгоритм працює найкраще. Цей метод дозволяє налаштовувати гіперпараметри за навчальною вибіркою, уникаючи перенавчання. Деякі опціональні параметри виклику даного класу, які нам знадобляться:\n",
    "- scoring - функціонал якості, максимум якого шукається крос валідацією, за замовчуванням використовується функція score () класу esimator\n",
    "- n_jobs - дозволяє прискорити крос-валідацію, виконуючи її паралельно, число визначає кількість одночасно запущених завдань\n",
    "- cv - кількість фолдов, на які розбивається вибірка при крос-валідації\n",
    "\n",
    "Після ініціалізації класу GridSearchCV, процес підбору параметрів запускається методом:\n",
    "\n",
    "    optimizer.fit (X, y)\n",
    "    \n",
    "На виході для отримання прогнозів можна користуватися функцією\n",
    "\n",
    "    optimizer.predict (X)\n",
    "    \n",
    "для міток або\n",
    "\n",
    "    optimizer.predict_proba (X)\n",
    "    \n",
    "для ймовірностей (в разі використання логістичної регресії).\n",
    "    \n",
    "Також можна безпосередньо отримати оптимальний клас estimator і оптимальні параметри, так як вони є атрибутами класу GridSearchCV:\n",
    "- best\\_estimator\\_ - кращий алгоритм\n",
    "- best\\_params\\_ - кращий набір параметрів\n",
    "\n",
    "Клас логістичної регресії виглядає наступним чином:\n",
    "\n",
    "    estimator = LogisticRegression (penalty)\n",
    "   \n",
    "де penalty приймає або значення 'l2', або 'l1'. За замовчуванням встановлюється значення 'l2', і всюди в завданні, якщо про це не обумовлено, передбачається використання логістичної регресії з L2-регуляризації."
   ]
  },
  {
   "cell_type": "markdown",
   "metadata": {},
   "source": [
    "## Завдання 1. Порівняння способів заповнення пропущених дійсних значень.\n",
    "1. Складіть дві навчальні вибірки з дійсних і категоріальних ознак: в одній дійсні ознаки, де пропущені значення заповнені нулями, в іншій - середніми. Рекомендується записувати в вибірки спочатку дійсні , а потім категоріальні ознаки.\n",
    "2. Навчіть на них логістичну регресію, підбираючи параметри з заданої сітки param_grid за методом крос-валідації з числом фолдов cv = 3. Як оптимізується функції використовуйте задану за замовчуванням.\n",
    "3. Побудуйте два графіка оцінок точності + - їх стандратним відхиленням в залежності від гіперпараметра і переконайтеся, що ви дійсно знайшли її максимум. Також зверніть увагу на велику дисперсію одержаних оцінок (зменшити її можна збільшенням числа фолдов cv).\n",
    "4. Отримайте дві метрики якості AUC ROC на тестовій вибірці і порівняйте їх між собою. Який спосіб заповнення пропущених речових значень працює краще? Надалі для виконання завдання в якості дійсних  ознак використовуйте ту вибірку, яка дає кращу якість на тесті.\n",
    "5. Передайте два значення AUC ROC (спочатку для вибірки, заповненої середніми, потім для вибірки, заповненої нулями) в функцію write_answer_1 і запустіть її. Отриманий файл є відповіддю на 1 завдання.\n",
    "\n",
    "Інформація для зацікавлених: взагалі кажучи, не цілком логічно оптимізувати на крос-валідації заданий за замовчуванням в класі логістичної регресії функціонал accuracy, а вимірювати на тесті AUC ROC, але це, як і обмеження розміру вибірки, зроблено для прискорення роботи процесу крос-валідації."
   ]
  },
  {
   "cell_type": "code",
   "execution_count": 23,
   "metadata": {},
   "outputs": [],
   "source": [
    "from sklearn.linear_model import LogisticRegression\n",
    "from sklearn.model_selection import GridSearchCV\n",
    "from sklearn.metrics import roc_auc_score\n",
    "\n",
    "def plot_scores(optimizer):\n",
    "    scores=[]\n",
    "    for i in range(len(optimizer.cv_results_['params'])):\n",
    "        scores.append([optimizer.cv_results_['params'][i]['C'], \n",
    "                optimizer.cv_results_['mean_test_score'][i],\n",
    "                optimizer.cv_results_['std_test_score'][i]])\n",
    "    scores = np.array(scores)\n",
    "    plt.semilogx(scores[:,0], scores[:,1])\n",
    "    plt.fill_between(scores[:,0], scores[:,1]-scores[:,2], \n",
    "                                  scores[:,1]+scores[:,2], alpha=0.3)\n",
    "    plt.show()\n",
    "    \n",
    "def write_answer_1(auc_1, auc_2):\n",
    "    auc = (auc_1 + auc_2)/2\n",
    "    with open(\"preprocessing_lr_answer1.txt\", \"w\") as fout:\n",
    "        fout.write(str(round(auc,4)))\n",
    "    print(round(auc,4))\n",
    "        \n",
    "param_grid = {'C': [0.01, 0.05, 0.1, 0.5, 1, 5, 10]}\n",
    "cv = 3\n",
    "\n",
    "# place your code here\n",
    "\n",
    "#write_answer_1(auc_1, auc_2)"
   ]
  },
  {
   "cell_type": "markdown",
   "metadata": {},
   "source": [
    "Складаємо навчальні вибірки для значень з нулями та категоріальними ознаками."
   ]
  },
  {
   "cell_type": "code",
   "execution_count": 24,
   "metadata": {},
   "outputs": [
    {
     "data": {
      "text/html": [
       "<div>\n",
       "<style scoped>\n",
       "    .dataframe tbody tr th:only-of-type {\n",
       "        vertical-align: middle;\n",
       "    }\n",
       "\n",
       "    .dataframe tbody tr th {\n",
       "        vertical-align: top;\n",
       "    }\n",
       "\n",
       "    .dataframe thead th {\n",
       "        text-align: right;\n",
       "    }\n",
       "</style>\n",
       "<table border=\"1\" class=\"dataframe\">\n",
       "  <thead>\n",
       "    <tr style=\"text-align: right;\">\n",
       "      <th></th>\n",
       "      <th>RFCD.Percentage.1</th>\n",
       "      <th>RFCD.Percentage.2</th>\n",
       "      <th>RFCD.Percentage.3</th>\n",
       "      <th>RFCD.Percentage.4</th>\n",
       "      <th>RFCD.Percentage.5</th>\n",
       "      <th>SEO.Percentage.1</th>\n",
       "      <th>SEO.Percentage.2</th>\n",
       "      <th>SEO.Percentage.3</th>\n",
       "      <th>SEO.Percentage.4</th>\n",
       "      <th>SEO.Percentage.5</th>\n",
       "      <th>...</th>\n",
       "      <th>5583</th>\n",
       "      <th>5584</th>\n",
       "      <th>5585</th>\n",
       "      <th>5586</th>\n",
       "      <th>5587</th>\n",
       "      <th>5588</th>\n",
       "      <th>5589</th>\n",
       "      <th>5590</th>\n",
       "      <th>5591</th>\n",
       "      <th>5592</th>\n",
       "    </tr>\n",
       "  </thead>\n",
       "  <tbody>\n",
       "    <tr>\n",
       "      <th>4831</th>\n",
       "      <td>30.0</td>\n",
       "      <td>30.0</td>\n",
       "      <td>40.0</td>\n",
       "      <td>0.0</td>\n",
       "      <td>0.0</td>\n",
       "      <td>50.0</td>\n",
       "      <td>50.0</td>\n",
       "      <td>0.0</td>\n",
       "      <td>0.0</td>\n",
       "      <td>0.0</td>\n",
       "      <td>...</td>\n",
       "      <td>0.0</td>\n",
       "      <td>0.0</td>\n",
       "      <td>0.0</td>\n",
       "      <td>0.0</td>\n",
       "      <td>0.0</td>\n",
       "      <td>0.0</td>\n",
       "      <td>0.0</td>\n",
       "      <td>0.0</td>\n",
       "      <td>0.0</td>\n",
       "      <td>1.0</td>\n",
       "    </tr>\n",
       "    <tr>\n",
       "      <th>4646</th>\n",
       "      <td>40.0</td>\n",
       "      <td>30.0</td>\n",
       "      <td>30.0</td>\n",
       "      <td>0.0</td>\n",
       "      <td>0.0</td>\n",
       "      <td>40.0</td>\n",
       "      <td>60.0</td>\n",
       "      <td>0.0</td>\n",
       "      <td>0.0</td>\n",
       "      <td>0.0</td>\n",
       "      <td>...</td>\n",
       "      <td>0.0</td>\n",
       "      <td>0.0</td>\n",
       "      <td>0.0</td>\n",
       "      <td>0.0</td>\n",
       "      <td>0.0</td>\n",
       "      <td>0.0</td>\n",
       "      <td>0.0</td>\n",
       "      <td>0.0</td>\n",
       "      <td>1.0</td>\n",
       "      <td>0.0</td>\n",
       "    </tr>\n",
       "    <tr>\n",
       "      <th>2154</th>\n",
       "      <td>30.0</td>\n",
       "      <td>40.0</td>\n",
       "      <td>30.0</td>\n",
       "      <td>0.0</td>\n",
       "      <td>0.0</td>\n",
       "      <td>50.0</td>\n",
       "      <td>50.0</td>\n",
       "      <td>0.0</td>\n",
       "      <td>0.0</td>\n",
       "      <td>0.0</td>\n",
       "      <td>...</td>\n",
       "      <td>0.0</td>\n",
       "      <td>0.0</td>\n",
       "      <td>0.0</td>\n",
       "      <td>0.0</td>\n",
       "      <td>0.0</td>\n",
       "      <td>0.0</td>\n",
       "      <td>0.0</td>\n",
       "      <td>0.0</td>\n",
       "      <td>0.0</td>\n",
       "      <td>1.0</td>\n",
       "    </tr>\n",
       "    <tr>\n",
       "      <th>1581</th>\n",
       "      <td>100.0</td>\n",
       "      <td>0.0</td>\n",
       "      <td>0.0</td>\n",
       "      <td>0.0</td>\n",
       "      <td>0.0</td>\n",
       "      <td>100.0</td>\n",
       "      <td>0.0</td>\n",
       "      <td>0.0</td>\n",
       "      <td>0.0</td>\n",
       "      <td>0.0</td>\n",
       "      <td>...</td>\n",
       "      <td>0.0</td>\n",
       "      <td>0.0</td>\n",
       "      <td>0.0</td>\n",
       "      <td>0.0</td>\n",
       "      <td>0.0</td>\n",
       "      <td>0.0</td>\n",
       "      <td>0.0</td>\n",
       "      <td>0.0</td>\n",
       "      <td>1.0</td>\n",
       "      <td>0.0</td>\n",
       "    </tr>\n",
       "    <tr>\n",
       "      <th>135</th>\n",
       "      <td>30.0</td>\n",
       "      <td>35.0</td>\n",
       "      <td>35.0</td>\n",
       "      <td>0.0</td>\n",
       "      <td>0.0</td>\n",
       "      <td>35.0</td>\n",
       "      <td>35.0</td>\n",
       "      <td>30.0</td>\n",
       "      <td>0.0</td>\n",
       "      <td>0.0</td>\n",
       "      <td>...</td>\n",
       "      <td>0.0</td>\n",
       "      <td>0.0</td>\n",
       "      <td>0.0</td>\n",
       "      <td>0.0</td>\n",
       "      <td>0.0</td>\n",
       "      <td>0.0</td>\n",
       "      <td>0.0</td>\n",
       "      <td>0.0</td>\n",
       "      <td>1.0</td>\n",
       "      <td>0.0</td>\n",
       "    </tr>\n",
       "    <tr>\n",
       "      <th>...</th>\n",
       "      <td>...</td>\n",
       "      <td>...</td>\n",
       "      <td>...</td>\n",
       "      <td>...</td>\n",
       "      <td>...</td>\n",
       "      <td>...</td>\n",
       "      <td>...</td>\n",
       "      <td>...</td>\n",
       "      <td>...</td>\n",
       "      <td>...</td>\n",
       "      <td>...</td>\n",
       "      <td>...</td>\n",
       "      <td>...</td>\n",
       "      <td>...</td>\n",
       "      <td>...</td>\n",
       "      <td>...</td>\n",
       "      <td>...</td>\n",
       "      <td>...</td>\n",
       "      <td>...</td>\n",
       "      <td>...</td>\n",
       "      <td>...</td>\n",
       "    </tr>\n",
       "    <tr>\n",
       "      <th>4931</th>\n",
       "      <td>100.0</td>\n",
       "      <td>0.0</td>\n",
       "      <td>0.0</td>\n",
       "      <td>0.0</td>\n",
       "      <td>0.0</td>\n",
       "      <td>90.0</td>\n",
       "      <td>10.0</td>\n",
       "      <td>0.0</td>\n",
       "      <td>0.0</td>\n",
       "      <td>0.0</td>\n",
       "      <td>...</td>\n",
       "      <td>0.0</td>\n",
       "      <td>0.0</td>\n",
       "      <td>0.0</td>\n",
       "      <td>0.0</td>\n",
       "      <td>0.0</td>\n",
       "      <td>0.0</td>\n",
       "      <td>0.0</td>\n",
       "      <td>0.0</td>\n",
       "      <td>0.0</td>\n",
       "      <td>1.0</td>\n",
       "    </tr>\n",
       "    <tr>\n",
       "      <th>3264</th>\n",
       "      <td>100.0</td>\n",
       "      <td>0.0</td>\n",
       "      <td>0.0</td>\n",
       "      <td>0.0</td>\n",
       "      <td>0.0</td>\n",
       "      <td>100.0</td>\n",
       "      <td>0.0</td>\n",
       "      <td>0.0</td>\n",
       "      <td>0.0</td>\n",
       "      <td>0.0</td>\n",
       "      <td>...</td>\n",
       "      <td>0.0</td>\n",
       "      <td>0.0</td>\n",
       "      <td>0.0</td>\n",
       "      <td>0.0</td>\n",
       "      <td>0.0</td>\n",
       "      <td>0.0</td>\n",
       "      <td>0.0</td>\n",
       "      <td>1.0</td>\n",
       "      <td>1.0</td>\n",
       "      <td>0.0</td>\n",
       "    </tr>\n",
       "    <tr>\n",
       "      <th>1653</th>\n",
       "      <td>100.0</td>\n",
       "      <td>0.0</td>\n",
       "      <td>0.0</td>\n",
       "      <td>0.0</td>\n",
       "      <td>0.0</td>\n",
       "      <td>100.0</td>\n",
       "      <td>0.0</td>\n",
       "      <td>0.0</td>\n",
       "      <td>0.0</td>\n",
       "      <td>0.0</td>\n",
       "      <td>...</td>\n",
       "      <td>0.0</td>\n",
       "      <td>0.0</td>\n",
       "      <td>0.0</td>\n",
       "      <td>0.0</td>\n",
       "      <td>0.0</td>\n",
       "      <td>0.0</td>\n",
       "      <td>0.0</td>\n",
       "      <td>0.0</td>\n",
       "      <td>0.0</td>\n",
       "      <td>1.0</td>\n",
       "    </tr>\n",
       "    <tr>\n",
       "      <th>2607</th>\n",
       "      <td>40.0</td>\n",
       "      <td>60.0</td>\n",
       "      <td>0.0</td>\n",
       "      <td>0.0</td>\n",
       "      <td>0.0</td>\n",
       "      <td>80.0</td>\n",
       "      <td>20.0</td>\n",
       "      <td>0.0</td>\n",
       "      <td>0.0</td>\n",
       "      <td>0.0</td>\n",
       "      <td>...</td>\n",
       "      <td>0.0</td>\n",
       "      <td>0.0</td>\n",
       "      <td>0.0</td>\n",
       "      <td>0.0</td>\n",
       "      <td>0.0</td>\n",
       "      <td>0.0</td>\n",
       "      <td>0.0</td>\n",
       "      <td>0.0</td>\n",
       "      <td>0.0</td>\n",
       "      <td>1.0</td>\n",
       "    </tr>\n",
       "    <tr>\n",
       "      <th>2732</th>\n",
       "      <td>100.0</td>\n",
       "      <td>0.0</td>\n",
       "      <td>0.0</td>\n",
       "      <td>0.0</td>\n",
       "      <td>0.0</td>\n",
       "      <td>25.0</td>\n",
       "      <td>25.0</td>\n",
       "      <td>25.0</td>\n",
       "      <td>25.0</td>\n",
       "      <td>0.0</td>\n",
       "      <td>...</td>\n",
       "      <td>0.0</td>\n",
       "      <td>0.0</td>\n",
       "      <td>0.0</td>\n",
       "      <td>0.0</td>\n",
       "      <td>0.0</td>\n",
       "      <td>0.0</td>\n",
       "      <td>0.0</td>\n",
       "      <td>0.0</td>\n",
       "      <td>0.0</td>\n",
       "      <td>1.0</td>\n",
       "    </tr>\n",
       "  </tbody>\n",
       "</table>\n",
       "<p>4200 rows × 5606 columns</p>\n",
       "</div>"
      ],
      "text/plain": [
       "      RFCD.Percentage.1  RFCD.Percentage.2  RFCD.Percentage.3  \\\n",
       "4831               30.0               30.0               40.0   \n",
       "4646               40.0               30.0               30.0   \n",
       "2154               30.0               40.0               30.0   \n",
       "1581              100.0                0.0                0.0   \n",
       "135                30.0               35.0               35.0   \n",
       "...                 ...                ...                ...   \n",
       "4931              100.0                0.0                0.0   \n",
       "3264              100.0                0.0                0.0   \n",
       "1653              100.0                0.0                0.0   \n",
       "2607               40.0               60.0                0.0   \n",
       "2732              100.0                0.0                0.0   \n",
       "\n",
       "      RFCD.Percentage.4  RFCD.Percentage.5  SEO.Percentage.1  \\\n",
       "4831                0.0                0.0              50.0   \n",
       "4646                0.0                0.0              40.0   \n",
       "2154                0.0                0.0              50.0   \n",
       "1581                0.0                0.0             100.0   \n",
       "135                 0.0                0.0              35.0   \n",
       "...                 ...                ...               ...   \n",
       "4931                0.0                0.0              90.0   \n",
       "3264                0.0                0.0             100.0   \n",
       "1653                0.0                0.0             100.0   \n",
       "2607                0.0                0.0              80.0   \n",
       "2732                0.0                0.0              25.0   \n",
       "\n",
       "      SEO.Percentage.2  SEO.Percentage.3  SEO.Percentage.4  SEO.Percentage.5  \\\n",
       "4831              50.0               0.0               0.0               0.0   \n",
       "4646              60.0               0.0               0.0               0.0   \n",
       "2154              50.0               0.0               0.0               0.0   \n",
       "1581               0.0               0.0               0.0               0.0   \n",
       "135               35.0              30.0               0.0               0.0   \n",
       "...                ...               ...               ...               ...   \n",
       "4931              10.0               0.0               0.0               0.0   \n",
       "3264               0.0               0.0               0.0               0.0   \n",
       "1653               0.0               0.0               0.0               0.0   \n",
       "2607              20.0               0.0               0.0               0.0   \n",
       "2732              25.0              25.0              25.0               0.0   \n",
       "\n",
       "      ...  5583  5584  5585  5586  5587  5588  5589  5590  5591  5592  \n",
       "4831  ...   0.0   0.0   0.0   0.0   0.0   0.0   0.0   0.0   0.0   1.0  \n",
       "4646  ...   0.0   0.0   0.0   0.0   0.0   0.0   0.0   0.0   1.0   0.0  \n",
       "2154  ...   0.0   0.0   0.0   0.0   0.0   0.0   0.0   0.0   0.0   1.0  \n",
       "1581  ...   0.0   0.0   0.0   0.0   0.0   0.0   0.0   0.0   1.0   0.0  \n",
       "135   ...   0.0   0.0   0.0   0.0   0.0   0.0   0.0   0.0   1.0   0.0  \n",
       "...   ...   ...   ...   ...   ...   ...   ...   ...   ...   ...   ...  \n",
       "4931  ...   0.0   0.0   0.0   0.0   0.0   0.0   0.0   0.0   0.0   1.0  \n",
       "3264  ...   0.0   0.0   0.0   0.0   0.0   0.0   0.0   1.0   1.0   0.0  \n",
       "1653  ...   0.0   0.0   0.0   0.0   0.0   0.0   0.0   0.0   0.0   1.0  \n",
       "2607  ...   0.0   0.0   0.0   0.0   0.0   0.0   0.0   0.0   0.0   1.0  \n",
       "2732  ...   0.0   0.0   0.0   0.0   0.0   0.0   0.0   0.0   0.0   1.0  \n",
       "\n",
       "[4200 rows x 5606 columns]"
      ]
     },
     "execution_count": 24,
     "metadata": {},
     "output_type": "execute_result"
    }
   ],
   "source": [
    "X_train_cat_oh = pd.DataFrame(X_train_cat_oh)\n",
    "\n",
    "X_train_cat_oh.index = X_train_real_zeros.index\n",
    "X_zeros = pd.concat([X_train_real_zeros, X_train_cat_oh], axis=1)\n",
    "X_zeros"
   ]
  },
  {
   "cell_type": "markdown",
   "metadata": {},
   "source": [
    "Складаємо навчальні вибірки для значень з середніми та категоріальними ознаками."
   ]
  },
  {
   "cell_type": "code",
   "execution_count": 25,
   "metadata": {},
   "outputs": [
    {
     "data": {
      "text/html": [
       "<div>\n",
       "<style scoped>\n",
       "    .dataframe tbody tr th:only-of-type {\n",
       "        vertical-align: middle;\n",
       "    }\n",
       "\n",
       "    .dataframe tbody tr th {\n",
       "        vertical-align: top;\n",
       "    }\n",
       "\n",
       "    .dataframe thead th {\n",
       "        text-align: right;\n",
       "    }\n",
       "</style>\n",
       "<table border=\"1\" class=\"dataframe\">\n",
       "  <thead>\n",
       "    <tr style=\"text-align: right;\">\n",
       "      <th></th>\n",
       "      <th>RFCD.Percentage.1</th>\n",
       "      <th>RFCD.Percentage.2</th>\n",
       "      <th>RFCD.Percentage.3</th>\n",
       "      <th>RFCD.Percentage.4</th>\n",
       "      <th>RFCD.Percentage.5</th>\n",
       "      <th>SEO.Percentage.1</th>\n",
       "      <th>SEO.Percentage.2</th>\n",
       "      <th>SEO.Percentage.3</th>\n",
       "      <th>SEO.Percentage.4</th>\n",
       "      <th>SEO.Percentage.5</th>\n",
       "      <th>...</th>\n",
       "      <th>5583</th>\n",
       "      <th>5584</th>\n",
       "      <th>5585</th>\n",
       "      <th>5586</th>\n",
       "      <th>5587</th>\n",
       "      <th>5588</th>\n",
       "      <th>5589</th>\n",
       "      <th>5590</th>\n",
       "      <th>5591</th>\n",
       "      <th>5592</th>\n",
       "    </tr>\n",
       "  </thead>\n",
       "  <tbody>\n",
       "    <tr>\n",
       "      <th>4831</th>\n",
       "      <td>30.0</td>\n",
       "      <td>30.0</td>\n",
       "      <td>40.0</td>\n",
       "      <td>0.0</td>\n",
       "      <td>0.0</td>\n",
       "      <td>50.0</td>\n",
       "      <td>50.0</td>\n",
       "      <td>0.0</td>\n",
       "      <td>0.0</td>\n",
       "      <td>0.0</td>\n",
       "      <td>...</td>\n",
       "      <td>0.0</td>\n",
       "      <td>0.0</td>\n",
       "      <td>0.0</td>\n",
       "      <td>0.0</td>\n",
       "      <td>0.0</td>\n",
       "      <td>0.0</td>\n",
       "      <td>0.0</td>\n",
       "      <td>0.0</td>\n",
       "      <td>0.0</td>\n",
       "      <td>1.0</td>\n",
       "    </tr>\n",
       "    <tr>\n",
       "      <th>4646</th>\n",
       "      <td>40.0</td>\n",
       "      <td>30.0</td>\n",
       "      <td>30.0</td>\n",
       "      <td>0.0</td>\n",
       "      <td>0.0</td>\n",
       "      <td>40.0</td>\n",
       "      <td>60.0</td>\n",
       "      <td>0.0</td>\n",
       "      <td>0.0</td>\n",
       "      <td>0.0</td>\n",
       "      <td>...</td>\n",
       "      <td>0.0</td>\n",
       "      <td>0.0</td>\n",
       "      <td>0.0</td>\n",
       "      <td>0.0</td>\n",
       "      <td>0.0</td>\n",
       "      <td>0.0</td>\n",
       "      <td>0.0</td>\n",
       "      <td>0.0</td>\n",
       "      <td>1.0</td>\n",
       "      <td>0.0</td>\n",
       "    </tr>\n",
       "    <tr>\n",
       "      <th>2154</th>\n",
       "      <td>30.0</td>\n",
       "      <td>40.0</td>\n",
       "      <td>30.0</td>\n",
       "      <td>0.0</td>\n",
       "      <td>0.0</td>\n",
       "      <td>50.0</td>\n",
       "      <td>50.0</td>\n",
       "      <td>0.0</td>\n",
       "      <td>0.0</td>\n",
       "      <td>0.0</td>\n",
       "      <td>...</td>\n",
       "      <td>0.0</td>\n",
       "      <td>0.0</td>\n",
       "      <td>0.0</td>\n",
       "      <td>0.0</td>\n",
       "      <td>0.0</td>\n",
       "      <td>0.0</td>\n",
       "      <td>0.0</td>\n",
       "      <td>0.0</td>\n",
       "      <td>0.0</td>\n",
       "      <td>1.0</td>\n",
       "    </tr>\n",
       "    <tr>\n",
       "      <th>1581</th>\n",
       "      <td>100.0</td>\n",
       "      <td>0.0</td>\n",
       "      <td>0.0</td>\n",
       "      <td>0.0</td>\n",
       "      <td>0.0</td>\n",
       "      <td>100.0</td>\n",
       "      <td>0.0</td>\n",
       "      <td>0.0</td>\n",
       "      <td>0.0</td>\n",
       "      <td>0.0</td>\n",
       "      <td>...</td>\n",
       "      <td>0.0</td>\n",
       "      <td>0.0</td>\n",
       "      <td>0.0</td>\n",
       "      <td>0.0</td>\n",
       "      <td>0.0</td>\n",
       "      <td>0.0</td>\n",
       "      <td>0.0</td>\n",
       "      <td>0.0</td>\n",
       "      <td>1.0</td>\n",
       "      <td>0.0</td>\n",
       "    </tr>\n",
       "    <tr>\n",
       "      <th>135</th>\n",
       "      <td>30.0</td>\n",
       "      <td>35.0</td>\n",
       "      <td>35.0</td>\n",
       "      <td>0.0</td>\n",
       "      <td>0.0</td>\n",
       "      <td>35.0</td>\n",
       "      <td>35.0</td>\n",
       "      <td>30.0</td>\n",
       "      <td>0.0</td>\n",
       "      <td>0.0</td>\n",
       "      <td>...</td>\n",
       "      <td>0.0</td>\n",
       "      <td>0.0</td>\n",
       "      <td>0.0</td>\n",
       "      <td>0.0</td>\n",
       "      <td>0.0</td>\n",
       "      <td>0.0</td>\n",
       "      <td>0.0</td>\n",
       "      <td>0.0</td>\n",
       "      <td>1.0</td>\n",
       "      <td>0.0</td>\n",
       "    </tr>\n",
       "    <tr>\n",
       "      <th>...</th>\n",
       "      <td>...</td>\n",
       "      <td>...</td>\n",
       "      <td>...</td>\n",
       "      <td>...</td>\n",
       "      <td>...</td>\n",
       "      <td>...</td>\n",
       "      <td>...</td>\n",
       "      <td>...</td>\n",
       "      <td>...</td>\n",
       "      <td>...</td>\n",
       "      <td>...</td>\n",
       "      <td>...</td>\n",
       "      <td>...</td>\n",
       "      <td>...</td>\n",
       "      <td>...</td>\n",
       "      <td>...</td>\n",
       "      <td>...</td>\n",
       "      <td>...</td>\n",
       "      <td>...</td>\n",
       "      <td>...</td>\n",
       "      <td>...</td>\n",
       "    </tr>\n",
       "    <tr>\n",
       "      <th>4931</th>\n",
       "      <td>100.0</td>\n",
       "      <td>0.0</td>\n",
       "      <td>0.0</td>\n",
       "      <td>0.0</td>\n",
       "      <td>0.0</td>\n",
       "      <td>90.0</td>\n",
       "      <td>10.0</td>\n",
       "      <td>0.0</td>\n",
       "      <td>0.0</td>\n",
       "      <td>0.0</td>\n",
       "      <td>...</td>\n",
       "      <td>0.0</td>\n",
       "      <td>0.0</td>\n",
       "      <td>0.0</td>\n",
       "      <td>0.0</td>\n",
       "      <td>0.0</td>\n",
       "      <td>0.0</td>\n",
       "      <td>0.0</td>\n",
       "      <td>0.0</td>\n",
       "      <td>0.0</td>\n",
       "      <td>1.0</td>\n",
       "    </tr>\n",
       "    <tr>\n",
       "      <th>3264</th>\n",
       "      <td>100.0</td>\n",
       "      <td>0.0</td>\n",
       "      <td>0.0</td>\n",
       "      <td>0.0</td>\n",
       "      <td>0.0</td>\n",
       "      <td>100.0</td>\n",
       "      <td>0.0</td>\n",
       "      <td>0.0</td>\n",
       "      <td>0.0</td>\n",
       "      <td>0.0</td>\n",
       "      <td>...</td>\n",
       "      <td>0.0</td>\n",
       "      <td>0.0</td>\n",
       "      <td>0.0</td>\n",
       "      <td>0.0</td>\n",
       "      <td>0.0</td>\n",
       "      <td>0.0</td>\n",
       "      <td>0.0</td>\n",
       "      <td>1.0</td>\n",
       "      <td>1.0</td>\n",
       "      <td>0.0</td>\n",
       "    </tr>\n",
       "    <tr>\n",
       "      <th>1653</th>\n",
       "      <td>100.0</td>\n",
       "      <td>0.0</td>\n",
       "      <td>0.0</td>\n",
       "      <td>0.0</td>\n",
       "      <td>0.0</td>\n",
       "      <td>100.0</td>\n",
       "      <td>0.0</td>\n",
       "      <td>0.0</td>\n",
       "      <td>0.0</td>\n",
       "      <td>0.0</td>\n",
       "      <td>...</td>\n",
       "      <td>0.0</td>\n",
       "      <td>0.0</td>\n",
       "      <td>0.0</td>\n",
       "      <td>0.0</td>\n",
       "      <td>0.0</td>\n",
       "      <td>0.0</td>\n",
       "      <td>0.0</td>\n",
       "      <td>0.0</td>\n",
       "      <td>0.0</td>\n",
       "      <td>1.0</td>\n",
       "    </tr>\n",
       "    <tr>\n",
       "      <th>2607</th>\n",
       "      <td>40.0</td>\n",
       "      <td>60.0</td>\n",
       "      <td>0.0</td>\n",
       "      <td>0.0</td>\n",
       "      <td>0.0</td>\n",
       "      <td>80.0</td>\n",
       "      <td>20.0</td>\n",
       "      <td>0.0</td>\n",
       "      <td>0.0</td>\n",
       "      <td>0.0</td>\n",
       "      <td>...</td>\n",
       "      <td>0.0</td>\n",
       "      <td>0.0</td>\n",
       "      <td>0.0</td>\n",
       "      <td>0.0</td>\n",
       "      <td>0.0</td>\n",
       "      <td>0.0</td>\n",
       "      <td>0.0</td>\n",
       "      <td>0.0</td>\n",
       "      <td>0.0</td>\n",
       "      <td>1.0</td>\n",
       "    </tr>\n",
       "    <tr>\n",
       "      <th>2732</th>\n",
       "      <td>100.0</td>\n",
       "      <td>0.0</td>\n",
       "      <td>0.0</td>\n",
       "      <td>0.0</td>\n",
       "      <td>0.0</td>\n",
       "      <td>25.0</td>\n",
       "      <td>25.0</td>\n",
       "      <td>25.0</td>\n",
       "      <td>25.0</td>\n",
       "      <td>0.0</td>\n",
       "      <td>...</td>\n",
       "      <td>0.0</td>\n",
       "      <td>0.0</td>\n",
       "      <td>0.0</td>\n",
       "      <td>0.0</td>\n",
       "      <td>0.0</td>\n",
       "      <td>0.0</td>\n",
       "      <td>0.0</td>\n",
       "      <td>0.0</td>\n",
       "      <td>0.0</td>\n",
       "      <td>1.0</td>\n",
       "    </tr>\n",
       "  </tbody>\n",
       "</table>\n",
       "<p>4200 rows × 5606 columns</p>\n",
       "</div>"
      ],
      "text/plain": [
       "      RFCD.Percentage.1  RFCD.Percentage.2  RFCD.Percentage.3  \\\n",
       "4831               30.0               30.0               40.0   \n",
       "4646               40.0               30.0               30.0   \n",
       "2154               30.0               40.0               30.0   \n",
       "1581              100.0                0.0                0.0   \n",
       "135                30.0               35.0               35.0   \n",
       "...                 ...                ...                ...   \n",
       "4931              100.0                0.0                0.0   \n",
       "3264              100.0                0.0                0.0   \n",
       "1653              100.0                0.0                0.0   \n",
       "2607               40.0               60.0                0.0   \n",
       "2732              100.0                0.0                0.0   \n",
       "\n",
       "      RFCD.Percentage.4  RFCD.Percentage.5  SEO.Percentage.1  \\\n",
       "4831                0.0                0.0              50.0   \n",
       "4646                0.0                0.0              40.0   \n",
       "2154                0.0                0.0              50.0   \n",
       "1581                0.0                0.0             100.0   \n",
       "135                 0.0                0.0              35.0   \n",
       "...                 ...                ...               ...   \n",
       "4931                0.0                0.0              90.0   \n",
       "3264                0.0                0.0             100.0   \n",
       "1653                0.0                0.0             100.0   \n",
       "2607                0.0                0.0              80.0   \n",
       "2732                0.0                0.0              25.0   \n",
       "\n",
       "      SEO.Percentage.2  SEO.Percentage.3  SEO.Percentage.4  SEO.Percentage.5  \\\n",
       "4831              50.0               0.0               0.0               0.0   \n",
       "4646              60.0               0.0               0.0               0.0   \n",
       "2154              50.0               0.0               0.0               0.0   \n",
       "1581               0.0               0.0               0.0               0.0   \n",
       "135               35.0              30.0               0.0               0.0   \n",
       "...                ...               ...               ...               ...   \n",
       "4931              10.0               0.0               0.0               0.0   \n",
       "3264               0.0               0.0               0.0               0.0   \n",
       "1653               0.0               0.0               0.0               0.0   \n",
       "2607              20.0               0.0               0.0               0.0   \n",
       "2732              25.0              25.0              25.0               0.0   \n",
       "\n",
       "      ...  5583  5584  5585  5586  5587  5588  5589  5590  5591  5592  \n",
       "4831  ...   0.0   0.0   0.0   0.0   0.0   0.0   0.0   0.0   0.0   1.0  \n",
       "4646  ...   0.0   0.0   0.0   0.0   0.0   0.0   0.0   0.0   1.0   0.0  \n",
       "2154  ...   0.0   0.0   0.0   0.0   0.0   0.0   0.0   0.0   0.0   1.0  \n",
       "1581  ...   0.0   0.0   0.0   0.0   0.0   0.0   0.0   0.0   1.0   0.0  \n",
       "135   ...   0.0   0.0   0.0   0.0   0.0   0.0   0.0   0.0   1.0   0.0  \n",
       "...   ...   ...   ...   ...   ...   ...   ...   ...   ...   ...   ...  \n",
       "4931  ...   0.0   0.0   0.0   0.0   0.0   0.0   0.0   0.0   0.0   1.0  \n",
       "3264  ...   0.0   0.0   0.0   0.0   0.0   0.0   0.0   1.0   1.0   0.0  \n",
       "1653  ...   0.0   0.0   0.0   0.0   0.0   0.0   0.0   0.0   0.0   1.0  \n",
       "2607  ...   0.0   0.0   0.0   0.0   0.0   0.0   0.0   0.0   0.0   1.0  \n",
       "2732  ...   0.0   0.0   0.0   0.0   0.0   0.0   0.0   0.0   0.0   1.0  \n",
       "\n",
       "[4200 rows x 5606 columns]"
      ]
     },
     "execution_count": 25,
     "metadata": {},
     "output_type": "execute_result"
    }
   ],
   "source": [
    "X_train_cat_oh.index = X_train_real_mean.index\n",
    "X_mean = pd.concat([X_train_real_mean, X_train_cat_oh], axis=1)\n",
    "X_mean"
   ]
  },
  {
   "cell_type": "markdown",
   "metadata": {},
   "source": [
    "Навчаємо на них логістичну регресію."
   ]
  },
  {
   "cell_type": "code",
   "execution_count": 26,
   "metadata": {},
   "outputs": [
    {
     "name": "stdout",
     "output_type": "stream",
     "text": [
      "for zeros = 0.7476190476190476\n"
     ]
    },
    {
     "data": {
      "image/png": "[encoded data removed]",
      "text/plain": [
       "<Figure size 640x480 with 1 Axes>"
      ]
     },
     "metadata": {},
     "output_type": "display_data"
    }
   ],
   "source": [
    "estimator_zero = LogisticRegression()\n",
    "optimizer_zero = GridSearchCV(estimator_zero, param_grid, cv=cv) # , n_jobs=-1)\n",
    "\n",
    "optimizer_zero.fit(X_zeros, y_train)\n",
    "print (\"for zeros =\", optimizer_zero.best_score_)\n",
    "plot_scores(optimizer_zero)"
   ]
  },
  {
   "cell_type": "code",
   "execution_count": 27,
   "metadata": {},
   "outputs": [
    {
     "name": "stdout",
     "output_type": "stream",
     "text": [
      "for mean = 0.7585714285714286\n"
     ]
    },
    {
     "data": {
      "image/png": "[encoded data removed]",
      "text/plain": [
       "<Figure size 640x480 with 1 Axes>"
      ]
     },
     "metadata": {},
     "output_type": "display_data"
    }
   ],
   "source": [
    "estimator_mean = LogisticRegression()\n",
    "optimizer_mean = GridSearchCV(estimator_mean, param_grid, cv=cv) # , n_jobs=-1)\n",
    "\n",
    "optimizer_mean.fit(X_mean, y_train)\n",
    "print (\"for mean =\", optimizer_mean.best_score_)\n",
    "plot_scores(optimizer_mean)"
   ]
  },
  {
   "cell_type": "markdown",
   "metadata": {},
   "source": [
    "Складаємо тестові вибірки для значень з нулями та категоріальними ознаками."
   ]
  },
  {
   "cell_type": "code",
   "execution_count": 28,
   "metadata": {},
   "outputs": [],
   "source": [
    "X_test_cat_oh = pd.DataFrame(X_test_cat_oh)\n",
    "\n",
    "X_test_cat_oh.index = X_test_real_zeros.index\n",
    "X_zeros_test = pd.concat([X_test_real_zeros, X_test_cat_oh], axis=1)\n",
    "#X_zeros_test"
   ]
  },
  {
   "cell_type": "markdown",
   "metadata": {},
   "source": [
    "Складаємо тестові вибірки для значень з середніми та категоріальними ознаками."
   ]
  },
  {
   "cell_type": "code",
   "execution_count": 29,
   "metadata": {},
   "outputs": [],
   "source": [
    "X_test_cat_oh.index = X_test_real_mean.index\n",
    "X_mean_test = pd.concat([X_test_real_mean, X_test_cat_oh], axis=1)\n",
    "#X_mean_test"
   ]
  },
  {
   "cell_type": "code",
   "execution_count": 30,
   "metadata": {},
   "outputs": [],
   "source": [
    "score_zero, score_mean = 0, 0"
   ]
  },
  {
   "cell_type": "code",
   "execution_count": 31,
   "metadata": {},
   "outputs": [
    {
     "data": {
      "text/plain": [
       "0.8054750906699367"
      ]
     },
     "execution_count": 31,
     "metadata": {},
     "output_type": "execute_result"
    }
   ],
   "source": [
    "score_zero = roc_auc_score(y_test, optimizer_zero.predict_proba(X_zeros_test)[:, 1])\n",
    "score_zero"
   ]
  },
  {
   "cell_type": "code",
   "execution_count": 32,
   "metadata": {},
   "outputs": [
    {
     "data": {
      "text/plain": [
       "0.8078731573678681"
      ]
     },
     "execution_count": 32,
     "metadata": {},
     "output_type": "execute_result"
    }
   ],
   "source": [
    "score_mean = roc_auc_score(y_test, optimizer_zero.predict_proba(X_mean_test)[:, 1])\n",
    "score_mean"
   ]
  },
  {
   "cell_type": "code",
   "execution_count": 33,
   "metadata": {},
   "outputs": [
    {
     "name": "stdout",
     "output_type": "stream",
     "text": [
      "0.8067\n"
     ]
    }
   ],
   "source": [
    "auc_1 = score_mean\n",
    "auc_2 = score_zero\n",
    "write_answer_1(auc_1, auc_2)"
   ]
  },
  {
   "cell_type": "markdown",
   "metadata": {},
   "source": [
    "## Масштабування дійсних ознак"
   ]
  },
  {
   "cell_type": "markdown",
   "metadata": {},
   "source": [
    "Спробуємо якось поліпшити якість класифікації. Для цього подивимося на самі дані:"
   ]
  },
  {
   "cell_type": "code",
   "execution_count": 34,
   "metadata": {},
   "outputs": [
    {
     "data": {
      "image/png": "[encoded data removed]",
      "text/plain": [
       "<Figure size 1000x1000 with 9 Axes>"
      ]
     },
     "metadata": {},
     "output_type": "display_data"
    }
   ],
   "source": [
    "from pandas.plotting import scatter_matrix\n",
    "\n",
    "data_numeric = pd.DataFrame(X_train_real_zeros, columns=numeric_cols)\n",
    "list_cols = ['Number.of.Successful.Grant.1', 'SEO.Percentage.2', 'Year.of.Birth.1']\n",
    "scatter_matrix(data_numeric[list_cols], alpha=0.5, figsize=(10, 10))\n",
    "plt.show()"
   ]
  },
  {
   "cell_type": "markdown",
   "metadata": {},
   "source": [
    "Як видно з графіків, різні ознаки дуже сильно відрізняються один від одного по модулю значень (зверніть увагу на діапазони значень осей x і y). У випадку звичайної регресії це ніяк не впливає на якість навченою моделі, тому що у менших по модулю ознак будуть великі ваги, але при використанні регуляризації, яка штрафує модель за великі ваги, регресія, як правило, починає працювати гірше.\n",
    "\n",
    "У таких випадках завжди рекомендується робити стандартизацію (масштабування) ознак, для того щоб вони менше відрізнялися один одного по модулю, але при цьому не порушувалися ніякі інші властивості простору ознак. При цьому навіть якщо підсумкове якість моделі на тесті зменшується, це підвищує її інтерпретабельность, тому що нові ваги мають сенс \"значущості\" даної ознаки для підсумковій класифікації.\n",
    "\n",
    "Стандартизація здійснюється за допомогою вирахування з кожної ознаки середнього значення і нормування на вибіркове стандартне відхилення:\n",
    "\n",
    "$$ x^{scaled}_{id} = \\dfrac{x_{id} - \\mu_d}{\\sigma_d}, \\quad \\mu_d = \\frac{1}{N} \\sum_{i=1}^l x_{id}, \\quad \\sigma_d = \\sqrt{\\frac{1}{N-1} \\sum_{i=1}^l (x_{id} - \\mu_d)^2} $$"
   ]
  },
  {
   "cell_type": "markdown",
   "metadata": {},
   "source": [
    "### Виконайте масштабування дійсних ознак\n",
    "\n",
    "1. За аналогією з викликом one-hot encoder застосуєте масштабування дійсних ознак для навчальних і тестових вибірок X_train_real_zeros і X_test_real_zeros, використовуючи клас\n",
    "\n",
    "         StandardScaler\n",
    "   \n",
    "    і методи\n",
    "\n",
    "         StandardScaler.fit_transform (...)\n",
    "         StandardScaler.transform (...)\n",
    "2. Збережіть відповідь в змінні X_train_real_scaled і X_test_real_scaled відповідно"
   ]
  },
  {
   "cell_type": "code",
   "execution_count": 35,
   "metadata": {},
   "outputs": [],
   "source": [
    "from sklearn.preprocessing import StandardScaler\n",
    "\n",
    "# place your code here\n",
    "scaler = StandardScaler()\n",
    "X_train_real_scaled = scaler.fit_transform(X_train_real_zeros)\n",
    "X_test_real_scaled = scaler.fit_transform(X_test_real_zeros)"
   ]
  },
  {
   "cell_type": "markdown",
   "metadata": {},
   "source": [
    "## Порівняння ознакових просторів."
   ]
  },
  {
   "cell_type": "markdown",
   "metadata": {},
   "source": [
    "Побудуємо такі ж графіки для перетворених даних:"
   ]
  },
  {
   "cell_type": "code",
   "execution_count": 36,
   "metadata": {},
   "outputs": [
    {
     "data": {
      "image/png": "[encoded data removed]",
      "text/plain": [
       "<Figure size 1000x1000 with 9 Axes>"
      ]
     },
     "metadata": {},
     "output_type": "display_data"
    }
   ],
   "source": [
    "data_numeric_scaled = pd.DataFrame(X_train_real_scaled, columns=numeric_cols)\n",
    "list_cols = ['Number.of.Successful.Grant.1', 'SEO.Percentage.2', 'Year.of.Birth.1']\n",
    "scatter_matrix(data_numeric_scaled[list_cols], alpha=0.5, figsize=(10, 10))\n",
    "plt.show()"
   ]
  },
  {
   "cell_type": "markdown",
   "metadata": {},
   "source": [
    "Як видно з графіків, ми не поміняли властивості простору ознак: гістограми розподілів значень ознак, як і їх scatter-plots, виглядають так само, як і до нормування, але при цьому всі значення тепер знаходяться приблизно в одному діапазоні, тим самим підвищуючи інтерпретабельность результатів , а також краще поєднуючись з ідеологією регуляризації."
   ]
  },
  {
   "cell_type": "markdown",
   "metadata": {},
   "source": [
    "## Завдання 2. Порівняння якості класифікації до і після масштабування дійсних ознак\n",
    "1. Навчіть ще раз регресію і гіперпараметри на нових ознаках, об'єднавши їх з закодованими категоріальними.\n",
    "2. Перевірте, чи був знайдений оптимум accuracy по гіперпараметрам під час кроссвалідаціі.\n",
    "3. Отримайте значення ROC AUC на тестовій вибірці, порівняйте з найкращим результатом, отриманими раніше.\n",
    "4. Запишіть отриману відповідь в файл за допомогою функції write_answer_2."
   ]
  },
  {
   "cell_type": "code",
   "execution_count": 37,
   "metadata": {},
   "outputs": [],
   "source": [
    "def write_answer_2(auc):\n",
    "    with open(\"preprocessing_lr_answer2.txt\", \"w\") as fout:\n",
    "        fout.write(str(round(auc,4)))\n",
    "    print(round(auc,4))\n",
    "        \n",
    "# place your code here"
   ]
  },
  {
   "cell_type": "code",
   "execution_count": 38,
   "metadata": {},
   "outputs": [],
   "source": [
    "X_train_scaled = np.hstack((X_train_real_scaled, X_train_cat_oh))\n",
    "X_test_scaled = np.hstack((X_test_real_scaled, X_test_cat_oh))"
   ]
  },
  {
   "cell_type": "code",
   "execution_count": 39,
   "metadata": {},
   "outputs": [
    {
     "name": "stdout",
     "output_type": "stream",
     "text": [
      "optimizer_new = 0.7945238095238095\n"
     ]
    },
    {
     "data": {
      "image/png": "[encoded data removed]",
      "text/plain": [
       "<Figure size 640x480 with 1 Axes>"
      ]
     },
     "metadata": {},
     "output_type": "display_data"
    }
   ],
   "source": [
    "estimator_new = LogisticRegression()\n",
    "optimizer_new = GridSearchCV(estimator_new, param_grid, cv=cv)\n",
    "\n",
    "optimizer_new.fit(X_train_scaled, y_train)\n",
    "print (\"optimizer_new =\", optimizer_new.best_score_)\n",
    "plot_scores(optimizer_new)"
   ]
  },
  {
   "cell_type": "code",
   "execution_count": 40,
   "metadata": {},
   "outputs": [
    {
     "data": {
      "text/plain": [
       "0.8844343445717445"
      ]
     },
     "execution_count": 40,
     "metadata": {},
     "output_type": "execute_result"
    }
   ],
   "source": [
    "score_new = roc_auc_score(y_test, optimizer_new.predict_proba(X_test_scaled)[:, 1])\n",
    "score_new"
   ]
  },
  {
   "cell_type": "code",
   "execution_count": 41,
   "metadata": {},
   "outputs": [
    {
     "name": "stdout",
     "output_type": "stream",
     "text": [
      "0.8844\n"
     ]
    }
   ],
   "source": [
    "auc = score_new\n",
    "write_answer_2(auc)"
   ]
  },
  {
   "cell_type": "markdown",
   "metadata": {},
   "source": [
    "## Балансування класів."
   ]
  },
  {
   "cell_type": "markdown",
   "metadata": {},
   "source": [
    "Алгоритми класифікації можуть бути дуже чутливі до незбалансованим класах. Розглянемо приклад з вибірками, семпліровалісь з двох Гауссіан. Їх мат. очікування і матриці коваріації задані так, що справжня розділяє поверхню повинна проходити паралельно осі x. Помістимо в навчальну вибірку 20 об'єктів, семплірованних з 1-й Гауссіана, і 10 об'єктів з 2-й. Після цього навчимо на них лінійну регресію, і побудуємо на графіках об'єкти і області класифікації."
   ]
  },
  {
   "cell_type": "code",
   "execution_count": 42,
   "metadata": {},
   "outputs": [
    {
     "data": {
      "image/png": "[encoded data removed]",
      "text/plain": [
       "<Figure size 640x480 with 1 Axes>"
      ]
     },
     "metadata": {},
     "output_type": "display_data"
    },
    {
     "name": "stdout",
     "output_type": "stream",
     "text": [
      "AUC: 0.911667\n"
     ]
    },
    {
     "data": {
      "image/png": "[encoded data removed]",
      "text/plain": [
       "<Figure size 640x480 with 1 Axes>"
      ]
     },
     "metadata": {},
     "output_type": "display_data"
    },
    {
     "name": "stdout",
     "output_type": "stream",
     "text": [
      "AUC: 0.906667\n"
     ]
    }
   ],
   "source": [
    "np.random.seed (0)\n",
    "\"\"\"Семпліруем дані з першої Гауссіана\"\"\"\n",
    "data_0 = np.random.multivariate_normal ([0,0], [[0.5,0], [0,0.5]], size = 40)\n",
    "\"\"\"І з другої\"\"\"\n",
    "data_1 = np.random.multivariate_normal ([0,1], [[0.5,0], [0,0.5]], size = 40)\n",
    "\"\"\"На навчання беремо 20 об'єктів з першого класу і 10 з другого\"\"\"\n",
    "example_data_train = np.vstack ([data_0 [: 20 ,:], data_1 [: 10 ,:]])\n",
    "example_labels_train = np.concatenate ([np.zeros ((20)), np.ones ((10))])\n",
    "\"\"\"На тест - 20 з першого і 30 з другого\"\"\"\n",
    "example_data_test = np.vstack ([data_0 [20:,:], data_1 [10:,:]])\n",
    "example_labels_test = np.concatenate ([np.zeros ((20)), np.ones ((30))])\n",
    "\"\"\"Задаємо координатну сітку, на якій будемо обчислювати область класифікації\"\"\"\n",
    "xx, yy = np.meshgrid (np.arange (-3, 3, 0.02), np.arange (-3, 3, 0.02))\n",
    "\"\"\"Навчаємо регресію без балансування за класами\"\"\"\n",
    "optimizer = GridSearchCV (LogisticRegression (), param_grid, cv = cv, n_jobs = -1)\n",
    "optimizer.fit (example_data_train, example_labels_train)\n",
    "\"\"\"Будуємо прогноз регресії для сітки\"\"\"\n",
    "Z = optimizer.predict (np.c_ [xx.ravel (), yy.ravel ()]).reshape (xx.shape)\n",
    "plt.pcolormesh (xx, yy, Z, cmap = plt.cm.Pastel2)\n",
    "plt.scatter (data_0 [:, 0], data_0 [:, 1], color = 'red')\n",
    "plt.scatter (data_1 [:, 0], data_1 [:, 1], color = 'blue')\n",
    "\"\"\"Обчислюємо AUC\"\"\"\n",
    "auc_wo_class_weights = roc_auc_score (example_labels_test, optimizer.predict_proba (example_data_test) [:, 1])\n",
    "plt.title ( 'Without class weights')\n",
    "plt.show ()\n",
    "print ( 'AUC:% f'% auc_wo_class_weights)\n",
    "\"\"\"Для другої регресії в LogisticRegression передаємо параметр class_weight = 'balanced'\"\"\"\n",
    "optimizer = GridSearchCV (LogisticRegression (class_weight = 'balanced'), param_grid, cv = cv, n_jobs = -1)\n",
    "optimizer.fit (example_data_train, example_labels_train)\n",
    "Z = optimizer.predict (np.c_ [xx.ravel (), yy.ravel ()]).reshape (xx.shape)\n",
    "plt.pcolormesh (xx, yy, Z, cmap = plt.cm.Pastel2)\n",
    "plt.scatter (data_0 [:, 0], data_0 [:, 1], color = 'red')\n",
    "plt.scatter (data_1 [:, 0], data_1 [:, 1], color = 'blue')\n",
    "auc_w_class_weights = roc_auc_score (example_labels_test, optimizer.predict_proba (example_data_test) [:, 1])\n",
    "plt.title ( 'With class weights')\n",
    "plt.show ()\n",
    "print ( 'AUC:% f'% auc_w_class_weights)"
   ]
  },
  {
   "cell_type": "markdown",
   "metadata": {},
   "source": [
    "Як бачимо, у другому випадку класифікатор знаходить розділяє поверхню, яка ближче до істинної, тобто менше перенавчати. Тому на збалансованість класів в навчальній вибірці завжди слід звертати увагу.\n",
    "\n",
    "Подивимося, збалансовані чи класи в нашій навчальній вибірці:"
   ]
  },
  {
   "cell_type": "code",
   "execution_count": 43,
   "metadata": {},
   "outputs": [
    {
     "name": "stdout",
     "output_type": "stream",
     "text": [
      "2316\n",
      "1884\n"
     ]
    }
   ],
   "source": [
    "print(np.sum(y_train==0))\n",
    "print(np.sum(y_train==1))"
   ]
  },
  {
   "cell_type": "markdown",
   "metadata": {},
   "source": [
    "Видно, що немає.\n",
    "\n",
    "Виправити ситуацію можна різними способами, ми розглянемо два:\n",
    "- давати об'єктам міноритарного класу більшу вагу при навчанні класифікатора (розглянуто в прикладі вище)\n",
    "- досемпліровать об'єкти міноритарного класу, поки число об'єктів в обох класах не зрівняється"
   ]
  },
  {
   "cell_type": "markdown",
   "metadata": {},
   "source": [
    "## Завдання 3. Балансування класів.\n",
    "1. Навчіть логістичну регресію і гіперпараметри з балансуванням класів, використовуючи ваги (параметр class_weight = 'balanced' регресії) на отмасштабовані вибірках, отриманих в попередньому завданні. Переконайтеся, що ви знайшли максимум accuracy по гіперпараметрам.\n",
    "2. Отримайте метрику ROC AUC на тестовій вибірці.\n",
    "3. Збалансуйте вибірку, досемпліровав в неї об'єкти з меншого класу. Для отримання індексів об'єктів, які потрібно додати в навчальну вибірку, використовуйте наступну комбінацію викликів функцій:\n",
    "        np.random.seed (0)\n",
    "        indices_to_add = np.random.randint (...)\n",
    "        X_train_to_add = X_train [y_train == 1,:] [indices_to_add ,:]\n",
    "   Після цього додайте ці об'єкти в початок або кінець навчальної вибірки. Доповніть відповідним чином вектор відповідей.\n",
    "4. Отримайте метрику ROC AUC на тестовій вибірці, порівняйте з попереднім результатом.\n",
    "5. Внесіть відповіді в вихідний файл за допомогою функції write_asnwer_3, передавши в неї спочатку ROC AUC для балансування вагами, а потім балансування вибірки вручну."
   ]
  },
  {
   "cell_type": "code",
   "execution_count": 44,
   "metadata": {},
   "outputs": [],
   "source": [
    "def write_answer_3(auc_1, auc_2):\n",
    "    auc = (auc_1 + auc_2) / 2\n",
    "    with open(\"preprocessing_lr_answer3.txt\", \"w\") as fout:\n",
    "        fout.write(str(round(auc,4)))\n",
    "    print(round(auc,4))        \n",
    "\n",
    "        # place your code here"
   ]
  },
  {
   "cell_type": "code",
   "execution_count": 45,
   "metadata": {},
   "outputs": [
    {
     "data": {
      "image/png": "[encoded data removed]",
      "text/plain": [
       "<Figure size 640x480 with 1 Axes>"
      ]
     },
     "metadata": {},
     "output_type": "display_data"
    },
    {
     "name": "stdout",
     "output_type": "stream",
     "text": [
      "AUC with class weights: 0.886751\n"
     ]
    }
   ],
   "source": [
    "estimator_31 = LogisticRegression(class_weight = 'balanced')\n",
    "optimizer_31 = GridSearchCV(estimator_31, param_grid, cv=cv)\n",
    "\n",
    "optimizer_31.fit(X_train_scaled, y_train)\n",
    "plot_scores(optimizer_31)\n",
    "\n",
    "score_31 = roc_auc_score(y_test, optimizer_31.predict_proba(X_test_scaled)[:, 1])\n",
    "print ('AUC with class weights:% f'% score_31)"
   ]
  },
  {
   "cell_type": "code",
   "execution_count": 46,
   "metadata": {},
   "outputs": [],
   "source": [
    "np.random.seed (0)\n",
    "size_y0 = np.sum(y_train==0)\n",
    "size_y1 = np.sum(y_train==1)\n",
    "indices_to_add = np.random.randint (0, size_y1, size = (size_y0 - size_y1))\n",
    "X_train_to_add = X_train_scaled [y_train == 1,:] [indices_to_add ,:]"
   ]
  },
  {
   "cell_type": "code",
   "execution_count": 47,
   "metadata": {},
   "outputs": [],
   "source": [
    "X_train = np.vstack((X_train_scaled, X_train_to_add))\n",
    "y_train_to_add = np.array([1]*(size_y0 - size_y1))\n",
    "\n",
    "y_train_1 = np.array(y_train)\n",
    "y_train_to_add_1 = np.array(y_train_to_add)\n",
    "\n",
    "y_train_new = np.vstack((y_train_1.reshape(len(y_train), 1), y_train_to_add_1.reshape(len(y_train_to_add), 1)))"
   ]
  },
  {
   "cell_type": "code",
   "execution_count": 48,
   "metadata": {},
   "outputs": [
    {
     "data": {
      "image/png": "[encoded data removed]",
      "text/plain": [
       "<Figure size 640x480 with 1 Axes>"
      ]
     },
     "metadata": {},
     "output_type": "display_data"
    },
    {
     "name": "stdout",
     "output_type": "stream",
     "text": [
      "AUC without class weights: 0.883345\n"
     ]
    }
   ],
   "source": [
    "estimator_32 = LogisticRegression()\n",
    "optimizer_32 = GridSearchCV(estimator_32, param_grid, cv=cv)\n",
    "\n",
    "optimizer_32.fit(X_train, y_train_new[:, 0])\n",
    "plot_scores(optimizer_32)\n",
    "\n",
    "score_32 = roc_auc_score(y_test, optimizer_32.predict_proba(X_test_scaled)[:, 1])\n",
    "print ('AUC without class weights:% f'% score_32)"
   ]
  },
  {
   "cell_type": "code",
   "execution_count": 49,
   "metadata": {},
   "outputs": [
    {
     "name": "stdout",
     "output_type": "stream",
     "text": [
      "0.885\n"
     ]
    }
   ],
   "source": [
    "auc_1 = score_31\n",
    "auc_2 = score_32\n",
    "write_answer_3(auc_1, auc_2)"
   ]
  },
  {
   "cell_type": "markdown",
   "metadata": {},
   "source": [
    "## Стратифікація вибірок."
   ]
  },
  {
   "cell_type": "markdown",
   "metadata": {},
   "source": [
    "Розглянемо ще раз приклад з вибірками з нормальних розподілів. Подивимося ще раз на якість класифікаторів, що отримується на тестових вибірках:"
   ]
  },
  {
   "cell_type": "code",
   "execution_count": 50,
   "metadata": {},
   "outputs": [
    {
     "name": "stdout",
     "output_type": "stream",
     "text": [
      "AUC ROC for classifier without weighted classes 0.9116666666666666\n",
      "AUC ROC for classifier with weighted classes:  0.9066666666666666\n"
     ]
    }
   ],
   "source": [
    "print('AUC ROC for classifier without weighted classes', auc_wo_class_weights)\n",
    "print('AUC ROC for classifier with weighted classes: ', auc_w_class_weights)"
   ]
  },
  {
   "cell_type": "markdown",
   "metadata": {},
   "source": [
    "Насколько эти цифры реально отражают качество работы алгоритма, если учесть, что тестовая выборка так же несбалансирована, как обучающая? При этом мы уже знаем, что алгоритм логистический регрессии чувствителен к балансировке классов в обучающей выборке, т.е. в данном случае на тесте он будет давать заведомо заниженные результаты. Метрика классификатора на тесте имела бы гораздо больший смысл, если бы объекты были разделы в выборках поровну: по 20 из каждого класса на обучени и на тесте. Переформируем выборки и подсчитаем новые ошибки:"
   ]
  },
  {
   "cell_type": "code",
   "execution_count": 51,
   "metadata": {},
   "outputs": [
    {
     "data": {
      "image/png": "[encoded data removed]",
      "text/plain": [
       "<Figure size 640x480 with 1 Axes>"
      ]
     },
     "metadata": {},
     "output_type": "display_data"
    },
    {
     "name": "stdout",
     "output_type": "stream",
     "text": [
      "AUC ROC for stratified samples:  0.9125\n"
     ]
    }
   ],
   "source": [
    "\"\"\"Розділимо дані по класах порівну між навчальною і тестової вибірками\"\"\"\n",
    "example_data_train = np.vstack([data_0[:20,:], data_1[:20,:]])\n",
    "example_labels_train = np.concatenate([np.zeros((20)), np.ones((20))])\n",
    "example_data_test = np.vstack([data_0[20:,:], data_1[20:,:]])\n",
    "example_labels_test = np.concatenate([np.zeros((20)), np.ones((20))])\n",
    "\"\"\"Навчимо класифікатор\"\"\"\n",
    "optimizer = GridSearchCV(LogisticRegression(class_weight='balanced'), param_grid, cv=cv, n_jobs=-1)\n",
    "optimizer.fit(example_data_train, example_labels_train)\n",
    "Z = optimizer.predict(np.c_[xx.ravel(), yy.ravel()]).reshape(xx.shape)\n",
    "plt.pcolormesh(xx, yy, Z, cmap=plt.cm.Pastel2)\n",
    "plt.scatter(data_0[:,0], data_0[:,1], color='red')\n",
    "plt.scatter(data_1[:,0], data_1[:,1], color='blue')\n",
    "auc_stratified = roc_auc_score(example_labels_test, optimizer.predict_proba(example_data_test)[:,1])\n",
    "plt.title('With class weights')\n",
    "plt.show()\n",
    "print('AUC ROC for stratified samples: ', auc_stratified)"
   ]
  },
  {
   "cell_type": "markdown",
   "metadata": {},
   "source": [
    "Як бачимо, після даної процедури відповідь класифікатора змінився незначно, а ось якість збільшилася. При цьому, в залежності від того, як ви розбили спочатку дані на навчання і тест, після збалансованого розподілу вибірок підсумкова метрика на тесті може як збільшитися, так і зменшитися, але довіряти їй можна значно більше, тому що вона побудована з урахуванням специфіки роботи класифікатора. Даний підхід є окремим випадком т.зв. методу стратифікації."
   ]
  },
  {
   "cell_type": "markdown",
   "metadata": {},
   "source": [
    "## Завдання 4. Стратифікація вибірки.\n",
    "\n",
    "1. За аналогією з тим, як це було зроблено на початку завдання, розбийте вибірки X_real_zeros і X_cat_oh на навчання і тест, передаючи в функцію\n",
    "        train_test_split (...)\n",
    "   додатково параметр\n",
    "       stratify = y\n",
    "   Також обов'язково передайте в функцію змінну random_state = 0.\n",
    "2. Виконайте масштабування нових речових вибірок, навчіть класифікатор і його гіперпараметри за допомогою методу крос-валідації, роблячи поправку на незбалансовані класи за допомогою ваг. Переконайтеся в тому, що знайшли оптимум accuracy по гіперпараметрам.\n",
    "3. Оцініть якість класифікатора метриці AUC ROC на тестовій вибірці.\n",
    "4. Отримана відповідь передайте функції write_answer_4"
   ]
  },
  {
   "cell_type": "code",
   "execution_count": 52,
   "metadata": {},
   "outputs": [],
   "source": [
    "def write_answer_4(auc):\n",
    "    with open(\"preprocessing_lr_answer4.txt\", \"w\") as fout:\n",
    "        fout.write(str(round(auc,4)))\n",
    "    print(round(auc,4))        \n",
    "        \n",
    "# place your code here"
   ]
  },
  {
   "cell_type": "code",
   "execution_count": 53,
   "metadata": {},
   "outputs": [],
   "source": [
    "(X_train_real_zeros, X_test_real_zeros, \n",
    " y_train, y_test) = train_test_split(X_real_zeros, y, test_size=0.3, random_state=0, stratify=y)\n",
    "\n",
    "(X_train_cat_oh, X_test_cat_oh) = train_test_split(X_cat_oh, test_size=0.3, random_state=0, stratify=y)"
   ]
  },
  {
   "cell_type": "code",
   "execution_count": 54,
   "metadata": {},
   "outputs": [],
   "source": [
    "scaler = StandardScaler()\n",
    "X_train_real_scaled = scaler.fit_transform(X_train_real_zeros)\n",
    "X_test_real_scaled  = scaler.transform(X_test_real_zeros)\n",
    "\n",
    "X_train_scaled = np.hstack((X_train_real_scaled, X_train_cat_oh))\n",
    "X_test_scaled  = np.hstack((X_test_real_scaled, X_test_cat_oh))"
   ]
  },
  {
   "cell_type": "code",
   "execution_count": 55,
   "metadata": {},
   "outputs": [
    {
     "data": {
      "image/png": "[encoded data removed]",
      "text/plain": [
       "<Figure size 640x480 with 1 Axes>"
      ]
     },
     "metadata": {},
     "output_type": "display_data"
    },
    {
     "name": "stdout",
     "output_type": "stream",
     "text": [
      "0.8794\n"
     ]
    }
   ],
   "source": [
    "optimizer = GridSearchCV(LogisticRegression(class_weight='balanced'), param_grid, cv=cv)\n",
    "optimizer.fit(X_train_scaled, y_train)\n",
    "plot_scores(optimizer)\n",
    "\n",
    "auc4 = roc_auc_score(np.array(y_test), optimizer.predict_proba(X_test_scaled)[:, 1])\n",
    "write_answer_4(auc4)"
   ]
  },
  {
   "cell_type": "markdown",
   "metadata": {},
   "source": [
    "Тепер ви розібралися з основними етапами предобработки даних для лінійних класифікаторів.\n",
    "Нагадаємо основні етапи:\n",
    "- обробка пропущених значень\n",
    "- обробка категоріальних ознак\n",
    "- стратифікація\n",
    "- балансування класів\n",
    "- масштабування\n",
    "\n",
    "Дані дії з даними рекомендується проводити всякий раз, коли ви плануєте використовувати лінійні методи. Рекомендація щодо виконання багатьох з цих пунктів справедлива і для інших методів машинного навчання."
   ]
  },
  {
   "cell_type": "markdown",
   "metadata": {},
   "source": [
    "## Трансформація ознак.\n",
    "\n",
    "Тепер розглянемо способи перетворення ознак. Існує досить багато різних способів трансформації ознак, які дозволяють за допомогою лінійних методів отримувати більш складні розділяють поверхні. Самим базовим є поліноміальний перетворення ознак. Його ідея полягає в тому, що крім самих ознак ви додатково включаєте набір все поліноми ступеня $ p $, які можна з них побудувати. Для випадку $ p = 2 $ перетворення виглядає наступним чином:\n",
    "\n",
    "$$ \\phi(x_i) = [x_{i,1}^2, ..., x_{i,D}^2, x_{i,1}x_{i,2}, ..., x_{i,D} x_{i,D-1}, x_{i,1}, ..., x_{i,D}, 1] $$\n",
    "\n",
    "Розглянемо принцип роботи цих ознак на даних, семплірованних їх Гауссіан:"
   ]
  },
  {
   "cell_type": "code",
   "execution_count": 56,
   "metadata": {},
   "outputs": [
    {
     "data": {
      "image/png": "[encoded data removed]",
      "text/plain": [
       "<Figure size 640x480 with 1 Axes>"
      ]
     },
     "metadata": {},
     "output_type": "display_data"
    }
   ],
   "source": [
    "from sklearn.preprocessing import PolynomialFeatures\n",
    "\n",
    "\"\"\"Ініціалізуємо клас, який може конвертувати\"\"\"\n",
    "transform = PolynomialFeatures(2)\n",
    "\"\"\"Навчаємо перетворення на навчальній вибірці, застосовуємо його до тестової\"\"\"\n",
    "example_data_train_poly = transform.fit_transform(example_data_train)\n",
    "example_data_test_poly = transform.transform(example_data_test)\n",
    "\"\"\"Звертаємо увагу на параметр fit_intercept = False\"\"\"\n",
    "optimizer = GridSearchCV(LogisticRegression(class_weight='balanced', fit_intercept=False), param_grid, cv=cv, n_jobs=-1)\n",
    "optimizer.fit(example_data_train_poly, example_labels_train)\n",
    "Z = optimizer.predict(transform.transform(np.c_[xx.ravel(), yy.ravel()])).reshape(xx.shape)\n",
    "plt.pcolormesh(xx, yy, Z, cmap=plt.cm.Pastel2)\n",
    "plt.scatter(data_0[:,0], data_0[:,1], color='red')\n",
    "plt.scatter(data_1[:,0], data_1[:,1], color='blue')\n",
    "plt.title('With class weights')\n",
    "plt.show()"
   ]
  },
  {
   "cell_type": "markdown",
   "metadata": {},
   "source": [
    "Видно, що даний метод перетворення даних вже дозволяє будувати нелінійні розділяють поверхні, які можуть більш тонко підлаштовуватися під дані і знаходити більш складні залежності. Число ознак в новій моделі:"
   ]
  },
  {
   "cell_type": "code",
   "execution_count": 57,
   "metadata": {},
   "outputs": [
    {
     "name": "stdout",
     "output_type": "stream",
     "text": [
      "(40, 6)\n"
     ]
    }
   ],
   "source": [
    "print(example_data_train_poly.shape)"
   ]
  },
  {
   "cell_type": "markdown",
   "metadata": {},
   "source": [
    "Але при цьому одночасно даний метод сприяє більш сильною здатності моделі до перенавчання через швидке зростання числа ознакою зі збільшенням ступеня $p$. Розглянемо приклад з $p = 11$:"
   ]
  },
  {
   "cell_type": "code",
   "execution_count": 58,
   "metadata": {},
   "outputs": [
    {
     "data": {
      "image/png": "[encoded data removed]",
      "text/plain": [
       "<Figure size 640x480 with 1 Axes>"
      ]
     },
     "metadata": {},
     "output_type": "display_data"
    }
   ],
   "source": [
    "transform = PolynomialFeatures(11)\n",
    "example_data_train_poly = transform.fit_transform(example_data_train)\n",
    "example_data_test_poly = transform.transform(example_data_test)\n",
    "optimizer = GridSearchCV(LogisticRegression(class_weight='balanced', fit_intercept=False), param_grid, cv=cv, n_jobs=-1)\n",
    "optimizer.fit(example_data_train_poly, example_labels_train)\n",
    "Z = optimizer.predict(transform.transform(np.c_[xx.ravel(), yy.ravel()])).reshape(xx.shape)\n",
    "plt.pcolormesh(xx, yy, Z, cmap=plt.cm.Pastel2)\n",
    "plt.scatter(data_0[:,0], data_0[:,1], color='red')\n",
    "plt.scatter(data_1[:,0], data_1[:,1], color='blue')\n",
    "plt.title('Corrected class weights')\n",
    "plt.show()"
   ]
  },
  {
   "cell_type": "markdown",
   "metadata": {},
   "source": [
    "Кількість ознак в даній моделі:"
   ]
  },
  {
   "cell_type": "code",
   "execution_count": 59,
   "metadata": {},
   "outputs": [
    {
     "name": "stdout",
     "output_type": "stream",
     "text": [
      "(40, 78)\n"
     ]
    }
   ],
   "source": [
    "print(example_data_train_poly.shape)"
   ]
  },
  {
   "cell_type": "markdown",
   "metadata": {},
   "source": [
    "## Завдання 5. Трансформація дійсних ознак.\n",
    "\n",
    "1. Реалізуйте за аналогією з прикладом перетворення речових ознак моделі за допомогою поліноміальних ознак ступеня 2\n",
    "2. Побудуйте логістичну регресію на нових даних, одночасно підібравши оптимальні гіперпараметри. Звертаємо увагу, що в перетворених ознаках вже присутній стовпець, все значення якого дорівнюють 1, тому навчати додатково значення $ b $ не потрібно, його функцію виконує один з терезів $ w $. У зв'язку з цим, щоб уникнути лінійної залежності в датасета, в виклик класу логістичної регресії потрібно передавати параметр fit_intercept = False. Для навчання використовуйте стратифіковані вибірки з балансуванням класів за допомогою ваг, перетворені ознаки потрібно заново отмасштабовані.\n",
    "3. Отримайте AUC ROC на тесті і порівняйте даний результат з використанням звичайних ознак.\n",
    "4. Передайте отриману відповідь в функцію write_answer_5."
   ]
  },
  {
   "cell_type": "code",
   "execution_count": 60,
   "metadata": {},
   "outputs": [],
   "source": [
    "def write_answer_5(auc):\n",
    "    with open(\"preprocessing_lr_answer5.txt\", \"w\") as fout:\n",
    "        fout.write(str(round(auc,4)))\n",
    "    print(round(auc,4))        \n",
    "        \n",
    "# place your code here"
   ]
  },
  {
   "cell_type": "code",
   "execution_count": 61,
   "metadata": {},
   "outputs": [],
   "source": [
    "transform = PolynomialFeatures(2)\n",
    "X_train_real_poly = transform.fit_transform(X_train_real_zeros)\n",
    "X_test_real_poly  = transform.transform(X_test_real_zeros)\n",
    "\n",
    "scaler = StandardScaler()\n",
    "X_train_real_scaled = scaler.fit_transform(X_train_real_poly)\n",
    "X_test_real_scaled  = scaler.transform(X_test_real_poly)"
   ]
  },
  {
   "cell_type": "code",
   "execution_count": 62,
   "metadata": {},
   "outputs": [],
   "source": [
    "X_train_poly = np.hstack((X_train_real_scaled, X_train_cat_oh))\n",
    "X_test_poly = np.hstack((X_test_real_scaled, X_test_cat_oh))"
   ]
  },
  {
   "cell_type": "code",
   "execution_count": 63,
   "metadata": {},
   "outputs": [
    {
     "name": "stdout",
     "output_type": "stream",
     "text": [
      "0.887\n"
     ]
    }
   ],
   "source": [
    "estimator =  LogisticRegression(class_weight='balanced', fit_intercept=False)\n",
    "optimizer = GridSearchCV(estimator, param_grid, cv=cv, n_jobs=-1)\n",
    "optimizer.fit(X_train_poly, y_train)\n",
    "\n",
    "auc5 = roc_auc_score(y_test, optimizer.predict_proba(X_test_poly)[:, 1])\n",
    "write_answer_5(auc5)"
   ]
  },
  {
   "cell_type": "markdown",
   "metadata": {},
   "source": [
    "## Регресія Lasso.\n",
    "До логістичної регресії також можна застосувати L1-регуляризацію (Lasso), замість регуляризації L2, яка буде приводити до відбору ознак. Вам пропонується застосувати L1-регуляцію до вихідних ознаками і проінтерпретувати отримані результати (застосування відбору ознак до поліноміальних так само можна успішно застосовувати, але в ньому вже буде відсутній компонента інтерпретації, тому що смислове значення оригінальних ознак відомо, а поліноміальних - вже може бути досить нетривіально). Для виклику логістичної регресії з L1-регуляризації досить передати параметр penalty = 'l1' в ініціалізацію класу."
   ]
  },
  {
   "cell_type": "markdown",
   "metadata": {},
   "source": [
    "## Завдання 6. Відбір ознак за допомогою регресії Lasso.\n",
    "1. Навчіть регресію Lasso на стратифікована отмасштабовані вибірках, використовуючи балансування класів за допомогою ваг. Для завдання використовуємо X_train_real_zeros.\n",
    "2. Отримайте ROC AUC регресії, порівняйте його з попередніми результатами.\n",
    "3. Знайдіть номери речових ознак, які мають нульові ваги в підсумковій моделі.\n",
    "4. Передайте їх список функції write_answer_6."
   ]
  },
  {
   "cell_type": "code",
   "execution_count": 64,
   "metadata": {},
   "outputs": [],
   "source": [
    "def write_answer_6(features):\n",
    "    answers = [num for num in features]\n",
    "    with open(\"preprocessing_lr_answer6.txt\", \"w\") as fout:\n",
    "        fout.writelines(\" \".join([str(num) for num in answers])+'\\n')\n",
    "        fout.writelines('сума трьох перших чисел: '+ str(round(sum(answers[:3]),4)))\n",
    "        print(answers)\n",
    "        print('сума трьох перших чисел: '+ str(round(sum(answers[:3]),4)))\n",
    "\n",
    "        \n",
    "# place your code here\n",
    "\n",
    "\n",
    "#write_answer_6(features)"
   ]
  },
  {
   "cell_type": "code",
   "execution_count": 65,
   "metadata": {},
   "outputs": [],
   "source": [
    "#optimizer = GridSearchCV(LogisticRegression(class_weight='balanced', penalty = 'L1'), param_grid, cv=cv)\n",
    "#optimizer.fit(X_train_scaled, y_train)\n",
    "\n",
    "#ValueError:  Logistic Regression supports only penalties in ['l1', 'l2', 'elasticnet', 'none'], got L1."
   ]
  },
  {
   "cell_type": "code",
   "execution_count": 66,
   "metadata": {},
   "outputs": [],
   "source": [
    "#pen=['l1', 'l2', 'elasticnet', 'none']\n",
    "#optimizer = GridSearchCV(LogisticRegression(penalty = pen[0],class_weight='balanced'), param_grid, cv=cv)\n",
    "#optimizer.fit(X_train_scaled, y_train)\n",
    "\n",
    "#ValueError: Solver lbfgs supports only 'l2' or 'none' penalties, got l1 penalty."
   ]
  },
  {
   "cell_type": "code",
   "execution_count": 67,
   "metadata": {},
   "outputs": [
    {
     "data": {
      "text/plain": [
       "GridSearchCV(cv=3, estimator=LogisticRegression(class_weight='balanced'),\n",
       "             param_grid={'C': [0.01, 0.05, 0.1, 0.5, 1, 5, 10]})"
      ]
     },
     "execution_count": 67,
     "metadata": {},
     "output_type": "execute_result"
    }
   ],
   "source": [
    "optimizer = GridSearchCV(LogisticRegression(penalty = 'l2',class_weight='balanced'), param_grid, cv=cv)\n",
    "optimizer.fit(X_train_scaled, y_train)"
   ]
  },
  {
   "cell_type": "code",
   "execution_count": 68,
   "metadata": {},
   "outputs": [
    {
     "data": {
      "text/plain": [
       "0.7885973161375068"
      ]
     },
     "execution_count": 68,
     "metadata": {},
     "output_type": "execute_result"
    }
   ],
   "source": [
    "auc6 = roc_auc_score(y_test, optimizer.predict(X_test_scaled))\n",
    "auc6"
   ]
  },
  {
   "cell_type": "code",
   "execution_count": 69,
   "metadata": {},
   "outputs": [
    {
     "name": "stdout",
     "output_type": "stream",
     "text": [
      "auc5 = 0.8869888147517899\n",
      "auc6 = 0.7885973161375068\n"
     ]
    }
   ],
   "source": [
    "print('auc5 =', auc5)\n",
    "print('auc6 =', auc6)"
   ]
  },
  {
   "cell_type": "code",
   "execution_count": 70,
   "metadata": {},
   "outputs": [
    {
     "data": {
      "text/plain": [
       "array([[ 0.01735661,  0.03160212, -0.03719963, ...,  1.11284096,\n",
       "        -0.10320508,  0.10266482]])"
      ]
     },
     "execution_count": 70,
     "metadata": {},
     "output_type": "execute_result"
    }
   ],
   "source": [
    "estimator = optimizer.best_estimator_\n",
    "estimator.coef_"
   ]
  },
  {
   "cell_type": "code",
   "execution_count": 71,
   "metadata": {},
   "outputs": [],
   "source": [
    "features = [] # відповідь на 5 завдання\n",
    "e1 = estimator.coef_\n",
    "for ii in range(e1.shape[1]):\n",
    "    #print(e1[0,ii])\n",
    "    if(e1[0,ii] == 0):\n",
    "        features.append(ii)\n"
   ]
  },
  {
   "cell_type": "code",
   "execution_count": 72,
   "metadata": {},
   "outputs": [
    {
     "name": "stdout",
     "output_type": "stream",
     "text": [
      "[43, 44, 63]\n",
      "сума трьох перших чисел: 150\n"
     ]
    }
   ],
   "source": [
    "write_answer_6(features[:3])"
   ]
  },
  {
   "cell_type": "code",
   "execution_count": null,
   "metadata": {},
   "outputs": [],
   "source": []
  }
 ],
 "metadata": {
  "kernelspec": {
   "display_name": "Python 3 (ipykernel)",
   "language": "python",
   "name": "python3"
  },
  "language_info": {
   "codemirror_mode": {
    "name": "ipython",
    "version": 3
   },
   "file_extension": ".py",
   "mimetype": "text/x-python",
   "name": "python",
   "nbconvert_exporter": "python",
   "pygments_lexer": "ipython3",
   "version": "3.9.13"
  }
 },
 "nbformat": 4,
 "nbformat_minor": 1
}
