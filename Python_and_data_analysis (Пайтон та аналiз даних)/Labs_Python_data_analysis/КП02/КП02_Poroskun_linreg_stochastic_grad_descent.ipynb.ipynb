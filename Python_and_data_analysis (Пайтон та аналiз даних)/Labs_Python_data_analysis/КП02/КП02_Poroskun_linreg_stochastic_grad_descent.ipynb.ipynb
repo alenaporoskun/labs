{
 "cells": [
  {
   "cell_type": "markdown",
   "metadata": {},
   "source": [
    "# Лінійна регресія і стохастичний градієнтний спуск"
   ]
  },
  {
   "cell_type": "markdown",
   "metadata": {},
   "source": [
    "Завдання засноване на матеріалах лекцій з лінійної регресії і градиентному спуску. Ви будете прогнозувати виручку компанії в залежності від рівня її інвестицій в рекламу на TV, в газетах і по радіо."
   ]
  },
  {
   "cell_type": "markdown",
   "metadata": {},
   "source": [
    "## Ви навчитеся:\n",
    "- вирішувати задачу відновлення лінійної регресії\n",
    "- реалізовувати стохастичний градієнтний спуск для її налаштування\n",
    "- вирішувати задачу лінійної регресії аналітично"
   ]
  },
  {
   "cell_type": "markdown",
   "metadata": {},
   "source": [
    "## Вступ\n",
    "Лінійна регресія - один з найбільш добре вивчених методів машинного навчання, що дозволяє прогнозувати значення кількісної ознаки у вигляді лінійної комбінації інших ознак з параметрами - вагами моделі. Оптимальні (в сенсі мінімальності деякого функціоналу помилки) параметри лінійної регресії можна знайти аналітично за допомогою нормального рівняння або чисельно за допомогою методів оптимізації."
   ]
  },
  {
   "cell_type": "markdown",
   "metadata": {},
   "source": [
    "Лінійна регресія використовує простий функціонал якості - середньоквадратичну помилку. Ми будемо працювати з вибіркою, що містить 3 ознаки. Для налаштування параметрів (ваг) моделі вирішується наступне завдання:\n",
    "$$\\Large \\frac {1} {\\ell} \\sum_{i = 1} ^ \\ell {{((w_0 + w_1x_{i1} + w_2x_{i2} + w_3x_{i3}) - y_i)} ^ 2 } \\rightarrow \\min_{w_0, w_1, w_2, w_3},$$\n",
    "де $x_{i1}, x_{i2}, x_{i3}$ - значення ознак $i$ -го об'єкта, $y_i$ - значення цільового показника $i$ -го об'єкта, $\\ell$ - число об'єктів в навчальній вибірці."
   ]
  },
  {
   "cell_type": "markdown",
   "metadata": {},
   "source": [
    "## Градієнтний спуск\n",
    "Параметри $w_0, w_1, w_2, w_3$, за якими мінімізується середньоквадратична помилка, можна знаходити чисельно за допомогою градієнтного спуску.\n",
    "Метод найшвидшого крок для ваг буде виглядати наступним чином:\n",
    "$$\\Large w_0 \\leftarrow w_0 - \\frac {2 \\eta} {\\ell} \\sum_{i = 1} ^ \\ell {{((w_0 + w_1x_{i1} + w_2x_{i2} + w_3x_{i3} ) - y_i)}}$$\n",
    "$$\\Large w_j \\leftarrow w_j - \\frac {2 \\eta} {\\ell} \\sum_{i = 1} ^ \\ell {{x_{ij} ((w_0 + w_1x_{i1} + w_2x_{i2} + w_3x_{i3}) - y_i)}}, j\\in\\{1,2,3\\}$$\n",
    "Тут $\\eta$ - параметр, крок градієнтного спуску."
   ]
  },
  {
   "cell_type": "markdown",
   "metadata": {},
   "source": [
    "## Стохастичний градієнтний спуск\n",
    "Проблема градієнтного спуску, описаного вище, в тому, що на великих вибірках вважати на кожному кроці градієнт по всіх наявних даних може бути дуже обчислювально складно.\n",
    "У стохастичною варіанті градієнтного спуску поправки для ваг обчислюються тільки з урахуванням одного випадково взятого об'єкта навчальної вибірки:\n",
    "$$\\Large w_0 \\leftarrow w_0 - \\frac{2 \\eta} {\\ell} {((w_0 + w_1x_{k1} + w_2x_{k2} + w_3x_{k3}) - y_k)}$$\n",
    "$$\\Large w_j \\leftarrow w_j - \\frac{2 \\eta} {\\ell} {x_{kj} ((w_0 + w_1x_{k1} + w_2x_{k2} + w_3x_{k3}) - y_k)}, \\ j \\in \\{1,2,3 \\},$$\n",
    "де $k$ - випадковий індекс, $k \\in \\{1, \\ldots, \\ell \\}$."
   ]
  },
  {
   "cell_type": "markdown",
   "metadata": {},
   "source": [
    "## Нормальне рівняння\n",
    "Знаходження вектора оптимальних ваг $w$ може бути занайдено і аналітично.\n",
    "Ми хочемо знайти такий вектор ваг $w$, щоб вектор $y$, що наближує цільову ознаку, виходив множенням матриці $X$ (що складається з усіх ознак об'єктів навчальної вибірки, крім цільового) на вектор ваг $w$. Тобто, щоб виконувалося матричне рівняння:\n",
    "$$\\Large y = Xw$$\n",
    "Домноженіем зліва на $X ^ T$ отримуємо:\n",
    "$$\\Large X ^ Ty = X ^ TXw$$\n",
    "Це добре, оскільки тепер матриця $X ^ TX$ - квадратна, і можна знайти рішення (вектор $w$) у вигляді:\n",
    "$$\\Large  {(X ^ TX)} ^ {- 1} X ^ Ty = w$$\n",
    "Матриця ${(X ^ TX)} ^ {- 1} X ^ T$ - [*псевдообернених*] (https://ru.wikipedia.org/wiki/Псевдообратная_матрица) для матриці $ X $. У NumPy таку матрицю можна обчислити за допомогою функції [numpy.linalg.pinv] (http://docs.scipy.org/doc/numpy-1.10.0/reference/generated/numpy.linalg.pinv.html).\n",
    "\n",
    "Однак, знаходження псевдообернена матриця - операція обчислювально складна і нестабільна в разі малого визначника матриці $X$ (проблема мультиколінеарності).\n",
    "На практиці краще знаходити вектор ваг $w$ рішенням матричного рівняння\n",
    "$$\\Large X ^ TXw = X ^ Ty$$ Це може бути зроблено за допомогою функції [numpy.linalg.solve] (http://docs.scipy.org/doc/numpy-1.10.1/reference/generated/ numpy.linalg.solve.html).\n",
    "\n",
    "Але все ж на практиці для великих матриць $X$ швидше працює градієнтний спуск, особливо його стохастична версія."
   ]
  },
  {
   "cell_type": "markdown",
   "metadata": {},
   "source": [
    "## Інструкції з виконання"
   ]
  },
  {
   "cell_type": "markdown",
   "metadata": {},
   "source": [
    "**1. Завантажте дані з файлу *advertising.csv* в об'єкт pandas DataFrame. [Джерело даних] (http://www-bcf.usc.edu/~gareth/ISL/data.html).**"
   ]
  },
  {
   "cell_type": "code",
   "execution_count": 203,
   "metadata": {},
   "outputs": [],
   "source": [
    "import pandas as pd\n",
    "adver_data = pd.read_csv('advertising.csv')"
   ]
  },
  {
   "cell_type": "markdown",
   "metadata": {
    "collapsed": true
   },
   "source": [
    "**Подивіться на перші 5 записів і на статистику ознак в цьому наборі даних.**"
   ]
  },
  {
   "cell_type": "code",
   "execution_count": 204,
   "metadata": {},
   "outputs": [
    {
     "data": {
      "text/html": [
       "<div>\n",
       "<style scoped>\n",
       "    .dataframe tbody tr th:only-of-type {\n",
       "        vertical-align: middle;\n",
       "    }\n",
       "\n",
       "    .dataframe tbody tr th {\n",
       "        vertical-align: top;\n",
       "    }\n",
       "\n",
       "    .dataframe thead th {\n",
       "        text-align: right;\n",
       "    }\n",
       "</style>\n",
       "<table border=\"1\" class=\"dataframe\">\n",
       "  <thead>\n",
       "    <tr style=\"text-align: right;\">\n",
       "      <th></th>\n",
       "      <th>TV</th>\n",
       "      <th>Radio</th>\n",
       "      <th>Newspaper</th>\n",
       "      <th>Sales</th>\n",
       "    </tr>\n",
       "  </thead>\n",
       "  <tbody>\n",
       "    <tr>\n",
       "      <td>1</td>\n",
       "      <td>230.1</td>\n",
       "      <td>37.8</td>\n",
       "      <td>69.2</td>\n",
       "      <td>22.1</td>\n",
       "    </tr>\n",
       "    <tr>\n",
       "      <td>2</td>\n",
       "      <td>44.5</td>\n",
       "      <td>39.3</td>\n",
       "      <td>45.1</td>\n",
       "      <td>10.4</td>\n",
       "    </tr>\n",
       "    <tr>\n",
       "      <td>3</td>\n",
       "      <td>17.2</td>\n",
       "      <td>45.9</td>\n",
       "      <td>69.3</td>\n",
       "      <td>9.3</td>\n",
       "    </tr>\n",
       "    <tr>\n",
       "      <td>4</td>\n",
       "      <td>151.5</td>\n",
       "      <td>41.3</td>\n",
       "      <td>58.5</td>\n",
       "      <td>18.5</td>\n",
       "    </tr>\n",
       "    <tr>\n",
       "      <td>5</td>\n",
       "      <td>180.8</td>\n",
       "      <td>10.8</td>\n",
       "      <td>58.4</td>\n",
       "      <td>12.9</td>\n",
       "    </tr>\n",
       "  </tbody>\n",
       "</table>\n",
       "</div>"
      ],
      "text/plain": [
       "      TV  Radio  Newspaper  Sales\n",
       "1  230.1   37.8       69.2   22.1\n",
       "2   44.5   39.3       45.1   10.4\n",
       "3   17.2   45.9       69.3    9.3\n",
       "4  151.5   41.3       58.5   18.5\n",
       "5  180.8   10.8       58.4   12.9"
      ]
     },
     "execution_count": 204,
     "metadata": {},
     "output_type": "execute_result"
    }
   ],
   "source": [
    "# Ваш код \n",
    "adver_data.head()"
   ]
  },
  {
   "cell_type": "code",
   "execution_count": 205,
   "metadata": {},
   "outputs": [
    {
     "name": "stdout",
     "output_type": "stream",
     "text": [
      "<class 'pandas.core.frame.DataFrame'>\n",
      "Int64Index: 200 entries, 1 to 200\n",
      "Data columns (total 4 columns):\n",
      "TV           200 non-null float64\n",
      "Radio        200 non-null float64\n",
      "Newspaper    200 non-null float64\n",
      "Sales        200 non-null float64\n",
      "dtypes: float64(4)\n",
      "memory usage: 7.8 KB\n"
     ]
    }
   ],
   "source": [
    "# Ваш код\n",
    "adver_data.info()"
   ]
  },
  {
   "cell_type": "markdown",
   "metadata": {},
   "source": [
    "**Створіть масиви NumPy *X* з стовпців TV, Radio і Newspaper і *y* - з колонки Sales. Використовуйте атрибут *values* об'єкта pandas DataFrame.**"
   ]
  },
  {
   "cell_type": "code",
   "execution_count": 206,
   "metadata": {},
   "outputs": [],
   "source": [
    "X = adver_data.drop('Sales', axis=1).values  # Ваш код \n",
    "y = adver_data['Sales'].values               # Ваш код "
   ]
  },
  {
   "cell_type": "markdown",
   "metadata": {},
   "source": [
    "**відмасштабуйте стовпці матриці *X*, вирахувавши з кожного значення середнє за відповідним стовпцем і поділивши результат на стандартне відхилення. Для визначеності, використовуйте методи mean і std векторів NumPy (реалізація std в Pandas може відрізнятися). Зверніть увагу, що в numpy виклик функції .mean () без параметрів повертає середнє по всіх елементах масиву, а не за стовпцями, як в pandas. Щоб зробити обчислення за стовпцями, необхідно вказати параметр axis.**"
   ]
  },
  {
   "cell_type": "code",
   "execution_count": 207,
   "metadata": {},
   "outputs": [],
   "source": [
    "import numpy as np  # Ваш код"
   ]
  },
  {
   "cell_type": "code",
   "execution_count": 208,
   "metadata": {},
   "outputs": [],
   "source": [
    "means = np.mean(X, axis=0)  # Ваш код\n",
    "stds = np.std(X, axis=0)"
   ]
  },
  {
   "cell_type": "code",
   "execution_count": 209,
   "metadata": {},
   "outputs": [
    {
     "data": {
      "text/plain": [
       "(array([147.0425,  23.264 ,  30.554 ]),\n",
       " array([85.63933176, 14.80964564, 21.72410606]))"
      ]
     },
     "execution_count": 209,
     "metadata": {},
     "output_type": "execute_result"
    }
   ],
   "source": [
    "means, stds"
   ]
  },
  {
   "cell_type": "code",
   "execution_count": 210,
   "metadata": {},
   "outputs": [],
   "source": [
    "X = (X-means)/stds # Ваш код "
   ]
  },
  {
   "cell_type": "markdown",
   "metadata": {},
   "source": [
    "**Додайте до матриці *X* стовпець з одиниць, використовуючи методи *hstack*, *ones* і *reshape* бібліотеки NumPy. Вектор з одиниць потрібен для того, щоб не обробляти окремо коефіцієнт $w_0$ лінійної регресії.**"
   ]
  },
  {
   "cell_type": "code",
   "execution_count": 211,
   "metadata": {},
   "outputs": [],
   "source": [
    "import numpy as np\n",
    "X = np.hstack((np.ones((X.shape[0],1)), X)) # Ваш код"
   ]
  },
  {
   "cell_type": "markdown",
   "metadata": {},
   "source": [
    "**2. Реалізуйте функцію *mserror* - середньоквадратичну помилку прогнозу. Вона приймає два аргументи - об'єкти Series *y* (значення цільового показника) і *y\\_pred* (передбачені значення). Не використовуйте в цій функції цикли - тоді вона буде обчислювально неефективною.**"
   ]
  },
  {
   "cell_type": "code",
   "execution_count": 212,
   "metadata": {},
   "outputs": [],
   "source": [
    "def mserror(y, y_pred):\n",
    "    # Ваш код \n",
    "    return sum((y-y_pred)**2) / y.shape[0] "
   ]
  },
  {
   "cell_type": "markdown",
   "metadata": {},
   "source": [
    "**Яка середньоквадратична помилка прогнозу значень Sales, якщо завжди передбачати медіанне значення Sales по вихідній вибірці? Отриманий результат, округлений до 3 знаків після коми, є відповіддю на *'1 завдання'.***"
   ]
  },
  {
   "cell_type": "code",
   "execution_count": 213,
   "metadata": {},
   "outputs": [
    {
     "name": "stdout",
     "output_type": "stream",
     "text": [
      "28.346\n"
     ]
    }
   ],
   "source": [
    "answer1 = mserror(y, np.median(y))  # Ваш код \n",
    "print(round(answer1, 3))\n",
    "def write_answer_1(answer):\n",
    "    answers = [answer]\n",
    "    with open(\"answer_1.txt\", \"w\") as fout:\n",
    "        fout.write(\" \".join([str(round(num, 3)) for num in answers]))\n",
    "write_answer_1(answer1)\n"
   ]
  },
  {
   "cell_type": "markdown",
   "metadata": {},
   "source": [
    "**3. Реалізуйте функцію *normal_equation*, яка за заданими матрицями (масивів NumPy) *X* і *y* обчислює вектор ваг $w$ згідно нормальному рівнянню лінійної регресії.**    $ w = {(X ^ TX)} ^ {- 1} X ^ Ty$"
   ]
  },
  {
   "cell_type": "code",
   "execution_count": 214,
   "metadata": {},
   "outputs": [],
   "source": [
    "def normal_equation(X, y):\n",
    "    return np.dot(np.linalg.pinv(X), y)  # Ваш код "
   ]
  },
  {
   "cell_type": "code",
   "execution_count": 215,
   "metadata": {},
   "outputs": [
    {
     "name": "stdout",
     "output_type": "stream",
     "text": [
      "[14.0225      3.91925365  2.79206274 -0.02253861]\n"
     ]
    }
   ],
   "source": [
    "norm_eq_weights = normal_equation(X, y)\n",
    "print(norm_eq_weights)"
   ]
  },
  {
   "cell_type": "markdown",
   "metadata": {},
   "source": [
    "**Які продажу передбачаються лінійної моделлю з вагами, знайденими за допомогою нормального рівняння, в разі середніх інвестицій в рекламу по ТБ, радіо і в газетах? (Тобто при нульових значеннях масштабованих ознак TV, Radio і Newspaper). Отриманий результат, округлений до 3 знаків після коми, є відповіддю на *'2 завдання'*.**"
   ]
  },
  {
   "cell_type": "code",
   "execution_count": 216,
   "metadata": {},
   "outputs": [
    {
     "name": "stdout",
     "output_type": "stream",
     "text": [
      "14.022\n"
     ]
    }
   ],
   "source": [
    "answer2 = np.dot(norm_eq_weights, np.mean(X, axis=0)) # Ваш код\n",
    "print(round(answer2, 3))\n",
    "def write_answer_2(answer):\n",
    "    answers = [answer]\n",
    "    with open(\"answer_2.txt\", \"w\") as fout:\n",
    "        fout.write(\" \".join([str(round(num, 3)) for num in answers]))\n",
    "write_answer_2(answer2)\n"
   ]
  },
  {
   "cell_type": "markdown",
   "metadata": {},
   "source": [
    "**4. Напишіть функцію *linear_prediction*, яка приймає на вхід матрицю *X* і вектор ваг лінійної моделі *w*, а повертає вектор прогнозів у вигляді лінійної комбінації стовпців матриці *X* з вагами *w*.**"
   ]
  },
  {
   "cell_type": "code",
   "execution_count": 217,
   "metadata": {},
   "outputs": [],
   "source": [
    "def linear_prediction(X, w):\n",
    "    # Ваш код \n",
    "    return np.dot(X, w)"
   ]
  },
  {
   "cell_type": "markdown",
   "metadata": {},
   "source": [
    "**Яка середньоквадратична помилка прогнозу значень Sales у вигляді лінійної моделі з вагами, знайденими за допомогою нормального рівняння?\n",
    "Отриманий результат, округлений до 3 знаків після коми, є відповіддю на *'3 завдання'***"
   ]
  },
  {
   "cell_type": "code",
   "execution_count": 218,
   "metadata": {},
   "outputs": [
    {
     "name": "stdout",
     "output_type": "stream",
     "text": [
      "2.784\n"
     ]
    }
   ],
   "source": [
    "answer3 = mserror(y, linear_prediction(X,norm_eq_weights)) # Ваш код \n",
    "print(round(answer3, 3))\n",
    "def write_answer_3(answer):\n",
    "    answers = [answer]\n",
    "    with open(\"answer_3.txt\", \"w\") as fout:\n",
    "        fout.write(\" \".join([str(round(num, 3)) for num in answers]))\n",
    "write_answer_3(answer3)\n"
   ]
  },
  {
   "cell_type": "markdown",
   "metadata": {},
   "source": [
    "**5. Напишіть функцію *stochastic_gradient_step*, що реалізує крок стохастичного градієнтного спуску для лінійної регресії. Функція повинна приймати матрицю *X*, вектора *y* і *w*, число *train_ind* - індекс об'єкта навчальної вибірки (рядки матриці *X*), за яким вважається зміна ваг, а також число *$\\eta$* ( eta) - крок градієнтного спуску (за замовчуванням *eta* = 0.01). Результатом буде вектор оновлених ваг. Наша реалізація функції буде явно написана для даних з 3 ознаками, але нескладно модифікувати для будь-якого числа ознак, можете це зробити.**"
   ]
  },
  {
   "cell_type": "code",
   "execution_count": 219,
   "metadata": {},
   "outputs": [],
   "source": [
    "def stochastic_gradient_step(X, y, w, train_ind, eta=0.01):\n",
    "    difference = linear_prediction(X[train_ind],w) - y[train_ind]  # Ваш код \n",
    "    grad0 = difference                          # Ваш код \n",
    "    grad1 = X[train_ind, 1]*difference          # Ваш код \n",
    "    grad2 = X[train_ind, 2]*difference          # Ваш код \n",
    "    grad3 = X[train_ind, 3]*difference          # Ваш код \n",
    "    return  w - eta * np.array([grad0, grad1, grad2, grad3])"
   ]
  },
  {
   "cell_type": "markdown",
   "metadata": {},
   "source": [
    "**6. Напишіть функцію *stochastic_gradient_descent*, що реалізує стохастический градієнтний спуск для лінійної регресії. Функція приймає на вхід наступні аргументи:**\n",
    "- X - матриця, відповідна навчальній вибірці\n",
    "- y - вектор значень цільового ознаки\n",
    "- w_init - вектор початкових ваг моделі\n",
    "- eta - крок градієнтного спуску (за замовчуванням 0.01)\n",
    "- max_iter - максимальне число ітерацій градієнтного спуску (за замовчуванням 10000)\n",
    "- max_weight_dist - максимальне евклідова відстань між векторами ваг на сусідніх ітераціях градієнтного спуску,\n",
    "при якому алгоритм припиняє роботу (за замовчуванням 1e-8)\n",
    "- seed - число, яке використовується для відтворюваності згенерованих псевдовипадкових чисел (за замовчуванням 42)\n",
    "- verbose - прапор друку інформації (наприклад, для налагодження, за замовчуванням False)\n",
    "\n",
    "**На кожній ітерації в вектор (список) має записуватися поточне значення середньоквадратичної помилки. Функція повинна повертати вектор ваг $w$, а також вектор (список) помилок.**"
   ]
  },
  {
   "cell_type": "code",
   "execution_count": 220,
   "metadata": {},
   "outputs": [],
   "source": [
    "def stochastic_gradient_descent (X, y, w_init, eta = 1e-2, max_iter = 1e4,\n",
    "                                min_weight_dist = 1e-8, seed = 42, verbose = False):\n",
    "    # Ініціалізувавши відстань між векторами ваг на сусідніх\n",
    "    # ітераціях великим числом.\n",
    "    weight_dist = np.inf\n",
    "    # Ініціалізувавши вектор ваг\n",
    "    w = w_init\n",
    "    # Сюди будемо записувати помилки на кожній ітерації\n",
    "    errors = []\n",
    "    # Лічильник ітерацій\n",
    "    iter_num = 0\n",
    "    # Будемо породжувати псевдовипадкові числа\n",
    "    # (Номер об'єкта, який буде змінювати ваги), а для відтворюваності\n",
    "    # цієї послідовності псевдовипадкових чисел використовуємо seed.\n",
    "    np.random.seed (seed)\n",
    "        \n",
    "    # Основний цикл\n",
    "    while weight_dist> min_weight_dist and iter_num <max_iter:\n",
    "        # Породжуємо псевдовипадковий\n",
    "        # індекс об'єкта навчальної вибірки\n",
    "        random_ind = np.random.randint (X.shape [0])\n",
    "        \n",
    "        # Ваш код\n",
    "        #w0 = w\n",
    "        w = stochastic_gradient_step(X, y, w, random_ind, eta)\n",
    "        errors.append(mserror(y, linear_prediction(X,w)))\n",
    "        #weight_dist = np.sqrt(np.dot(w-w0, w-w0))\n",
    "        iter_num = iter_num+1\n",
    "        \n",
    "    if verbose == True:\n",
    "        print(w, errors)\n",
    "    #print(iter_num)\n",
    "    \n",
    "    return w, errors"
   ]
  },
  {
   "cell_type": "markdown",
   "metadata": {},
   "source": [
    "**Запустіть $10^5$ ітерацій стохастичного градієнтного спуску. Вкажіть вектор початкових ваг *w_init*, що складається з нулів. Залиште параметри *eta* і *seed* рівними їх значенням за замовчуванням (*eta* = 0.01, *seed* = 42 - це важливо для перевірки відповідей).**"
   ]
  },
  {
   "cell_type": "code",
   "execution_count": 221,
   "metadata": {},
   "outputs": [
    {
     "name": "stdout",
     "output_type": "stream",
     "text": [
      "Wall time: 5.22 s\n"
     ]
    }
   ],
   "source": [
    "%%time\n",
    "# Ваш код \n",
    "w_init = np.array([0,0,0,0])\n",
    "max_iter = 1e5\n",
    "eta = 0.01\n",
    "ans = stochastic_gradient_descent(X, y, w_init, eta, max_iter)\n",
    "stoch_grad_desc_weights = ans[0]        \n",
    "stoch_errors_by_iter =  ans[1]          "
   ]
  },
  {
   "cell_type": "markdown",
   "metadata": {},
   "source": [
    "**Подивимося, чому дорівнює помилка на перших 50 ітераціях стохастичного градієнтного спуску. Бачимо, що помилка не обов'язково зменшується на кожній ітерації.**"
   ]
  },
  {
   "cell_type": "code",
   "execution_count": 222,
   "metadata": {},
   "outputs": [
    {
     "name": "stdout",
     "output_type": "stream",
     "text": [
      "Populating the interactive namespace from numpy and matplotlib\n"
     ]
    },
    {
     "data": {
      "text/plain": [
       "Text(0, 0.5, 'MSE')"
      ]
     },
     "execution_count": 222,
     "metadata": {},
     "output_type": "execute_result"
    },
    {
     "data": {
      "image/png": "[encoded data removed]",
      "text/plain": [
       "<Figure size 432x288 with 1 Axes>"
      ]
     },
     "metadata": {
      "needs_background": "light"
     },
     "output_type": "display_data"
    }
   ],
   "source": [
    "%pylab inline\n",
    "plot(range(50), stoch_errors_by_iter[:50])\n",
    "xlabel('Iteration number')\n",
    "ylabel('MSE')"
   ]
  },
  {
   "cell_type": "markdown",
   "metadata": {},
   "source": [
    "**Тепер подивимося на залежність помилки від номера ітерації для $ 10 ^ 5 $ ітерацій стохастичного градієнтного спуску. Бачимо, що алгоритм сходиться.**"
   ]
  },
  {
   "cell_type": "code",
   "execution_count": 223,
   "metadata": {},
   "outputs": [
    {
     "name": "stdout",
     "output_type": "stream",
     "text": [
      "Populating the interactive namespace from numpy and matplotlib\n"
     ]
    },
    {
     "data": {
      "text/plain": [
       "Text(0, 0.5, 'MSE')"
      ]
     },
     "execution_count": 223,
     "metadata": {},
     "output_type": "execute_result"
    },
    {
     "data": {
      "image/png": "[encoded data removed]",
      "text/plain": [
       "<Figure size 432x288 with 1 Axes>"
      ]
     },
     "metadata": {
      "needs_background": "light"
     },
     "output_type": "display_data"
    }
   ],
   "source": [
    "%pylab inline\n",
    "plot(range(len(stoch_errors_by_iter)), stoch_errors_by_iter)\n",
    "xlabel('Iteration number')\n",
    "ylabel('MSE')"
   ]
  },
  {
   "cell_type": "markdown",
   "metadata": {},
   "source": [
    "**Подивимося на вектор ваг, до якого зійшовся метод.**"
   ]
  },
  {
   "cell_type": "code",
   "execution_count": 224,
   "metadata": {},
   "outputs": [
    {
     "data": {
      "text/plain": [
       "array([14.00362253,  3.91635318,  3.01061487,  0.11868927])"
      ]
     },
     "execution_count": 224,
     "metadata": {},
     "output_type": "execute_result"
    }
   ],
   "source": [
    "stoch_grad_desc_weights"
   ]
  },
  {
   "cell_type": "markdown",
   "metadata": {},
   "source": [
    "**Подивимося на середньоквадратичнепомилку на останній ітерації.**"
   ]
  },
  {
   "cell_type": "code",
   "execution_count": 225,
   "metadata": {},
   "outputs": [
    {
     "data": {
      "text/plain": [
       "2.873944824177364"
      ]
     },
     "execution_count": 225,
     "metadata": {},
     "output_type": "execute_result"
    }
   ],
   "source": [
    "stoch_errors_by_iter[-1]"
   ]
  },
  {
   "cell_type": "markdown",
   "metadata": {},
   "source": [
    "**Яка середньоквадратична помилка прогнозу значень Sales у вигляді лінійної моделі з вагами, знайденими за допомогою градієнтного спуску? Отриманий результат, округлений до 3 знаків після коми, є відповіддю на *'4 завдання'*.**"
   ]
  },
  {
   "cell_type": "code",
   "execution_count": 226,
   "metadata": {},
   "outputs": [
    {
     "name": "stdout",
     "output_type": "stream",
     "text": [
      "2.874\n"
     ]
    }
   ],
   "source": [
    "answer4 = mserror(y, linear_prediction(X,stoch_grad_desc_weights)) # Ваш код \n",
    "print(round(answer4, 3))\n",
    "def write_answer_4(answer):\n",
    "    answers = [answer]\n",
    "    with open(\"answer_4.txt\", \"w\") as fout:\n",
    "        fout.write(\" \".join([str(round(num, 3)) for num in answers]))\n",
    "write_answer_4(answer4)\n"
   ]
  },
  {
   "cell_type": "markdown",
   "metadata": {},
   "source": [
    "## Завантажте в classroom ваш файл КП02_Прізвище_linreg_stochastic_grad_descent.ipynb та отримані відповіді з файлів answer_1.txt, answer_2.txt, answer_3.txt,answer_4.txt"
   ]
  }
 ],
 "metadata": {
  "kernelspec": {
   "display_name": "Python 3 (ipykernel)",
   "language": "python",
   "name": "python3"
  },
  "language_info": {
   "codemirror_mode": {
    "name": "ipython",
    "version": 3
   },
   "file_extension": ".py",
   "mimetype": "text/x-python",
   "name": "python",
   "nbconvert_exporter": "python",
   "pygments_lexer": "ipython3",
   "version": "3.9.13"
  }
 },
 "nbformat": 4,
 "nbformat_minor": 1
}
